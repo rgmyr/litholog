{
 "cells": [
  {
   "cell_type": "markdown",
   "metadata": {},
   "source": [
    "# Demo of `litholog` functionality using the included demo data\n",
    "\n",
    "litholog is a package-level extension of agile-geoscience/striplog, with additional features that focus on lithology, and an API that is geared toward facilitating machine learning and quantitative analysis.\n",
    "\n",
    "The package provides two primary data structures:\n",
    "\n",
    "- `Bed`\n",
    "    - stores data from one bed (e.g., top, base, lithology, thickness, grain size, etc).\n",
    "    - is equivalent to a `striplog.Interval`\n",
    "\n",
    "- `BedSequence`\n",
    "    - stores a collection of `Beds` in stratigraphic order \n",
    "    - is equivalent to a `striplog.Striplog`\n",
    "\n",
    "Other utilities include:\n",
    "- transformations for grain-size data from millimeter (mm) to log2 (a.k.a. Psi) units, which are far easier to work with than mm. \n",
    "- calculation of the following metrics at the `BedSequence` level:\n",
    "    - net-to-gross\n",
    "    - amalgamation ratio\n",
    "    - psuedo gamma ray log\n",
    "    - Hurst statistics (for determining facies clustering)\n",
    "- default lithology colors\n",
    "\n",
    "The data provided with this demo come from two papers, and all logs were digitized using the Matlab digitizer included with this release.\n",
    "- 7 logs from Jobe et al. 2012 ([html](https://doi.org/10.1111/j.1365-3091.2011.01283.x), [pdf](https://www.dropbox.com/s/sgzmc1exd5vjd3h/2012%20Jobe%20et%20al%20Sed-%20Climbing%20ripple%20successions%20in%20turbidite%20systems.pdf?dl=0))\n",
    "- 11 logs from Jobe et al. 2010 ([html](https://doi.org/10.2110/jsr.2010.092), [pdf](https://www.dropbox.com/s/zo12v3ixm86yt7e/2010%20Jobe%20et%20al%20JSR%20-%20Submarine%20channel%20asymmetry.pdf?dl=0)), \n",
    "\n",
    "An example log from that paper is shown here, hand-drawn in vector-art software (left) and plotted with litholog (right):\n",
    "\n",
    "<img src=\"../images/example_log.png\" alt=\"Graphic log example\" width=\"400\">\n"
   ]
  },
  {
   "cell_type": "code",
   "execution_count": 1,
   "metadata": {},
   "outputs": [],
   "source": [
    "# import stuff\n",
    "import collections\n",
    "import inspect\n",
    "\n",
    "import numpy as np\n",
    "import pandas as pd\n",
    "\n",
    "import matplotlib.pyplot as plt\n",
    "plt.style.use('ggplot')\n",
    "\n",
    "import litholog\n",
    "from litholog import utils, Bed\n",
    "from litholog.sequence import io, BedSequence\n",
    "\n",
    "from striplog import Component"
   ]
  },
  {
   "cell_type": "markdown",
   "metadata": {},
   "source": [
    "## Load the demo data from a csv using pandas\n",
    "\n",
    "This first step uses `utils` within litholog to converts depth-grainsize pairs (e.g., that define a fining-upward profile in a bed) into pandas-friendly arrays. The outputs of this will be the fields shown below (e.g., `depth_m`, `grain_size_mm`). If you have differently formatted csv data, this step may not apply, or you may need a different util."
   ]
  },
  {
   "cell_type": "code",
   "execution_count": 2,
   "metadata": {
    "scrolled": false
   },
   "outputs": [
    {
     "name": "stdout",
     "output_type": "stream",
     "text": [
      "13 graphic logs imported: \n",
      " ['Karoo krf1' 'Karoo krf2' 'Karoo krf3' 'Karoo krf4' 'Karoo krf5'\n",
      " 'Magnolia' 'Pukearuhue' 'Sierra del Toro dc1' 'Sierra del Toro dc2'\n",
      " 'Sierra del Toro flame' 'Sierra del Toro h2o' 'Sierra del Toro ssm'\n",
      " 'Sierra del Toro wc']\n"
     ]
    },
    {
     "data": {
      "text/html": [
       "<div>\n",
       "<style scoped>\n",
       "    .dataframe tbody tr th:only-of-type {\n",
       "        vertical-align: middle;\n",
       "    }\n",
       "\n",
       "    .dataframe tbody tr th {\n",
       "        vertical-align: top;\n",
       "    }\n",
       "\n",
       "    .dataframe thead th {\n",
       "        text-align: right;\n",
       "    }\n",
       "</style>\n",
       "<table border=\"1\" class=\"dataframe\">\n",
       "  <thead>\n",
       "    <tr style=\"text-align: right;\">\n",
       "      <th></th>\n",
       "      <th>name</th>\n",
       "      <th>count</th>\n",
       "      <th>collection</th>\n",
       "      <th>eod</th>\n",
       "      <th>eodnum</th>\n",
       "      <th>tops</th>\n",
       "      <th>th</th>\n",
       "      <th>gs_tops_mm</th>\n",
       "      <th>snd_shl</th>\n",
       "      <th>mean_gs_mm</th>\n",
       "      <th>max_gs_mm</th>\n",
       "      <th>ng</th>\n",
       "      <th>ar</th>\n",
       "      <th>depth_m</th>\n",
       "      <th>grain_size_mm</th>\n",
       "    </tr>\n",
       "  </thead>\n",
       "  <tbody>\n",
       "    <tr>\n",
       "      <th>0</th>\n",
       "      <td>Karoo krf1</td>\n",
       "      <td>1</td>\n",
       "      <td>Skoorsteenberg</td>\n",
       "      <td>fan</td>\n",
       "      <td>1</td>\n",
       "      <td>21.042456</td>\n",
       "      <td>0.392483</td>\n",
       "      <td>0.173762</td>\n",
       "      <td>1.0</td>\n",
       "      <td>0.173762</td>\n",
       "      <td>0.173762</td>\n",
       "      <td>0.772615</td>\n",
       "      <td>0.104762</td>\n",
       "      <td>[21.0425, 20.65]</td>\n",
       "      <td>[0.1738, 0.1738]</td>\n",
       "    </tr>\n",
       "    <tr>\n",
       "      <th>1</th>\n",
       "      <td>Karoo krf1</td>\n",
       "      <td>1</td>\n",
       "      <td>Skoorsteenberg</td>\n",
       "      <td>fan</td>\n",
       "      <td>1</td>\n",
       "      <td>20.649974</td>\n",
       "      <td>0.244327</td>\n",
       "      <td>0.031250</td>\n",
       "      <td>0.0</td>\n",
       "      <td>0.031250</td>\n",
       "      <td>0.031250</td>\n",
       "      <td>0.772615</td>\n",
       "      <td>0.104762</td>\n",
       "      <td>[20.65, 20.4056]</td>\n",
       "      <td>[0.0583, 0.0583]</td>\n",
       "    </tr>\n",
       "    <tr>\n",
       "      <th>2</th>\n",
       "      <td>Karoo krf1</td>\n",
       "      <td>1</td>\n",
       "      <td>Skoorsteenberg</td>\n",
       "      <td>fan</td>\n",
       "      <td>1</td>\n",
       "      <td>20.405647</td>\n",
       "      <td>0.041588</td>\n",
       "      <td>0.119996</td>\n",
       "      <td>1.0</td>\n",
       "      <td>0.119996</td>\n",
       "      <td>0.119996</td>\n",
       "      <td>0.772615</td>\n",
       "      <td>0.104762</td>\n",
       "      <td>[20.4056, 20.3641]</td>\n",
       "      <td>[0.12, 0.12]</td>\n",
       "    </tr>\n",
       "    <tr>\n",
       "      <th>3</th>\n",
       "      <td>Karoo krf1</td>\n",
       "      <td>1</td>\n",
       "      <td>Skoorsteenberg</td>\n",
       "      <td>fan</td>\n",
       "      <td>1</td>\n",
       "      <td>20.364059</td>\n",
       "      <td>0.046786</td>\n",
       "      <td>0.031250</td>\n",
       "      <td>0.0</td>\n",
       "      <td>0.031250</td>\n",
       "      <td>0.031250</td>\n",
       "      <td>0.772615</td>\n",
       "      <td>0.104762</td>\n",
       "      <td>[20.3641, 20.3173]</td>\n",
       "      <td>[0.0583, 0.0583]</td>\n",
       "    </tr>\n",
       "    <tr>\n",
       "      <th>4</th>\n",
       "      <td>Karoo krf1</td>\n",
       "      <td>1</td>\n",
       "      <td>Skoorsteenberg</td>\n",
       "      <td>fan</td>\n",
       "      <td>1</td>\n",
       "      <td>20.317273</td>\n",
       "      <td>0.106568</td>\n",
       "      <td>0.133082</td>\n",
       "      <td>1.0</td>\n",
       "      <td>0.133082</td>\n",
       "      <td>0.133082</td>\n",
       "      <td>0.772615</td>\n",
       "      <td>0.104762</td>\n",
       "      <td>[20.3173, 20.2107]</td>\n",
       "      <td>[0.1331, 0.1331]</td>\n",
       "    </tr>\n",
       "  </tbody>\n",
       "</table>\n",
       "</div>"
      ],
      "text/plain": [
       "         name  count      collection  eod  eodnum       tops        th  \\\n",
       "0  Karoo krf1      1  Skoorsteenberg  fan       1  21.042456  0.392483   \n",
       "1  Karoo krf1      1  Skoorsteenberg  fan       1  20.649974  0.244327   \n",
       "2  Karoo krf1      1  Skoorsteenberg  fan       1  20.405647  0.041588   \n",
       "3  Karoo krf1      1  Skoorsteenberg  fan       1  20.364059  0.046786   \n",
       "4  Karoo krf1      1  Skoorsteenberg  fan       1  20.317273  0.106568   \n",
       "\n",
       "   gs_tops_mm  snd_shl  mean_gs_mm  max_gs_mm        ng        ar  \\\n",
       "0    0.173762      1.0    0.173762   0.173762  0.772615  0.104762   \n",
       "1    0.031250      0.0    0.031250   0.031250  0.772615  0.104762   \n",
       "2    0.119996      1.0    0.119996   0.119996  0.772615  0.104762   \n",
       "3    0.031250      0.0    0.031250   0.031250  0.772615  0.104762   \n",
       "4    0.133082      1.0    0.133082   0.133082  0.772615  0.104762   \n",
       "\n",
       "              depth_m     grain_size_mm  \n",
       "0    [21.0425, 20.65]  [0.1738, 0.1738]  \n",
       "1    [20.65, 20.4056]  [0.0583, 0.0583]  \n",
       "2  [20.4056, 20.3641]      [0.12, 0.12]  \n",
       "3  [20.3641, 20.3173]  [0.0583, 0.0583]  \n",
       "4  [20.3173, 20.2107]  [0.1331, 0.1331]  "
      ]
     },
     "execution_count": 2,
     "metadata": {},
     "output_type": "execute_result"
    }
   ],
   "source": [
    "# Converts 'string' arrays to numpy\n",
    "transforms = {c : utils.string2array_matlab for c in ['depth_m', \n",
    "                                                      'grain_size_mm']}\n",
    "\n",
    "# Read the demo data\n",
    "df = pd.read_csv('../data/demo_data.csv', converters=transforms)\n",
    "\n",
    "# counts and prints the names of the logs in the data file\n",
    "print(len(df.name.unique()),\n",
    "      'graphic logs imported:',\n",
    "      '\\n',\n",
    "      df.name.unique()) \n",
    "\n",
    "df.head() # displays the first five rows of data"
   ]
  },
  {
   "cell_type": "markdown",
   "metadata": {},
   "source": [
    "The variable `df` is just a pandas DataFrame at this point - it hasn't been put into `litholog` format yet. \n",
    "\n",
    "Notice that the columns `ng` (net-to-gross) and `ar` (amalgamation ratio) are the same for each graphic log. This csv was processed using Matlab, and `ng` and `ar` were calculated there. Not to worry, `litholog` can also calculate these metrics, which we will show you how to do below. \n",
    "\n",
    "### Use `wentworth` to make log2 grain size data \n",
    "Before we translate the dataframe into `BedSequences`, let's create a log2 grain-size column. We will use the functionality of `wentworth` to do this, and we will create PSI units instead of PHI units, because they increase with increasing grain size. We simply take the `grain_size_mm` column and translate it to psi units (`grain_size_psi`): "
   ]
  },
  {
   "cell_type": "code",
   "execution_count": 3,
   "metadata": {},
   "outputs": [
    {
     "data": {
      "text/html": [
       "<div>\n",
       "<style scoped>\n",
       "    .dataframe tbody tr th:only-of-type {\n",
       "        vertical-align: middle;\n",
       "    }\n",
       "\n",
       "    .dataframe tbody tr th {\n",
       "        vertical-align: top;\n",
       "    }\n",
       "\n",
       "    .dataframe thead th {\n",
       "        text-align: right;\n",
       "    }\n",
       "</style>\n",
       "<table border=\"1\" class=\"dataframe\">\n",
       "  <thead>\n",
       "    <tr style=\"text-align: right;\">\n",
       "      <th></th>\n",
       "      <th>name</th>\n",
       "      <th>count</th>\n",
       "      <th>collection</th>\n",
       "      <th>eod</th>\n",
       "      <th>eodnum</th>\n",
       "      <th>tops</th>\n",
       "      <th>th</th>\n",
       "      <th>gs_tops_mm</th>\n",
       "      <th>snd_shl</th>\n",
       "      <th>mean_gs_mm</th>\n",
       "      <th>max_gs_mm</th>\n",
       "      <th>ng</th>\n",
       "      <th>ar</th>\n",
       "      <th>depth_m</th>\n",
       "      <th>grain_size_mm</th>\n",
       "      <th>grain_size_psi</th>\n",
       "    </tr>\n",
       "  </thead>\n",
       "  <tbody>\n",
       "    <tr>\n",
       "      <th>0</th>\n",
       "      <td>Karoo krf1</td>\n",
       "      <td>1</td>\n",
       "      <td>Skoorsteenberg</td>\n",
       "      <td>fan</td>\n",
       "      <td>1</td>\n",
       "      <td>21.042456</td>\n",
       "      <td>0.392483</td>\n",
       "      <td>0.173762</td>\n",
       "      <td>1.0</td>\n",
       "      <td>0.173762</td>\n",
       "      <td>0.173762</td>\n",
       "      <td>0.772615</td>\n",
       "      <td>0.104762</td>\n",
       "      <td>[21.0425, 20.65]</td>\n",
       "      <td>[0.1738, 0.1738]</td>\n",
       "      <td>[-2.5245, -2.5245]</td>\n",
       "    </tr>\n",
       "    <tr>\n",
       "      <th>1</th>\n",
       "      <td>Karoo krf1</td>\n",
       "      <td>1</td>\n",
       "      <td>Skoorsteenberg</td>\n",
       "      <td>fan</td>\n",
       "      <td>1</td>\n",
       "      <td>20.649974</td>\n",
       "      <td>0.244327</td>\n",
       "      <td>0.031250</td>\n",
       "      <td>0.0</td>\n",
       "      <td>0.031250</td>\n",
       "      <td>0.031250</td>\n",
       "      <td>0.772615</td>\n",
       "      <td>0.104762</td>\n",
       "      <td>[20.65, 20.4056]</td>\n",
       "      <td>[0.0583, 0.0583]</td>\n",
       "      <td>[-4.1004, -4.1004]</td>\n",
       "    </tr>\n",
       "    <tr>\n",
       "      <th>2</th>\n",
       "      <td>Karoo krf1</td>\n",
       "      <td>1</td>\n",
       "      <td>Skoorsteenberg</td>\n",
       "      <td>fan</td>\n",
       "      <td>1</td>\n",
       "      <td>20.405647</td>\n",
       "      <td>0.041588</td>\n",
       "      <td>0.119996</td>\n",
       "      <td>1.0</td>\n",
       "      <td>0.119996</td>\n",
       "      <td>0.119996</td>\n",
       "      <td>0.772615</td>\n",
       "      <td>0.104762</td>\n",
       "      <td>[20.4056, 20.3641]</td>\n",
       "      <td>[0.12, 0.12]</td>\n",
       "      <td>[-3.0589, -3.0589]</td>\n",
       "    </tr>\n",
       "    <tr>\n",
       "      <th>3</th>\n",
       "      <td>Karoo krf1</td>\n",
       "      <td>1</td>\n",
       "      <td>Skoorsteenberg</td>\n",
       "      <td>fan</td>\n",
       "      <td>1</td>\n",
       "      <td>20.364059</td>\n",
       "      <td>0.046786</td>\n",
       "      <td>0.031250</td>\n",
       "      <td>0.0</td>\n",
       "      <td>0.031250</td>\n",
       "      <td>0.031250</td>\n",
       "      <td>0.772615</td>\n",
       "      <td>0.104762</td>\n",
       "      <td>[20.3641, 20.3173]</td>\n",
       "      <td>[0.0583, 0.0583]</td>\n",
       "      <td>[-4.1004, -4.1004]</td>\n",
       "    </tr>\n",
       "    <tr>\n",
       "      <th>4</th>\n",
       "      <td>Karoo krf1</td>\n",
       "      <td>1</td>\n",
       "      <td>Skoorsteenberg</td>\n",
       "      <td>fan</td>\n",
       "      <td>1</td>\n",
       "      <td>20.317273</td>\n",
       "      <td>0.106568</td>\n",
       "      <td>0.133082</td>\n",
       "      <td>1.0</td>\n",
       "      <td>0.133082</td>\n",
       "      <td>0.133082</td>\n",
       "      <td>0.772615</td>\n",
       "      <td>0.104762</td>\n",
       "      <td>[20.3173, 20.2107]</td>\n",
       "      <td>[0.1331, 0.1331]</td>\n",
       "      <td>[-2.9094, -2.9094]</td>\n",
       "    </tr>\n",
       "  </tbody>\n",
       "</table>\n",
       "</div>"
      ],
      "text/plain": [
       "         name  count      collection  eod  eodnum       tops        th  \\\n",
       "0  Karoo krf1      1  Skoorsteenberg  fan       1  21.042456  0.392483   \n",
       "1  Karoo krf1      1  Skoorsteenberg  fan       1  20.649974  0.244327   \n",
       "2  Karoo krf1      1  Skoorsteenberg  fan       1  20.405647  0.041588   \n",
       "3  Karoo krf1      1  Skoorsteenberg  fan       1  20.364059  0.046786   \n",
       "4  Karoo krf1      1  Skoorsteenberg  fan       1  20.317273  0.106568   \n",
       "\n",
       "   gs_tops_mm  snd_shl  mean_gs_mm  max_gs_mm        ng        ar  \\\n",
       "0    0.173762      1.0    0.173762   0.173762  0.772615  0.104762   \n",
       "1    0.031250      0.0    0.031250   0.031250  0.772615  0.104762   \n",
       "2    0.119996      1.0    0.119996   0.119996  0.772615  0.104762   \n",
       "3    0.031250      0.0    0.031250   0.031250  0.772615  0.104762   \n",
       "4    0.133082      1.0    0.133082   0.133082  0.772615  0.104762   \n",
       "\n",
       "              depth_m     grain_size_mm      grain_size_psi  \n",
       "0    [21.0425, 20.65]  [0.1738, 0.1738]  [-2.5245, -2.5245]  \n",
       "1    [20.65, 20.4056]  [0.0583, 0.0583]  [-4.1004, -4.1004]  \n",
       "2  [20.4056, 20.3641]      [0.12, 0.12]  [-3.0589, -3.0589]  \n",
       "3  [20.3641, 20.3173]  [0.0583, 0.0583]  [-4.1004, -4.1004]  \n",
       "4  [20.3173, 20.2107]  [0.1331, 0.1331]  [-2.9094, -2.9094]  "
      ]
     },
     "execution_count": 3,
     "metadata": {},
     "output_type": "execute_result"
    }
   ],
   "source": [
    "df['grain_size_psi'] = df.grain_size_mm.apply(lambda x: np.round(litholog.wentworth.gs2psi(x),4))\n",
    "df.head()"
   ]
  },
  {
   "cell_type": "markdown",
   "metadata": {},
   "source": [
    "\n",
    "--- \n",
    "\n",
    "---\n",
    "\n",
    "## Convert dataframe to `BedSequence`s\n",
    "\n",
    "This is the step that will convert our dataframe into `BedSequences` (equivalent to a `striplog.Striplog`) that contains `Beds` (equivalent to `striplog.Intervals`).\n",
    "\n",
    "The component map sets the `primary` data for each `Bed` - see other ways to do this in the `litholog_basics.ipynb`"
   ]
  },
  {
   "cell_type": "code",
   "execution_count": 4,
   "metadata": {
    "scrolled": true
   },
   "outputs": [
    {
     "name": "stdout",
     "output_type": "stream",
     "text": [
      "13 logs imported as BedSequences\n"
     ]
    },
    {
     "data": {
      "text/plain": [
       "[('Karoo krf1', 105, 'Beds'),\n",
       " ('Karoo krf2', 20, 'Beds'),\n",
       " ('Karoo krf3', 42, 'Beds'),\n",
       " ('Karoo krf4', 15, 'Beds'),\n",
       " ('Karoo krf5', 51, 'Beds'),\n",
       " ('Magnolia', 181, 'Beds'),\n",
       " ('Pukearuhue', 211, 'Beds'),\n",
       " ('Sierra del Toro dc1', 166, 'Beds'),\n",
       " ('Sierra del Toro dc2', 44, 'Beds'),\n",
       " ('Sierra del Toro flame', 63, 'Beds'),\n",
       " ('Sierra del Toro h2o', 66, 'Beds'),\n",
       " ('Sierra del Toro ssm', 54, 'Beds'),\n",
       " ('Sierra del Toro wc', 38, 'Beds')]"
      ]
     },
     "execution_count": 4,
     "metadata": {},
     "output_type": "execute_result"
    }
   ],
   "source": [
    "# Columns shared by whole sequences (i.e., shared by an entire graphic log)\n",
    "METACOLS = ['name', 'collection', 'ng', 'ar']\n",
    "\n",
    "# Columns of bed-level data, including the psi column we just made\n",
    "DATACOLS = ['th', 'gs_tops_mm', 'snd_shl', 'depth_m',\n",
    "            'gs_tops_mm', 'mean_gs_mm', 'max_gs_mm', 'grain_size_mm','grain_size_psi']\n",
    "\n",
    "# Convert dataframe to a list of `BedSequence`s\n",
    "seqs = []\n",
    "for group, values in df.groupby('name'):\n",
    "    seqs.append(\n",
    "        BedSequence.from_dataframe(\n",
    "            values, \n",
    "            thickcol='th',\n",
    "            component_map=litholog.defaults.DEFAULT_COMPONENT_MAP,\n",
    "            metacols=METACOLS,\n",
    "            datacols=DATACOLS,\n",
    "        )\n",
    "    )\n",
    "    \n",
    "# Show name + eod + number of beds of each\n",
    "print(len(seqs),'logs imported as BedSequences')\n",
    "\n",
    "[(s.metadata['name'], len(s),'Beds') for s in seqs]"
   ]
  },
  {
   "cell_type": "code",
   "execution_count": 5,
   "metadata": {},
   "outputs": [
    {
     "data": {
      "text/plain": [
       "['Karoo krf1',\n",
       " 'Karoo krf5',\n",
       " 'Magnolia',\n",
       " 'Pukearuhue',\n",
       " 'Sierra del Toro dc1',\n",
       " 'Sierra del Toro h2o']"
      ]
     },
     "execution_count": 5,
     "metadata": {},
     "output_type": "execute_result"
    }
   ],
   "source": [
    "# nice way to parse data to get only BedSequences with more than 30 sand beds\n",
    "thirty = list(filter(lambda s: len(s.get_field('th', 'sand')) >= 30, seqs))\n",
    "\n",
    "# display the names\n",
    "[(s.metadata['name']) for s in thirty]"
   ]
  },
  {
   "cell_type": "markdown",
   "metadata": {},
   "source": [
    "## Basic data retrieval from a `BedSequence` and its `Bed`s\n",
    "### `BedSequence`"
   ]
  },
  {
   "cell_type": "code",
   "execution_count": 6,
   "metadata": {},
   "outputs": [
    {
     "data": {
      "text/plain": [
       "[Striplog(181 Intervals, start=0.0, stop=59.999347598),\n",
       " Striplog(54 Intervals, start=0.0, stop=65.99495201)]"
      ]
     },
     "execution_count": 6,
     "metadata": {},
     "output_type": "execute_result"
    }
   ],
   "source": [
    "# Choose two logs to use as examples\n",
    "magnolia = seqs[5] # a core description from the Gulf of Mexico\n",
    "\n",
    "testseq = seqs[-2] # an outcrop log from Chile\n",
    "\n",
    "# see what they look like\n",
    "[magnolia, testseq]"
   ]
  },
  {
   "cell_type": "code",
   "execution_count": null,
   "metadata": {},
   "outputs": [],
   "source": [
    "# Order is important for logs, and it is either elevation or depth\n",
    "print('Magnolia is a core so it has order:',magnolia.order,'\\n'\n",
    "      'all other demo BedSequences are elevation ordered')\n",
    "\n",
    "# here are all the orders:\n",
    "[[s.order, s.metadata['name']] for s in seqs]"
   ]
  },
  {
   "cell_type": "code",
   "execution_count": null,
   "metadata": {},
   "outputs": [],
   "source": [
    "# access the base and top of a BedSequence\n",
    "testseq.start, testseq.stop"
   ]
  },
  {
   "cell_type": "code",
   "execution_count": null,
   "metadata": {},
   "outputs": [],
   "source": [
    "# Access the metadata\n",
    "print(testseq.metadata)\n",
    "\n",
    "testseq.metadata['ng']"
   ]
  },
  {
   "cell_type": "code",
   "execution_count": null,
   "metadata": {},
   "outputs": [],
   "source": [
    "# Access the `data` fields, which are numpy arrays\n",
    "print(type(testseq.get_field('th')))\n",
    "print(testseq.get_field('th'))"
   ]
  },
  {
   "cell_type": "code",
   "execution_count": null,
   "metadata": {},
   "outputs": [],
   "source": [
    "print('total thickness is',testseq.get_field('th').sum(),'meters')\n",
    "print('maximum Bed thickness is',testseq.max_field('th'),'meters')\n",
    "print('minimum Bed thickness is',testseq.min_field('th'),'meters')\n",
    "print('maximum grain size is',testseq.max_field('grain_size_mm'),'mm')"
   ]
  },
  {
   "cell_type": "markdown",
   "metadata": {},
   "source": [
    "### `Bed`\n",
    "Now let's take a look at one `Bed`. All `Beds` must have a `top`, `base`, and `data`, which can be array or dict-like. You will note that there is a `primary` field as well, which is defined using the `Component` from `striplog` or a component map, as we did above"
   ]
  },
  {
   "cell_type": "code",
   "execution_count": null,
   "metadata": {},
   "outputs": [],
   "source": [
    "testseq[-1] # In elevation order, the lowermost bed is the last one [-1] instead of the first one [0]"
   ]
  },
  {
   "cell_type": "code",
   "execution_count": null,
   "metadata": {},
   "outputs": [],
   "source": [
    "# if a log is elevation-ordered, the last bed should have a base at zero\n",
    "testseq[-1].base"
   ]
  },
  {
   "cell_type": "code",
   "execution_count": null,
   "metadata": {},
   "outputs": [],
   "source": [
    "# what about a depth-oprdered core? \n",
    "magnolia[0].top\n",
    "# if this core was really in depth units (e.g., measured depth), \n",
    "# the top would be whatever depth the core top was. In this case, \n",
    "# the depths were manually transformed to meters prior to digitization"
   ]
  },
  {
   "cell_type": "code",
   "execution_count": null,
   "metadata": {},
   "outputs": [],
   "source": [
    "print(testseq[-1].top.upper) # see the striplog Interval class for info on upper, middle, and lower\n",
    "print(testseq[-1].primary.lithology)\n",
    "print(testseq[-1].data['mean_gs_mm'])\n",
    "print('Mean grain size:',litholog.wentworth.gs2name(testseq[-1].data['mean_gs_mm']))\n",
    "print('Grain size at top of bed:',litholog.wentworth.gs2name(testseq[-1].data['gs_tops_mm']))"
   ]
  },
  {
   "cell_type": "code",
   "execution_count": null,
   "metadata": {},
   "outputs": [],
   "source": [
    "# Let's look at the uppermost bed now\n",
    "print(testseq[0].lithology)\n",
    "print(testseq[0].summary())"
   ]
  },
  {
   "cell_type": "code",
   "execution_count": null,
   "metadata": {},
   "outputs": [],
   "source": [
    "# get one bed top using an index\n",
    "print(testseq[0].top.middle)\n",
    "\n",
    "# get the first five bed tops using list comprehension (see striplog docs for attributes of top and base (e.g., base, middle, upper))\n",
    "print('first five',[bed.top.middle for bed in testseq[0:5]])\n",
    "\n",
    "# or you can build a simple loop\n",
    "for bed in testseq[0:5]:\n",
    "    print(bed.top.middle)"
   ]
  },
  {
   "cell_type": "code",
   "execution_count": null,
   "metadata": {},
   "outputs": [],
   "source": [
    "# lets look at a covered interval - note  the NaNs for grain size\n",
    "testseq[-11]"
   ]
  },
  {
   "cell_type": "markdown",
   "metadata": {},
   "source": [
    "## Plotting\n",
    "### Basic plotting"
   ]
  },
  {
   "cell_type": "code",
   "execution_count": null,
   "metadata": {
    "scrolled": true
   },
   "outputs": [],
   "source": [
    "# the most simple plot, but doesnt include any bed-level grain size data (e.g., fining-upwards)\n",
    "testseq.plot()"
   ]
  },
  {
   "cell_type": "markdown",
   "metadata": {},
   "source": [
    "### Including intra-`Bed` grain-size data in a plot"
   ]
  },
  {
   "cell_type": "code",
   "execution_count": 7,
   "metadata": {
    "scrolled": true
   },
   "outputs": [
    {
     "data": {
      "image/png": "[encoded data removed]",
      "text/plain": [
       "<Figure size 216x1440 with 1 Axes>"
      ]
     },
     "metadata": {},
     "output_type": "display_data"
    }
   ],
   "source": [
    "# here is a little nicer way to plot it that includes the grain size data for each bed\n",
    "\n",
    "fig, ax = plt.subplots(figsize=[3,20])\n",
    "\n",
    "testseq.plot(ax=ax,\n",
    "             legend=litholog.defaults.litholegend,\n",
    "             width_field='grain_size_psi',\n",
    "             depth_field='depth_m',\n",
    "             wentworth='fine'\n",
    "            )\n",
    "\n",
    "ax.set_title(testseq.metadata['name']);\n",
    "\n",
    "# can save it by uncommenting this line\n",
    "#plt.savefig('testseq.svg')"
   ]
  },
  {
   "cell_type": "markdown",
   "metadata": {},
   "source": [
    "#### Extracting fining-upwards profiles from a `Bed`"
   ]
  },
  {
   "cell_type": "code",
   "execution_count": null,
   "metadata": {},
   "outputs": [],
   "source": [
    "gs=testseq[-1].data['grain_size_psi'] # get just one field from a Bed\n",
    "de=testseq[-1].data['depth_m'] \n",
    "\n",
    "plt.plot(gs,de,'k')\n",
    "if testseq.order=='depth': \n",
    "    plt.gca().invert_yaxis()\n",
    "    print('depth ordered')\n",
    "    \n",
    "plt.title('Fining upward trend from one Bed');"
   ]
  },
  {
   "cell_type": "code",
   "execution_count": null,
   "metadata": {},
   "outputs": [],
   "source": [
    "# and we can do it for all beds that are classified as `sand`:\n",
    "fig, ax = plt.subplots()\n",
    "for bed in testseq:\n",
    "    if bed.lithology=='sand':\n",
    "        gs=bed.data['grain_size_psi']\n",
    "        \n",
    "        de=bed.data['depth_m']\n",
    "        de=np.max(de)-de # normalize to zero so they will all plot together\n",
    "        if testseq.order=='elevation':\n",
    "            de=np.flip(de)\n",
    "        ax.plot(gs,de,'k')"
   ]
  },
  {
   "cell_type": "markdown",
   "metadata": {},
   "source": [
    "### Flipping the order of a BedSequence"
   ]
  },
  {
   "cell_type": "code",
   "execution_count": null,
   "metadata": {},
   "outputs": [],
   "source": [
    "testseq.order"
   ]
  },
  {
   "cell_type": "code",
   "execution_count": null,
   "metadata": {},
   "outputs": [],
   "source": [
    "# flipping to depth order (Note - this doesnt change the BedSequence at all, just replots it)\n",
    "testseq.flip_convention(depth_key='depth_m').plot(\n",
    "    legend=litholog.defaults.litholegend, \n",
    "    fig_width=3, \n",
    "    aspect=5,\n",
    "    width_field='grain_size_psi',\n",
    "    depth_field='depth_m',\n",
    "    wentworth='coarse');\n",
    "\n",
    "# note that this doesn't change the order, it just creates the plot\n",
    "print(testseq.order)"
   ]
  },
  {
   "cell_type": "code",
   "execution_count": null,
   "metadata": {},
   "outputs": [],
   "source": [
    "# Now let's flip Magnolia from depth to elevation\n",
    "magnolia.flip_convention(depth_key='depth_m').plot(\n",
    "    legend=litholog.defaults.litholegend, \n",
    "    fig_width=3, \n",
    "    aspect=5, \n",
    "    width_field='grain_size_psi',\n",
    "    depth_field='depth_m',\n",
    "    wentworth='coarse')"
   ]
  },
  {
   "cell_type": "markdown",
   "metadata": {},
   "source": [
    "### Plot mulitple logs at the same scale (i.e., a correlation panel)\n",
    "By using matplotlib's `subplots`, we can plot several `BedSequences` at the same scale, which is commonly done for many purposes, including creating correlation panels. Note that this functionality could be vastly improved upon, but it'll do for now."
   ]
  },
  {
   "cell_type": "code",
   "execution_count": null,
   "metadata": {},
   "outputs": [],
   "source": [
    "fig, ax = plt.subplots(ncols=3, sharey=True, figsize=(10,20))\n",
    "\n",
    "seqs[-4].plot(legend=litholog.defaults.litholegend,\n",
    "             width_field='grain_size_psi',\n",
    "             depth_field='depth_m',\n",
    "             ax=ax[0])\n",
    "\n",
    "seqs[-3].plot(legend=litholog.defaults.litholegend,\n",
    "             width_field='grain_size_psi',\n",
    "             depth_field='depth_m',\n",
    "             ax=ax[1])\n",
    "\n",
    "seqs[-2].plot(legend=litholog.defaults.litholegend,\n",
    "             width_field='grain_size_psi',\n",
    "             depth_field='depth_m',\n",
    "             ax=ax[2])\n",
    "\n",
    "ax[0].set_ylim([0,110]); # could clean this up into a function to recommend ylim, but for now it's fine"
   ]
  },
  {
   "cell_type": "markdown",
   "metadata": {},
   "source": [
    "## Save out images"
   ]
  },
  {
   "cell_type": "code",
   "execution_count": null,
   "metadata": {},
   "outputs": [],
   "source": [
    "for i,s in enumerate(seqs):\n",
    "    print(i, end=',')\n",
    "    fig, ax = plt.subplots(figsize=[5,25])\n",
    "    s.plot(ax=ax,\n",
    "             legend=litholog.defaults.litholegend,\n",
    "             width_field='grain_size_psi',\n",
    "             depth_field='depth_m',\n",
    "             wentworth='fine'\n",
    "            )\n",
    "    title_str = s.metadata['name']\n",
    "    ax.set_title(title_str);\n",
    "    plt.tight_layout()\n",
    "    fig.savefig(title_str+'.png')\n",
    "    plt.close(fig)"
   ]
  },
  {
   "cell_type": "markdown",
   "metadata": {},
   "source": [
    "## Statistics for BedSequences"
   ]
  },
  {
   "cell_type": "code",
   "execution_count": null,
   "metadata": {},
   "outputs": [],
   "source": [
    "print(testseq.metadata)\n",
    "\n",
    "# Properties computed on the fly\n",
    "print(testseq.net_to_gross,';',testseq.amalgamation_ratio)\n",
    "\n",
    "print('N:G from Matlab:',round(testseq.metadata['ng'],3),'\\n',\n",
    "      'N:G from litholog:',round(testseq.net_to_gross,3))"
   ]
  },
  {
   "cell_type": "code",
   "execution_count": null,
   "metadata": {},
   "outputs": [],
   "source": [
    "# Hurst statistics\n",
    "print(testseq.hurst_K('th', 'sand'))\n",
    "\n",
    "# Returns (D, p, hurst_K)\n",
    "testseq.hurst_D('th', 'sand', nsamples=10000)"
   ]
  },
  {
   "cell_type": "markdown",
   "metadata": {},
   "source": [
    "## Pseudo gamma-ray log\n",
    "We include functionality to create a simple pseudo GR curve of a `BedSequence`.\n",
    "\n",
    "First, let's define some functions to help us make this plot. Note, these functions only really work when you are plotting the same log (i.e., the log itself and the pseudo GR) - if you are plotting two logs together, see above example... "
   ]
  },
  {
   "cell_type": "code",
   "execution_count": null,
   "metadata": {},
   "outputs": [],
   "source": [
    "def suggest_figsize(sequence, aspect=10):\n",
    "    \"\"\"\n",
    "    Defining default a total thickness -> figure size mapping.\n",
    "    \"\"\"\n",
    "    suggest_h = max(10, min(sequence.cum, 50))\n",
    "    suggest_w = suggest_h / aspect\n",
    "    return (suggest_w, suggest_h)\n",
    "\n",
    "def strip_fig_extra_columns(ax_num, sequence, ncols, exxon_style=True, figsize=None, aspect=10):\n",
    "    \"\"\"\n",
    "    Creates a fig with `ncol` axes and plots `sequence` on one of them.\n",
    "    If `exxon_style`, plots `sequence` on first axis, otherwise last axis.\n",
    "    Returns\n",
    "    -------\n",
    "    fig, ax\n",
    "    \"\"\"\n",
    "    w, h = suggest_figsize(sequence, aspect=aspect)\n",
    "    print(w, h)\n",
    "\n",
    "    fig, ax = plt.subplots(ncols=ncols, sharey=True, figsize=(w*ncols, h))\n",
    "    #fig.subplots_adjust(wspace=0.)\n",
    "\n",
    "    sequence.plot(legend=litholog.defaults.litholegend,\n",
    "                  width_field='grain_size_psi',\n",
    "                  depth_field='depth_m',\n",
    "                  ax=ax[ax_num])\n",
    "\n",
    "    return fig, ax"
   ]
  },
  {
   "cell_type": "code",
   "execution_count": null,
   "metadata": {},
   "outputs": [],
   "source": [
    "# Now let's plot it\n",
    "# The values you see are the defaults:\n",
    "ds, pgr = testseq.pseudo_gamma_simple(\n",
    "    gs_field='grain_size_mm',\n",
    "    depth_field='depth_m',\n",
    "    resolution=0.2,\n",
    "    gs_cutoff=0.0625,\n",
    "    gamma_range=(30, 180),\n",
    "    sigma=0.1,\n",
    "    noise=10.\n",
    ")\n",
    "\n",
    "fig, ax = strip_fig_extra_columns(0, testseq, 2, aspect=9)\n",
    "\n",
    "cutoff = 100\n",
    "\n",
    "ax[1].plot(pgr, ds, 'k')\n",
    "ax[1].fill_betweenx(ds, pgr, np.repeat(cutoff, ds.size), where=(pgr<cutoff), color='yellow')\n",
    "\n",
    "ax[1].set_xlim([0,200])"
   ]
  },
  {
   "cell_type": "markdown",
   "metadata": {},
   "source": [
    "## Other methods not demonstrated here\n",
    "\n",
    "There are a few methods that we didn't demonstrate here, including a `resample_data` , which is handy for depth-based resampling of grain size data (e.g., to export into Petrel or other software). \n",
    "\n",
    "We would love your feedback on `litholog` and pull-requests to make it better!"
   ]
  },
  {
   "cell_type": "code",
   "execution_count": null,
   "metadata": {},
   "outputs": [],
   "source": []
  }
 ],
 "metadata": {
  "interpreter": {
   "hash": "dca0ade3e726a953b501b15e8e990130d2b7799f14cfd9f4271676035ebe5511"
  },
  "kernelspec": {
   "display_name": "Python 3 (ipykernel)",
   "language": "python",
   "name": "python3"
  },
  "language_info": {
   "codemirror_mode": {
    "name": "ipython",
    "version": 3
   },
   "file_extension": ".py",
   "mimetype": "text/x-python",
   "name": "python",
   "nbconvert_exporter": "python",
   "pygments_lexer": "ipython3",
   "version": "3.8.11"
  }
 },
 "nbformat": 4,
 "nbformat_minor": 2
}
