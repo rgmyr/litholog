{
 "cells": [
  {
   "cell_type": "markdown",
   "metadata": {},
   "source": [
    "# Demo of `litholog` functionality\n",
    "\n",
    "litholog is a package-level extension of agile-geoscience/striplog, with additional features that focus on lithology, and an API that is geared toward facilitating machine learning and quantitative analysis.\n",
    "\n",
    "The package provides two primary data structures:\n",
    "\n",
    "- `Bed`\n",
    "    - stores data from one bed (e.g., top, base, lithology, thickness, grain size, etc).\n",
    "    - is equivalent to a `striplog.Interval`\n",
    "\n",
    "- `BedSequence`\n",
    "    - stores a collection of `Beds` in stratigraphic order \n",
    "    - is equivalent to a `striplog.Striplog`\n",
    "\n",
    "\n",
    "Other utilities include:\n",
    "- transformations for grain-size data from millimeter (mm) to log2 (a.k.a. Psi) units, which are far easier to work with than mm. \n",
    "- calculation of the following metrics at the `BedSequence` level:\n",
    "    - net-to-gross\n",
    "    - amalgamation ratio\n",
    "    - psuedo gamma ray log\n",
    "    - Hurst statistics (for determining facies clustering)\n",
    "- default lithology colors\n",
    "\n",
    "The data provided with this demo come from two papers, and all logs were digitized using the Matlab digitizer included with this release.\n",
    "- 19 logs from Jobe et al. 2012 ([html](https://doi.org/10.1111/j.1365-3091.2011.01283.x), [pdf](https://www.dropbox.com/s/sgzmc1exd5vjd3h/2012%20Jobe%20et%20al%20Sed-%20Climbing%20ripple%20successions%20in%20turbidite%20systems.pdf?dl=0))\n",
    "- 11 logs from Jobe et al. 2010 ([html](https://doi.org/10.2110/jsr.2010.092), [pdf](https://www.dropbox.com/s/zo12v3ixm86yt7e/2010%20Jobe%20et%20al%20JSR%20-%20Submarine%20channel%20asymmetry.pdf?dl=0)), \n",
    "\n",
    "An example log from that paper is shown here, drafted in a vector-drawing program:\n",
    "<img src=\"../images/example_log.png\" alt=\"Example graphic log from Jobe et al. (2012)\" width=\"500\"/>\n",
    "\n",
    "When plotted with litholog looks like this:\n",
    "\n",
    "\n",
    "---\n",
    "---\n",
    "\n",
    "\n",
    "## Import some packages, including `litholog`"
   ]
  },
  {
   "cell_type": "code",
   "execution_count": 1,
   "metadata": {},
   "outputs": [],
   "source": [
    "import collections\n",
    "import inspect\n",
    "\n",
    "import numpy as np\n",
    "import pandas as pd\n",
    "\n",
    "import matplotlib.pyplot as plt\n",
    "plt.style.use('ggplot')\n",
    "\n",
    "import litholog\n",
    "from litholog import utils, Bed\n",
    "from litholog.sequence import io, BedSequence\n",
    "\n",
    "from striplog import Component"
   ]
  },
  {
   "cell_type": "markdown",
   "metadata": {},
   "source": [
    "# Demo data\n",
    "\n",
    "## Load the raw `csv` data\n",
    "\n",
    "This first step uses `utils` within litholog to converts depth-grainsize pairs (e.g., that define a fining-upward profile in a bed) into pandas-friendly arrays. The outputs of this will be the fields shown below (e.g., `depth_m`, `grain_size_mm`). If you have differently formatted csv data, this step may not apply, or you may need a different util."
   ]
  },
  {
   "cell_type": "code",
   "execution_count": 2,
   "metadata": {
    "scrolled": true
   },
   "outputs": [
    {
     "name": "stdout",
     "output_type": "stream",
     "text": [
      "13 graphic logs imported: \n",
      " ['Karoo krf1' 'Karoo krf2' 'Karoo krf3' 'Karoo krf4' 'Karoo krf5'\n",
      " 'Magnolia' 'Pukearuhue' 'Sierra del Toro dc1' 'Sierra del Toro dc2'\n",
      " 'Sierra del Toro flame' 'Sierra del Toro h2o' 'Sierra del Toro ssm'\n",
      " 'Sierra del Toro wc']\n"
     ]
    },
    {
     "data": {
      "text/html": [
       "<div>\n",
       "<style scoped>\n",
       "    .dataframe tbody tr th:only-of-type {\n",
       "        vertical-align: middle;\n",
       "    }\n",
       "\n",
       "    .dataframe tbody tr th {\n",
       "        vertical-align: top;\n",
       "    }\n",
       "\n",
       "    .dataframe thead th {\n",
       "        text-align: right;\n",
       "    }\n",
       "</style>\n",
       "<table border=\"1\" class=\"dataframe\">\n",
       "  <thead>\n",
       "    <tr style=\"text-align: right;\">\n",
       "      <th></th>\n",
       "      <th>name</th>\n",
       "      <th>collection</th>\n",
       "      <th>tops</th>\n",
       "      <th>th</th>\n",
       "      <th>gs_tops_mm</th>\n",
       "      <th>snd_shl</th>\n",
       "      <th>mean_gs_mm</th>\n",
       "      <th>max_gs_mm</th>\n",
       "      <th>ng</th>\n",
       "      <th>ar</th>\n",
       "      <th>depth_m</th>\n",
       "      <th>grain_size_mm</th>\n",
       "    </tr>\n",
       "  </thead>\n",
       "  <tbody>\n",
       "    <tr>\n",
       "      <th>0</th>\n",
       "      <td>Karoo krf1</td>\n",
       "      <td>Skoorsteenberg</td>\n",
       "      <td>21.042456</td>\n",
       "      <td>0.392483</td>\n",
       "      <td>0.147378</td>\n",
       "      <td>1.0</td>\n",
       "      <td>0.147378</td>\n",
       "      <td>0.147378</td>\n",
       "      <td>0.772615</td>\n",
       "      <td>0.104762</td>\n",
       "      <td>[21.0425, 20.65]</td>\n",
       "      <td>[0.1474, 0.1474]</td>\n",
       "    </tr>\n",
       "    <tr>\n",
       "      <th>1</th>\n",
       "      <td>Karoo krf1</td>\n",
       "      <td>Skoorsteenberg</td>\n",
       "      <td>20.649974</td>\n",
       "      <td>0.244327</td>\n",
       "      <td>0.009271</td>\n",
       "      <td>0.0</td>\n",
       "      <td>0.009271</td>\n",
       "      <td>0.009271</td>\n",
       "      <td>0.772615</td>\n",
       "      <td>0.104762</td>\n",
       "      <td>[20.65, 20.4056]</td>\n",
       "      <td>[0.0093, 0.0093]</td>\n",
       "    </tr>\n",
       "    <tr>\n",
       "      <th>2</th>\n",
       "      <td>Karoo krf1</td>\n",
       "      <td>Skoorsteenberg</td>\n",
       "      <td>20.405647</td>\n",
       "      <td>0.041588</td>\n",
       "      <td>0.122473</td>\n",
       "      <td>1.0</td>\n",
       "      <td>0.122473</td>\n",
       "      <td>0.122473</td>\n",
       "      <td>0.772615</td>\n",
       "      <td>0.104762</td>\n",
       "      <td>[20.4056, 20.3641]</td>\n",
       "      <td>[0.1225, 0.1225]</td>\n",
       "    </tr>\n",
       "    <tr>\n",
       "      <th>3</th>\n",
       "      <td>Karoo krf1</td>\n",
       "      <td>Skoorsteenberg</td>\n",
       "      <td>20.364059</td>\n",
       "      <td>0.046786</td>\n",
       "      <td>0.009271</td>\n",
       "      <td>0.0</td>\n",
       "      <td>0.009271</td>\n",
       "      <td>0.009271</td>\n",
       "      <td>0.772615</td>\n",
       "      <td>0.104762</td>\n",
       "      <td>[20.3641, 20.3173]</td>\n",
       "      <td>[0.0093, 0.0093]</td>\n",
       "    </tr>\n",
       "    <tr>\n",
       "      <th>4</th>\n",
       "      <td>Karoo krf1</td>\n",
       "      <td>Skoorsteenberg</td>\n",
       "      <td>20.317273</td>\n",
       "      <td>0.106568</td>\n",
       "      <td>0.128978</td>\n",
       "      <td>1.0</td>\n",
       "      <td>0.128978</td>\n",
       "      <td>0.128978</td>\n",
       "      <td>0.772615</td>\n",
       "      <td>0.104762</td>\n",
       "      <td>[20.3173, 20.2107]</td>\n",
       "      <td>[0.129, 0.129]</td>\n",
       "    </tr>\n",
       "  </tbody>\n",
       "</table>\n",
       "</div>"
      ],
      "text/plain": [
       "         name      collection       tops        th  gs_tops_mm  snd_shl  \\\n",
       "0  Karoo krf1  Skoorsteenberg  21.042456  0.392483    0.147378      1.0   \n",
       "1  Karoo krf1  Skoorsteenberg  20.649974  0.244327    0.009271      0.0   \n",
       "2  Karoo krf1  Skoorsteenberg  20.405647  0.041588    0.122473      1.0   \n",
       "3  Karoo krf1  Skoorsteenberg  20.364059  0.046786    0.009271      0.0   \n",
       "4  Karoo krf1  Skoorsteenberg  20.317273  0.106568    0.128978      1.0   \n",
       "\n",
       "   mean_gs_mm  max_gs_mm        ng        ar             depth_m  \\\n",
       "0    0.147378   0.147378  0.772615  0.104762    [21.0425, 20.65]   \n",
       "1    0.009271   0.009271  0.772615  0.104762    [20.65, 20.4056]   \n",
       "2    0.122473   0.122473  0.772615  0.104762  [20.4056, 20.3641]   \n",
       "3    0.009271   0.009271  0.772615  0.104762  [20.3641, 20.3173]   \n",
       "4    0.128978   0.128978  0.772615  0.104762  [20.3173, 20.2107]   \n",
       "\n",
       "      grain_size_mm  \n",
       "0  [0.1474, 0.1474]  \n",
       "1  [0.0093, 0.0093]  \n",
       "2  [0.1225, 0.1225]  \n",
       "3  [0.0093, 0.0093]  \n",
       "4    [0.129, 0.129]  "
      ]
     },
     "execution_count": 2,
     "metadata": {},
     "output_type": "execute_result"
    }
   ],
   "source": [
    "# Converts 'string' arrays to numpy\n",
    "transforms = {c : utils.string2array_pandas for c in ['depth_m', \n",
    "                                                      'grain_size_mm']}\n",
    "\n",
    "# Read the demo data\n",
    "df = pd.read_csv('../data/working2.csv', converters=transforms)\n",
    "\n",
    "# counts and prints the names of the logs in the data file\n",
    "print(len(df.name.unique()),\n",
    "      'graphic logs imported:',\n",
    "      '\\n',\n",
    "      df.name.unique()) \n",
    "\n",
    "df.head() # displays the first five rows of data"
   ]
  },
  {
   "cell_type": "markdown",
   "metadata": {},
   "source": [
    "The variable `df` is just a pandas DataFrame at this point - it hasn't been put into `litholog` format yet. \n",
    "\n",
    "Notice that the columns `ng` (net-to-gross) and `ar` (amalgamation ratio) are the same for each graphic log. This csv was processed using Matlab, and `ng` and `ar` were calculated there. Not to worry, `litholog` can also calculate these metrics, which we will show you how to do below. \n",
    "\n",
    "Before we translate the dataframe into `BedSequences`, let's create a log2 grain-size column. We will use the functionality of `wentworth` to do this, and we will create PSI units instead of PHI units, because they increase with increasing grain size. We simply take the `grain_size_mm` column and translate it to psi units (`grain_size_psi`): "
   ]
  },
  {
   "cell_type": "code",
   "execution_count": 3,
   "metadata": {},
   "outputs": [
    {
     "data": {
      "text/html": [
       "<div>\n",
       "<style scoped>\n",
       "    .dataframe tbody tr th:only-of-type {\n",
       "        vertical-align: middle;\n",
       "    }\n",
       "\n",
       "    .dataframe tbody tr th {\n",
       "        vertical-align: top;\n",
       "    }\n",
       "\n",
       "    .dataframe thead th {\n",
       "        text-align: right;\n",
       "    }\n",
       "</style>\n",
       "<table border=\"1\" class=\"dataframe\">\n",
       "  <thead>\n",
       "    <tr style=\"text-align: right;\">\n",
       "      <th></th>\n",
       "      <th>name</th>\n",
       "      <th>collection</th>\n",
       "      <th>tops</th>\n",
       "      <th>th</th>\n",
       "      <th>gs_tops_mm</th>\n",
       "      <th>snd_shl</th>\n",
       "      <th>mean_gs_mm</th>\n",
       "      <th>max_gs_mm</th>\n",
       "      <th>ng</th>\n",
       "      <th>ar</th>\n",
       "      <th>depth_m</th>\n",
       "      <th>grain_size_mm</th>\n",
       "      <th>grain_size_psi</th>\n",
       "    </tr>\n",
       "  </thead>\n",
       "  <tbody>\n",
       "    <tr>\n",
       "      <th>0</th>\n",
       "      <td>Karoo krf1</td>\n",
       "      <td>Skoorsteenberg</td>\n",
       "      <td>21.042456</td>\n",
       "      <td>0.392483</td>\n",
       "      <td>0.147378</td>\n",
       "      <td>1.0</td>\n",
       "      <td>0.147378</td>\n",
       "      <td>0.147378</td>\n",
       "      <td>0.772615</td>\n",
       "      <td>0.104762</td>\n",
       "      <td>[21.0425, 20.65]</td>\n",
       "      <td>[0.1474, 0.1474]</td>\n",
       "      <td>[-2.7622, -2.7622]</td>\n",
       "    </tr>\n",
       "    <tr>\n",
       "      <th>1</th>\n",
       "      <td>Karoo krf1</td>\n",
       "      <td>Skoorsteenberg</td>\n",
       "      <td>20.649974</td>\n",
       "      <td>0.244327</td>\n",
       "      <td>0.009271</td>\n",
       "      <td>0.0</td>\n",
       "      <td>0.009271</td>\n",
       "      <td>0.009271</td>\n",
       "      <td>0.772615</td>\n",
       "      <td>0.104762</td>\n",
       "      <td>[20.65, 20.4056]</td>\n",
       "      <td>[0.0093, 0.0093]</td>\n",
       "      <td>[-6.7486, -6.7486]</td>\n",
       "    </tr>\n",
       "    <tr>\n",
       "      <th>2</th>\n",
       "      <td>Karoo krf1</td>\n",
       "      <td>Skoorsteenberg</td>\n",
       "      <td>20.405647</td>\n",
       "      <td>0.041588</td>\n",
       "      <td>0.122473</td>\n",
       "      <td>1.0</td>\n",
       "      <td>0.122473</td>\n",
       "      <td>0.122473</td>\n",
       "      <td>0.772615</td>\n",
       "      <td>0.104762</td>\n",
       "      <td>[20.4056, 20.3641]</td>\n",
       "      <td>[0.1225, 0.1225]</td>\n",
       "      <td>[-3.0291, -3.0291]</td>\n",
       "    </tr>\n",
       "    <tr>\n",
       "      <th>3</th>\n",
       "      <td>Karoo krf1</td>\n",
       "      <td>Skoorsteenberg</td>\n",
       "      <td>20.364059</td>\n",
       "      <td>0.046786</td>\n",
       "      <td>0.009271</td>\n",
       "      <td>0.0</td>\n",
       "      <td>0.009271</td>\n",
       "      <td>0.009271</td>\n",
       "      <td>0.772615</td>\n",
       "      <td>0.104762</td>\n",
       "      <td>[20.3641, 20.3173]</td>\n",
       "      <td>[0.0093, 0.0093]</td>\n",
       "      <td>[-6.7486, -6.7486]</td>\n",
       "    </tr>\n",
       "    <tr>\n",
       "      <th>4</th>\n",
       "      <td>Karoo krf1</td>\n",
       "      <td>Skoorsteenberg</td>\n",
       "      <td>20.317273</td>\n",
       "      <td>0.106568</td>\n",
       "      <td>0.128978</td>\n",
       "      <td>1.0</td>\n",
       "      <td>0.128978</td>\n",
       "      <td>0.128978</td>\n",
       "      <td>0.772615</td>\n",
       "      <td>0.104762</td>\n",
       "      <td>[20.3173, 20.2107]</td>\n",
       "      <td>[0.129, 0.129]</td>\n",
       "      <td>[-2.9546, -2.9546]</td>\n",
       "    </tr>\n",
       "  </tbody>\n",
       "</table>\n",
       "</div>"
      ],
      "text/plain": [
       "         name      collection       tops        th  gs_tops_mm  snd_shl  \\\n",
       "0  Karoo krf1  Skoorsteenberg  21.042456  0.392483    0.147378      1.0   \n",
       "1  Karoo krf1  Skoorsteenberg  20.649974  0.244327    0.009271      0.0   \n",
       "2  Karoo krf1  Skoorsteenberg  20.405647  0.041588    0.122473      1.0   \n",
       "3  Karoo krf1  Skoorsteenberg  20.364059  0.046786    0.009271      0.0   \n",
       "4  Karoo krf1  Skoorsteenberg  20.317273  0.106568    0.128978      1.0   \n",
       "\n",
       "   mean_gs_mm  max_gs_mm        ng        ar             depth_m  \\\n",
       "0    0.147378   0.147378  0.772615  0.104762    [21.0425, 20.65]   \n",
       "1    0.009271   0.009271  0.772615  0.104762    [20.65, 20.4056]   \n",
       "2    0.122473   0.122473  0.772615  0.104762  [20.4056, 20.3641]   \n",
       "3    0.009271   0.009271  0.772615  0.104762  [20.3641, 20.3173]   \n",
       "4    0.128978   0.128978  0.772615  0.104762  [20.3173, 20.2107]   \n",
       "\n",
       "      grain_size_mm      grain_size_psi  \n",
       "0  [0.1474, 0.1474]  [-2.7622, -2.7622]  \n",
       "1  [0.0093, 0.0093]  [-6.7486, -6.7486]  \n",
       "2  [0.1225, 0.1225]  [-3.0291, -3.0291]  \n",
       "3  [0.0093, 0.0093]  [-6.7486, -6.7486]  \n",
       "4    [0.129, 0.129]  [-2.9546, -2.9546]  "
      ]
     },
     "execution_count": 3,
     "metadata": {},
     "output_type": "execute_result"
    }
   ],
   "source": [
    "df['grain_size_psi'] = df.grain_size_mm.apply(lambda x: np.round(litholog.wentworth.gs2psi(x),4))\n",
    "df.head()"
   ]
  },
  {
   "cell_type": "markdown",
   "metadata": {},
   "source": [
    "\n",
    "--- \n",
    "\n",
    "---\n",
    "\n",
    "## Convert dataframe groups to `BedSequence`s\n",
    "\n",
    "This is the step that will convert our dataframe into `BedSequences` (equivalent to a `striplog.Striplog`) that contains `Beds` (equivalent to `striplog.Intervals`).\n",
    "\n",
    "The component map sets the `primary` data for each `Bed` - see other ways to do this in the `litholog_basics.ipynb`\n",
    "\n"
   ]
  },
  {
   "cell_type": "code",
   "execution_count": 4,
   "metadata": {
    "scrolled": false
   },
   "outputs": [
    {
     "name": "stdout",
     "output_type": "stream",
     "text": [
      "13 logs imported as BedSequences\n"
     ]
    },
    {
     "data": {
      "text/plain": [
       "[('Karoo krf1', 105, 'Beds'),\n",
       " ('Karoo krf2', 20, 'Beds'),\n",
       " ('Karoo krf3', 42, 'Beds'),\n",
       " ('Karoo krf4', 15, 'Beds'),\n",
       " ('Karoo krf5', 51, 'Beds'),\n",
       " ('Magnolia', 180, 'Beds'),\n",
       " ('Pukearuhue', 208, 'Beds'),\n",
       " ('Sierra del Toro dc1', 166, 'Beds'),\n",
       " ('Sierra del Toro dc2', 44, 'Beds'),\n",
       " ('Sierra del Toro flame', 63, 'Beds'),\n",
       " ('Sierra del Toro h2o', 66, 'Beds'),\n",
       " ('Sierra del Toro ssm', 54, 'Beds'),\n",
       " ('Sierra del Toro wc', 38, 'Beds')]"
      ]
     },
     "execution_count": 4,
     "metadata": {},
     "output_type": "execute_result"
    }
   ],
   "source": [
    "# Columns shared by whole sequences (i.e., shared by an entire graphic log)\n",
    "METACOLS = ['name', 'collection', 'ng', 'ar']\n",
    "\n",
    "# Columns of bed-level data, including the psi column we just made\n",
    "DATACOLS = ['th', 'gs_tops_mm', 'snd_shl', 'depth_m',\n",
    "            'gs_tops_mm', 'mean_gs_mm', 'max_gs_mm', 'grain_size_mm','grain_size_psi']\n",
    "\n",
    "# Convert dataframe to a list of `BedSequence`s\n",
    "seqs = []\n",
    "for group, values in df.groupby('name'):\n",
    "    seqs.append(\n",
    "        BedSequence.from_dataframe(\n",
    "            values, \n",
    "            thickcol='th',\n",
    "            component_map=litholog.defaults.DEFAULT_COMPONENT_MAP,\n",
    "            metacols=METACOLS,\n",
    "            datacols=DATACOLS,\n",
    "        )\n",
    "    )\n",
    "    \n",
    "# Show name + eod + number of beds of each\n",
    "print(len(seqs),'logs imported as BedSequences')\n",
    "\n",
    "[(s.metadata['name'], len(s),'Beds') for s in seqs]"
   ]
  },
  {
   "cell_type": "markdown",
   "metadata": {},
   "source": [
    "## Basic data retrieval from a `BedSequence` and its `Bed`s"
   ]
  },
  {
   "cell_type": "code",
   "execution_count": 5,
   "metadata": {},
   "outputs": [
    {
     "data": {
      "text/plain": [
       "[Striplog(180 Intervals, start=0.0, stop=59.999347598),\n",
       " Striplog(54 Intervals, start=0.0, stop=65.99495201)]"
      ]
     },
     "execution_count": 5,
     "metadata": {},
     "output_type": "execute_result"
    }
   ],
   "source": [
    "# Choose two logs to use as examples\n",
    "magnolia = seqs[5] # a core description\n",
    "\n",
    "testseq = seqs[-2] # an outcrop log\n",
    "\n",
    "# see what they look like\n",
    "[magnolia, testseq]"
   ]
  },
  {
   "cell_type": "code",
   "execution_count": 6,
   "metadata": {},
   "outputs": [
    {
     "name": "stdout",
     "output_type": "stream",
     "text": [
      "Magnolia is a core so it has order: depth \n",
      "all other demo BedSequences are elevation ordered\n"
     ]
    },
    {
     "data": {
      "text/plain": [
       "'elevation'"
      ]
     },
     "execution_count": 6,
     "metadata": {},
     "output_type": "execute_result"
    }
   ],
   "source": [
    "# Order is important for logs, and it is either elevation or depth\n",
    "print('Magnolia is a core so it has order:',magnolia.order,'\\n'\n",
    "      'all other demo BedSequences are elevation ordered')\n",
    "\n",
    "# here is a outcrop log, which has elevation order\n",
    "testseq.order"
   ]
  },
  {
   "cell_type": "code",
   "execution_count": 7,
   "metadata": {},
   "outputs": [
    {
     "data": {
      "text/plain": [
       "(Position({'middle': 0.0, 'upper': 0.0, 'lower': 0.0, 'units': 'm'}),\n",
       " Position({'middle': 65.99495201, 'units': 'm'}))"
      ]
     },
     "execution_count": 7,
     "metadata": {},
     "output_type": "execute_result"
    }
   ],
   "source": [
    "# access the base and top of a BedSequence\n",
    "testseq.start, testseq.stop"
   ]
  },
  {
   "cell_type": "code",
   "execution_count": 8,
   "metadata": {},
   "outputs": [
    {
     "name": "stdout",
     "output_type": "stream",
     "text": [
      "{'name': 'Sierra del Toro ssm', 'collection': 'Cerro Toro', 'ng': 0.607889916, 'ar': 0.148148148}\n"
     ]
    },
    {
     "data": {
      "text/plain": [
       "0.607889916"
      ]
     },
     "execution_count": 8,
     "metadata": {},
     "output_type": "execute_result"
    }
   ],
   "source": [
    "# Access the metadata\n",
    "print(testseq.metadata)\n",
    "\n",
    "testseq.metadata['ng']"
   ]
  },
  {
   "cell_type": "code",
   "execution_count": 9,
   "metadata": {},
   "outputs": [
    {
     "name": "stdout",
     "output_type": "stream",
     "text": [
      "<class 'numpy.ndarray'>\n",
      "[2.30115381 0.13448302 2.53276345 0.65000124 1.70251761 0.11440395\n",
      " 2.27173565 0.73545399 0.40128938 0.91202132 0.80987493 2.56021613\n",
      " 0.08674654 0.65059908 0.49879263 1.42770354 0.36520843 1.64696757\n",
      " 0.36250413 0.93410444 0.8749703  0.20539209 0.11501957 0.63011803\n",
      " 1.04563246 0.84413037 0.10892005 0.9094824  0.32676014 2.78533022\n",
      " 0.14018841 0.84286117 0.10903543 0.76661329 0.36857949 0.52081885\n",
      " 0.20031494 0.15624565 0.44075646 1.11921999 0.63592045 0.17169852\n",
      " 1.05562794 1.29308313 7.03981974 0.14640267 0.62390062 0.92664279\n",
      " 2.7617331  1.68582241 1.21019243 2.62953795 6.22164738 5.98399271]\n"
     ]
    }
   ],
   "source": [
    "# Access the `data` fields, which are numpy arrays\n",
    "print(type(testseq.get_field('th')))\n",
    "print(testseq.get_field('th'))"
   ]
  },
  {
   "cell_type": "code",
   "execution_count": 10,
   "metadata": {},
   "outputs": [
    {
     "name": "stdout",
     "output_type": "stream",
     "text": [
      "total thickness is 65.994952011 meters\n",
      "maximum Bed thickness is 7.039819744 meters\n",
      "minimum Bed thickness is 0.086746545 meters\n",
      "maximum grain size is 1024.0 mm\n"
     ]
    }
   ],
   "source": [
    "print('total thickness is',testseq.get_field('th').sum(),'meters')\n",
    "print('maximum Bed thickness is',testseq.max_field('th'),'meters')\n",
    "print('minimum Bed thickness is',testseq.min_field('th'),'meters')\n",
    "print('maximum grain size is',testseq.max_field('grain_size_mm'),'mm')"
   ]
  },
  {
   "cell_type": "markdown",
   "metadata": {},
   "source": [
    "Now let's take a look at one `Bed`. All `Beds` must have a `top`, `base`, and `data`, which can be array or dict-like. You will note that there is a `primary` field as well, which is defined using the `Component` from `striplog` or a component map, as we did above"
   ]
  },
  {
   "cell_type": "code",
   "execution_count": 11,
   "metadata": {},
   "outputs": [
    {
     "data": {
      "text/html": [
       "<table><tr><td style=\"width:2em; background-color:#DDDDDD\" rowspan=\"6\"></td><td><strong>top</strong></td><td>5.983992709</td></tr><tr><td><strong>primary</strong></td><td><table><tr><td><strong>lithology</strong></td><td>gravel</td></tr></table></td></tr><tr><td><strong>summary</strong></td><td>5.98 m of gravel</td></tr><tr><td><strong>description</strong></td><td></td></tr><tr><td><strong>data</strong></td><td><table><tr><td><strong>th</strong></td><td>5.983992709</td></tr><tr><td><strong>gs_tops_mm</strong></td><td>0.199642603</td></tr><tr><td><strong>snd_shl</strong></td><td>1.0</td></tr><tr><td><strong>depth_m</strong></td><td>[5.984  5.6355 4.8482 4.0545 3.2413 2.7509 1.9094 1.2818 0.8061 0.7182\n",
       " 0.6582 0.3224 0.1386 0.0319]</td></tr><tr><td><strong>mean_gs_mm</strong></td><td>17.75243174</td></tr><tr><td><strong>max_gs_mm</strong></td><td>209.9075321</td></tr><tr><td><strong>grain_size_mm</strong></td><td>[1.996000e-01 2.108000e-01 2.314000e-01 2.520000e-01 2.745000e-01\n",
       " 2.899000e-01 3.165000e-01 3.353000e-01 3.519000e-01 3.236400e+00\n",
       " 4.140370e+01 2.082978e+02 2.099075e+02 2.099075e+02]</td></tr><tr><td><strong>grain_size_psi</strong></td><td>[-2.3248 -2.2461 -2.1115 -1.9885 -1.8651 -1.7864 -1.6597 -1.5765 -1.5068\n",
       "  1.6944  5.3717  7.7025  7.7136  7.7136]</td></tr></table></td></tr><tr><td><strong>base</strong></td><td>0.0</td></tr></table>"
      ],
      "text/plain": [
       "Interval({'data': {'th': 5.983992709, 'gs_tops_mm': 0.199642603, 'snd_shl': 1.0, 'depth_m': array([5.984 , 5.6355, 4.8482, 4.0545, 3.2413, 2.7509, 1.9094, 1.2818,\n",
       "       0.8061, 0.7182, 0.6582, 0.3224, 0.1386, 0.0319]), 'mean_gs_mm': 17.75243174, 'max_gs_mm': 209.9075321, 'grain_size_mm': array([1.996000e-01, 2.108000e-01, 2.314000e-01, 2.520000e-01,\n",
       "       2.745000e-01, 2.899000e-01, 3.165000e-01, 3.353000e-01,\n",
       "       3.519000e-01, 3.236400e+00, 4.140370e+01, 2.082978e+02,\n",
       "       2.099075e+02, 2.099075e+02]), 'grain_size_psi': array([-2.3248, -2.2461, -2.1115, -1.9885, -1.8651, -1.7864, -1.6597,\n",
       "       -1.5765, -1.5068,  1.6944,  5.3717,  7.7025,  7.7136,  7.7136])}, 'top': Position({'middle': 5.983992709, 'units': 'm'}), 'base': Position({'middle': 0.0, 'upper': 0.0, 'lower': 0.0, 'units': 'm'}), 'description': '', 'components': [Component({'lithology': 'gravel'})]})"
      ]
     },
     "execution_count": 11,
     "metadata": {},
     "output_type": "execute_result"
    }
   ],
   "source": [
    "testseq[-1] # In elevation order, the lowermost bed is the last one [-1] instead of the first one [0]"
   ]
  },
  {
   "cell_type": "code",
   "execution_count": 12,
   "metadata": {},
   "outputs": [
    {
     "data": {
      "text/html": [
       "<table><tr><td><strong>upper</strong></td><td>0.0</td></tr><tr><td><strong>middle</strong></td><td>0.0</td></tr><tr><td><strong>lower</strong></td><td>0.0</td></tr></table>"
      ],
      "text/plain": [
       "Position({'middle': 0.0, 'upper': 0.0, 'lower': 0.0, 'units': 'm'})"
      ]
     },
     "execution_count": 12,
     "metadata": {},
     "output_type": "execute_result"
    }
   ],
   "source": [
    "# if a log is elevation-ordered, the last bed should have a base at zero\n",
    "testseq[-1].base"
   ]
  },
  {
   "cell_type": "code",
   "execution_count": 14,
   "metadata": {},
   "outputs": [
    {
     "name": "stdout",
     "output_type": "stream",
     "text": [
      "5.983992709\n",
      "gravel\n",
      "17.75243174\n",
      "Mean grain size: c_gravel\n",
      "Grain size at top of bed: f_sand\n"
     ]
    }
   ],
   "source": [
    "print(testseq[-1].top.upper) # see the striplog Interval class for info on upper, middle, and lower\n",
    "print(testseq[-1].primary.lithology)\n",
    "print(testseq[-1].data['mean_gs_mm'])\n",
    "print('Mean grain size:',litholog.wentworth.gs2name(testseq[-1].data['mean_gs_mm']))\n",
    "print('Grain size at top of bed:',litholog.wentworth.gs2name(testseq[-1].data['gs_tops_mm']))"
   ]
  },
  {
   "cell_type": "code",
   "execution_count": 16,
   "metadata": {},
   "outputs": [
    {
     "name": "stdout",
     "output_type": "stream",
     "text": [
      "mud\n",
      "2.30 m of mud\n"
     ]
    }
   ],
   "source": [
    "# Let's look at the uppermost bed now\n",
    "print(testseq[0].lithology)\n",
    "print(testseq[0].summary())"
   ]
  },
  {
   "cell_type": "code",
   "execution_count": 26,
   "metadata": {},
   "outputs": [
    {
     "name": "stdout",
     "output_type": "stream",
     "text": [
      "65.99495201\n",
      "first five [65.99495201, 63.69379820000001, 63.55931518, 61.02655173, 60.37655049]\n",
      "65.99495201\n",
      "63.69379820000001\n",
      "63.55931518\n",
      "61.02655173\n",
      "60.37655049\n"
     ]
    }
   ],
   "source": [
    "# get one bed top using an index\n",
    "print(testseq[0].top.middle)\n",
    "\n",
    "# get the first five bed tops using list comprehension (see striplog docs for attributes of top and base (e.g., base, middle, upper))\n",
    "print('first five',[bed.top.middle for bed in testseq[0:5]])\n",
    "\n",
    "# or you can build a simple loop\n",
    "for bed in testseq[0:5]:\n",
    "    print(bed.top.middle)"
   ]
  },
  {
   "cell_type": "code",
   "execution_count": 27,
   "metadata": {},
   "outputs": [
    {
     "data": {
      "text/html": [
       "<table><tr><td style=\"width:2em; background-color:#DDDDDD\" rowspan=\"6\"></td><td><strong>top</strong></td><td>30.52277492</td></tr><tr><td><strong>primary</strong></td><td><table><tr><td><strong>lithology</strong></td><td>missing</td></tr></table></td></tr><tr><td><strong>summary</strong></td><td>1.29 m of missing</td></tr><tr><td><strong>description</strong></td><td></td></tr><tr><td><strong>data</strong></td><td><table><tr><td><strong>th</strong></td><td>1.293083126</td></tr><tr><td><strong>gs_tops_mm</strong></td><td>nan</td></tr><tr><td><strong>snd_shl</strong></td><td>nan</td></tr><tr><td><strong>depth_m</strong></td><td>[30.5228 29.2297]</td></tr><tr><td><strong>mean_gs_mm</strong></td><td>nan</td></tr><tr><td><strong>max_gs_mm</strong></td><td>nan</td></tr><tr><td><strong>grain_size_mm</strong></td><td>[nan nan]</td></tr><tr><td><strong>grain_size_psi</strong></td><td>[nan nan]</td></tr></table></td></tr><tr><td><strong>base</strong></td><td>29.229691794</td></tr></table>"
      ],
      "text/plain": [
       "Interval({'data': {'th': 1.293083126, 'gs_tops_mm': nan, 'snd_shl': nan, 'depth_m': array([30.5228, 29.2297]), 'mean_gs_mm': nan, 'max_gs_mm': nan, 'grain_size_mm': array([nan, nan]), 'grain_size_psi': array([nan, nan])}, 'top': Position({'middle': 30.52277492, 'units': 'm'}), 'base': Position({'middle': 29.229691794, 'units': 'm'}), 'description': '', 'components': [Component({'lithology': 'missing'})]})"
      ]
     },
     "execution_count": 27,
     "metadata": {},
     "output_type": "execute_result"
    }
   ],
   "source": [
    "# lets look at a covered interval - note  the NaNs for grain size\n",
    "testseq[-11]"
   ]
  },
  {
   "cell_type": "markdown",
   "metadata": {},
   "source": [
    "## Basic Plotting"
   ]
  },
  {
   "cell_type": "code",
   "execution_count": 28,
   "metadata": {},
   "outputs": [
    {
     "data": {
      "image/png": "[encoded data removed]",
      "text/plain": [
       "<Figure size 108x1080 with 1 Axes>"
      ]
     },
     "metadata": {},
     "output_type": "display_data"
    }
   ],
   "source": [
    "# the most simple plot, but doesnt include any bed-level grain size data (e.g., fining-upwards)\n",
    "testseq.plot()\n"
   ]
  },
  {
   "cell_type": "code",
   "execution_count": 29,
   "metadata": {},
   "outputs": [
    {
     "data": {
      "image/png": "[encoded data removed]",
      "text/plain": [
       "<Figure size 216x1440 with 1 Axes>"
      ]
     },
     "metadata": {},
     "output_type": "display_data"
    }
   ],
   "source": [
    "# here is a little nicer way to plot it that includes the grain size data for each bed\n",
    "\n",
    "fig, ax = plt.subplots(figsize=[3,20])\n",
    "\n",
    "testseq.plot(ax=ax,\n",
    "             legend=litholog.defaults.litholegend,\n",
    "             width_field='grain_size_psi',\n",
    "             depth_field='depth_m',\n",
    "             wentworth='fine'\n",
    "            )\n",
    "\n",
    "ax.set_title(testseq.metadata['name']);"
   ]
  },
  {
   "cell_type": "code",
   "execution_count": 32,
   "metadata": {},
   "outputs": [
    {
     "data": {
      "image/png": "[encoded data removed]",
      "text/plain": [
       "<Figure size 432x288 with 1 Axes>"
      ]
     },
     "metadata": {},
     "output_type": "display_data"
    }
   ],
   "source": [
    "gs=testseq[-1].data['grain_size_psi'] # get just one field from a Bed\n",
    "de=testseq[-1].data['depth_m'] \n",
    "\n",
    "plt.plot(gs,de,'k')\n",
    "if testseq.order=='depth': \n",
    "    plt.gca().invert_yaxis()\n",
    "    print('depth ordered')\n",
    "    \n",
    "plt.title('Fining upward trend from one Bed');"
   ]
  },
  {
   "cell_type": "code",
   "execution_count": 33,
   "metadata": {},
   "outputs": [
    {
     "data": {
      "image/png": "[encoded data removed]",
      "text/plain": [
       "<Figure size 432x288 with 1 Axes>"
      ]
     },
     "metadata": {},
     "output_type": "display_data"
    }
   ],
   "source": [
    "fig, ax = plt.subplots()\n",
    "for bed in testseq:\n",
    "    if bed.lithology=='sand':\n",
    "        gs=bed.data['grain_size_psi']\n",
    "        \n",
    "        de=bed.data['depth_m']\n",
    "        de=np.max(de)-de # normalize to zero so they will all plot together\n",
    "        if testseq.order=='elevation':\n",
    "            de=np.flip(de)\n",
    "        ax.plot(gs,de,'k')"
   ]
  },
  {
   "cell_type": "markdown",
   "metadata": {},
   "source": [
    "## Flipping depth -> elevation"
   ]
  },
  {
   "cell_type": "code",
   "execution_count": null,
   "metadata": {},
   "outputs": [],
   "source": [
    "# depth version (this is only depth-ordered one in demo)\n",
    "seqs[-2].plot(legend=litholog.defaults.litholegend, \n",
    "             fig_width=3, aspect=5, wentworth='coarse')"
   ]
  },
  {
   "cell_type": "code",
   "execution_count": null,
   "metadata": {},
   "outputs": [],
   "source": [
    "# to elevation\n",
    "seqs[-2].flip_convention(depth_key='depth_m').plot(\n",
    "             legend=litholog.defaults.litholegend, \n",
    "             fig_width=3, aspect=5, wentworth='coarse')"
   ]
  },
  {
   "cell_type": "code",
   "execution_count": null,
   "metadata": {},
   "outputs": [],
   "source": [
    "# Specify a legend when plotting (otherwise random used)\n",
    "# `wentworth` can use 'fine' or 'coarse' bins\n",
    "\n",
    "# elevation_version\n",
    "example_seq.plot(legend=litholog.defaults.litholegend, \n",
    "                 fig_width=3, aspect=5, wentworth='coarse')"
   ]
  },
  {
   "cell_type": "code",
   "execution_count": null,
   "metadata": {},
   "outputs": [],
   "source": [
    "# to depth\n",
    "example_seq.flip_convention(depth_key='depth_m').plot(\n",
    "          legend=litholog.defaults.litholegend, \n",
    "          fig_width=3, aspect=5, wentworth='coarse')"
   ]
  },
  {
   "cell_type": "code",
   "execution_count": null,
   "metadata": {},
   "outputs": [],
   "source": [
    "example_seq.order"
   ]
  },
  {
   "cell_type": "code",
   "execution_count": null,
   "metadata": {},
   "outputs": [],
   "source": [
    "example_seq.shift(delta=-example_seq.stop.z).order"
   ]
  },
  {
   "cell_type": "markdown",
   "metadata": {},
   "source": [
    "# Some Basic Stats Properties"
   ]
  },
  {
   "cell_type": "code",
   "execution_count": null,
   "metadata": {},
   "outputs": [],
   "source": [
    "print(example_seq.metadata)\n",
    "\n",
    "# Properties computed on the fly\n",
    "print(example_seq.net_to_gross,';',example_seq.amalgamation_ratio)\n",
    "\n",
    "print('N:G from Matlab:',round(example_seq.metadata['ng'],3),'\\n',\n",
    "      'N:G from litholog:',round(example_seq.net_to_gross,3))"
   ]
  },
  {
   "cell_type": "code",
   "execution_count": null,
   "metadata": {},
   "outputs": [],
   "source": [
    "# Hurst statistics\n",
    "print(example_seq.hurst_K('th', 'sand'))\n",
    "\n",
    "# Returns (D, p, hurst_K)\n",
    "example_seq.hurst_D('th', 'sand', nsamples=10000)"
   ]
  },
  {
   "cell_type": "markdown",
   "metadata": {},
   "source": [
    "# Pseudo-gamma curves"
   ]
  },
  {
   "cell_type": "code",
   "execution_count": null,
   "metadata": {},
   "outputs": [],
   "source": [
    "def suggest_figsize(sequence, aspect=10):\n",
    "    \"\"\"\n",
    "    Defining default a total thickness -> figure size mapping.\n",
    "    \"\"\"\n",
    "    suggest_h = max(10, min(sequence.cum, 50))\n",
    "    suggest_w = suggest_h / aspect\n",
    "    return (suggest_w, suggest_h)\n",
    "\n",
    "\n",
    "def strip_fig_extra_columns(ax_num, sequence, ncols, exxon_style=True, figsize=None, aspect=10):\n",
    "    \"\"\"\n",
    "    Creates a fig with `ncol` axes and plots `sequence` on one of them.\n",
    "    If `exxon_style`, plots `sequence` on first axis, otherwise last axis.\n",
    "    Returns\n",
    "    -------\n",
    "    fig, ax\n",
    "    \"\"\"\n",
    "    w, h = suggest_figsize(sequence, aspect=aspect)\n",
    "    print(w, h)\n",
    "\n",
    "    fig, ax = plt.subplots(ncols=ncols, sharey=True, figsize=(w*ncols, h))\n",
    "    #fig.subplots_adjust(wspace=0.)\n",
    "\n",
    "    sequence.plot(legend=litholog.defaults.litholegend,\n",
    "                  width_field='grain_size_psi',\n",
    "                  depth_field='depth_m',\n",
    "                  ax=ax[ax_num])\n",
    "\n",
    "    return fig, ax"
   ]
  },
  {
   "cell_type": "code",
   "execution_count": null,
   "metadata": {},
   "outputs": [],
   "source": [
    "#mag.resample_data('depth_m',0.01)\n",
    "i=0\n",
    "for bed in mag:\n",
    "    np.linspace(bed.top.z, bed.base.z, max(2,int((bed.top.z-bed.base.z) // 0.01)))\n",
    "    i+=1\n",
    "    print(i)"
   ]
  },
  {
   "cell_type": "code",
   "execution_count": null,
   "metadata": {},
   "outputs": [],
   "source": [
    "# Showing default values:\n",
    "ds, pgr = mag.pseudo_gamma_simple(\n",
    "    gs_field='grain_size_mm',\n",
    "    depth_field='depth_m',\n",
    "    resolution=0.2,\n",
    "    gs_cutoff=0.0625,\n",
    "    gamma_range=(30, 180),\n",
    "    sigma=0.1,\n",
    "    noise=10.\n",
    ")\n",
    "\n",
    "fig, ax = strip_fig_extra_columns(0, example_seq, 2, aspect=9)\n",
    "\n",
    "cutoff = 100\n",
    "\n",
    "ax[1].plot(pgr, ds, 'k')\n",
    "ax[1].fill_betweenx(ds, pgr, np.repeat(cutoff, ds.size), where=(pgr<cutoff), color='yellow')\n",
    "\n",
    "ax[1].set_xlim([0,200])"
   ]
  },
  {
   "cell_type": "markdown",
   "metadata": {},
   "source": [
    "# Ignore below here for now"
   ]
  },
  {
   "cell_type": "code",
   "execution_count": null,
   "metadata": {
    "scrolled": false
   },
   "outputs": [],
   "source": [
    "\n",
    "\n",
    "\n",
    "\n",
    "\n",
    "\n",
    "def gradient_fill(x, y, ax, pos_or_neg,\n",
    "                  fill_color=None,\n",
    "                  **kwargs):\n",
    "    \"\"\"\n",
    "    Plot a line with a linear alpha gradient filled beneath it.\n",
    "    Parameters\n",
    "    ----------\n",
    "    x, y : array-like\n",
    "        The data values of the line.\n",
    "    ax : a matplotlib Axes instance\n",
    "        The axes to plot on.\n",
    "    fill_color : a matplotlib color specifier (string, tuple) or None\n",
    "        The color for the fill. If None, the color of the line will be used.\n",
    "    Additional arguments are passed on to matplotlib's ``plot`` function.\n",
    "    Returns\n",
    "    -------\n",
    "    line : a Line2D instance\n",
    "        The line plotted.\n",
    "    im : an AxesImage instance\n",
    "        The transparent gradient clipped to just the area beneath the curve.\n",
    "    \"\"\"\n",
    "    x[np.argwhere(np.isnan(x))] = 0.\n",
    "\n",
    "    line, = ax.plot(x, y, **kwargs)\n",
    "    if fill_color is None:\n",
    "        fill_color = line.get_color()\n",
    "\n",
    "    zorder = line.get_zorder()\n",
    "    alpha = line.get_alpha()\n",
    "    alpha = 1.0 if alpha is None else alpha\n",
    "\n",
    "    if pos_or_neg=='positive':\n",
    "        alpha_gradient = np.linspace(0.2, alpha, 100)\n",
    "        xmin, xmax = 0., ax.get_xlim()[1]\n",
    "    else:\n",
    "        alpha_gradient = np.linspace(alpha, 0.2, 100)\n",
    "        xmin, xmax = ax.get_xlim()[0], 0.\n",
    "\n",
    "    z = np.empty((1, 100, 4), dtype=float)\n",
    "    z[:,:,-1] = alpha_gradient[None,:]\n",
    "\n",
    "    rgb = mcolors.colorConverter.to_rgb(fill_color)\n",
    "    z[:,:,:3] = rgb\n",
    "\n",
    "    ymin, ymax = y.min(), y.max()\n",
    "    im = ax.imshow(z, aspect='auto', extent=[xmin, xmax, ymin, ymax],\n",
    "                   origin='lower', zorder=zorder)\n",
    "\n",
    "    xy = np.column_stack([x, y])\n",
    "    xy = np.flipud(xy) if y[0] < y[1] else xy   # Have to flip order for 'depth'-ordered striplogs\n",
    "    if pos_or_neg=='positive':\n",
    "        xy = np.vstack([[xmin, ymax], xy, [xmin, ymin], [xmin, ymax]])\n",
    "    else:\n",
    "        xy = np.vstack([[xmax, ymax], xy, [xmax, ymin], [xmax, ymax]])\n",
    "\n",
    "    clip_path = Polygon(xy, facecolor='none', edgecolor='none', closed=True)\n",
    "    ax.add_patch(clip_path)\n",
    "    im.set_clip_path(clip_path)\n",
    "\n",
    "    #ax.autoscale(True)\n",
    "    return line, im"
   ]
  },
  {
   "cell_type": "markdown",
   "metadata": {},
   "source": [
    "# Plotting with convolution \"gamma ray\""
   ]
  },
  {
   "cell_type": "code",
   "execution_count": null,
   "metadata": {
    "scrolled": false
   },
   "outputs": [],
   "source": [
    "# using astropy.convolve for now\n",
    "\n",
    "def pseudo_gamma_simple(seq):\n",
    "    # Params that will be args in the API:\n",
    "        \n",
    "    gs_threshold = 0.0625   # Cutoff in mm\n",
    "    gamma_range = (180, 30) # Low/High values\n",
    "    resolution = 0.05       # Depth resolution\n",
    "    sigma = 2              # Gaussian filter width\n",
    "    noise_magnitude = 10.   # +/- noise to add\n",
    "    \n",
    "    ds, gs = seq.get_field('depth_m'), seq.get_field('grain_size_mm')\n",
    "    \n",
    "    # Needs to be increasing for `np.interp`\n",
    "    if ds[0] > ds[-1]:\n",
    "        ds, gs = ds[::-1], gs[::-1]\n",
    "    \n",
    "    # Resampling\n",
    "    nsamples = np.abs(ds[0]-ds[-1]) // resolution + 1\n",
    "    resampled_ds = np.linspace(ds[0], ds[-1], num=int(nsamples), endpoint=True)\n",
    "    resampled_gs = np.interp(resampled_ds, ds, gs)\n",
    "    \n",
    "    # Thresholding gs -> GR\n",
    "    nan_idxs = np.argwhere(np.isnan(resampled_gs))\n",
    "    resampled_gs[nan_idxs] = gamma_range[0]\n",
    "    sample_gr = np.where(resampled_gs < gs_threshold, gamma_range[0], gamma_range[1])\n",
    "    \n",
    "    # Gauss filter\n",
    "    # using astropy.convolve for now\n",
    "    kernel = Gaussian1DKernel(sigma) # divided by resolution?\n",
    "    conv_gr = convolve(sample_gr, kernel)\n",
    "    \n",
    "    # Add noise (uniform) + restrict to positive + restore NaNs\n",
    "    gr = conv_gr + np.random.uniform(-noise_magnitude, noise_magnitude, size=conv_gr.size)\n",
    "    gr[gr < 0.] = 0.\n",
    "    gr[nan_idxs] = np.nan\n",
    "    \n",
    "    return resampled_ds, gr\n",
    "\n",
    "\n",
    "fig, ax = strip_fig_extra_columns(0, seqs[0], 2, aspect=9)\n",
    "\n",
    "ds, gr = pseudo_gamma_simple(seqs[0])\n",
    "gradient_fill(gr, ds, ax[1], 'positive', fill_color='y')\n",
    "ax[1].set_xlim([0,200])"
   ]
  },
  {
   "cell_type": "code",
   "execution_count": null,
   "metadata": {},
   "outputs": [],
   "source": [
    "from scipy.ndimage import gaussian_filter1d\n",
    "\n",
    "def filter_nan_gaussian(arr, sigma):\n",
    "    \"\"\"\n",
    "\n",
    "    (Allows intensity to leak into the NaN area.)\n",
    "\n",
    "    Implementation from stackoverflow answer:\n",
    "        https://stackoverflow.com/a/36307291/7128154\n",
    "    \"\"\"\n",
    "    gauss = arr.copy()\n",
    "    gauss[np.isnan(gauss)] = 0\n",
    "    gauss = gaussian_filter1d(gauss, sigma=sigma, mode='constant', cval=0)\n",
    "\n",
    "    norm = np.ones(shape=arr.shape)\n",
    "    norm[np.isnan(arr)] = 0\n",
    "    norm = gaussian_filter1d(norm, sigma=sigma, mode='constant', cval=0)\n",
    "\n",
    "    # avoid RuntimeWarning: invalid value encountered in true_divide\n",
    "    norm = np.where(norm==0, 1, norm)\n",
    "    gauss = gauss/norm\n",
    "    gauss[np.isnan(arr)] = np.nan\n",
    "    return gauss\n",
    "\n",
    "def pseudo_gamma_simple(seq):\n",
    "    # Params that will be args in the API:\n",
    "        \n",
    "    gs_threshold = 0.0625   # Cutoff in mm\n",
    "    gamma_range = (180, 30) # Low/High values\n",
    "    resolution = 0.05       # Depth resolution\n",
    "    sigma = 2              # Gaussian filter width\n",
    "    noise_magnitude = 10.   # +/- noise to add\n",
    "    \n",
    "    ds, gs = seq.get_field('depth_m'), seq.get_field('grain_size_mm')\n",
    "    \n",
    "    # Needs to be increasing for `np.interp`\n",
    "    if ds[0] > ds[-1]:\n",
    "        ds, gs = ds[::-1], gs[::-1]\n",
    "    \n",
    "    # Resampling\n",
    "    nsamples = np.abs(ds[0]-ds[-1]) // resolution + 1\n",
    "    resampled_ds = np.linspace(ds[0], ds[-1], num=int(nsamples), endpoint=True)\n",
    "    resampled_gs = np.interp(resampled_ds, ds, gs)\n",
    "    \n",
    "    # Thresholding gs -> GR\n",
    "    nan_idxs = np.argwhere(np.isnan(resampled_gs))\n",
    "    resampled_gs[nan_idxs] = gamma_range[0]\n",
    "    sample_gr = np.where(resampled_gs < gs_threshold, gamma_range[0], gamma_range[1])\n",
    "    \n",
    "    # Gauss filter\n",
    "    # using astropy.convolve for now\n",
    "    #kernel = Gaussian1DKernel(sigma) # divided by resolution?\n",
    "    #conv_gr = convolve(sample_gr, kernel)\n",
    "    conv_gr = filter_nan_gaussian(sample_gr, sigma)\n",
    "    \n",
    "    # Add noise (uniform) + restrict to positive + restore NaNs\n",
    "    gr = conv_gr + np.random.uniform(-noise_magnitude, noise_magnitude, size=conv_gr.size)\n",
    "    gr[gr < 0.] = 0.\n",
    "    gr[nan_idxs] = np.nan\n",
    "    \n",
    "    return resampled_ds, gr\n",
    "\n",
    "\n",
    "fig, ax = strip_fig_extra_columns(0, seqs[0], 2, aspect=9)\n",
    "\n",
    "cutoff = 100\n",
    "\n",
    "ds, gr = pseudo_gamma_simple(seqs[0])\n",
    "#gradient_fill(gr, ds, ax[1], 'positive', fill_color='y')\n",
    "\n",
    "ax[1].plot(gr, ds)\n",
    "ax[1].fill_betweenx(ds, gr, np.repeat(cutoff, ds.size), where=(gr<cutoff), color='yellow')\n",
    "\n",
    "ax[1].set_xlim([0,200])"
   ]
  },
  {
   "cell_type": "markdown",
   "metadata": {},
   "source": [
    "## these functions stolen from Matt Bauer\n",
    "\n"
   ]
  },
  {
   "cell_type": "code",
   "execution_count": null,
   "metadata": {
    "scrolled": false
   },
   "outputs": [],
   "source": [
    "import matplotlib as mpl\n",
    "\n",
    "def rect(ax,x,y,w,h,c):\n",
    "    #Make rectangle with plt.Rectangle((x,y@ Lower left),width,height,color)\n",
    "    polygon = plt.Rectangle((x,y),w,h,color=c)\n",
    "    #Add it to axis\n",
    "    ax.add_patch(polygon)\n",
    "\n",
    "def GR_fill(ax,X,Y):\n",
    "    plt.plot(X,Y,lw=0)\n",
    "    \n",
    "    #Make a custom color ramp\n",
    "    cmap = mpl.colors.LinearSegmentedColormap.from_list(\"\", [\"yellow\",\"yellow\",'goldenrod','darkgoldenrod',\"dimgrey\",'black','black'])\n",
    "    \n",
    "    #Step distance\n",
    "    dy = Y[1]-Y[0]\n",
    "    \n",
    "    #Max GR value\n",
    "    N  = float(np.nanmax(X))\n",
    "    \n",
    "    #Make rectangles with color based on GR values\n",
    "    for n, (x,y) in enumerate(zip(X,Y)):\n",
    "        color = cmap(x/N)\n",
    "        rect(ax,x,y,N-x,dy,color)\n",
    "        \n",
    "        \n",
    "fig, ax = strip_fig_extra_columns(1 ,seqs[0], 2, aspect=9)\n",
    "\n",
    "ds, gr = pseudo_gamma_simple(seqs[0])\n",
    "ax[0].plot(gr,ds,'k')\n",
    "GR_fill(ax[0], gr, ds)\n",
    "ax[0].set_xlim([0,200])\n",
    "ax[1].set_title(seqs[0].metadata['name'])\n",
    "plt.show()\n",
    "#plt.savefig('/Users/zanejobe/Desktop/testT.pdf')"
   ]
  },
  {
   "cell_type": "code",
   "execution_count": null,
   "metadata": {},
   "outputs": [],
   "source": [
    "def pseudo_gamma_args(seq, gamma_range, resolution, sigma, noise_magnitude):\n",
    "    # Params that will be args in the API:\n",
    "        \n",
    "    gs_threshold = 0.0625   # Cutoff in mm\n",
    "    #gamma_range = (180, 30) # Low/High values\n",
    "    #resolution = 0.05       # Depth resolution\n",
    "    #sigma = 2              # Gaussian filter width\n",
    "    #noise_magnitude = 10.   # +/- noise to add\n",
    "    \n",
    "    ds, gs = seq.get_field('depth_m'), seq.get_field('grain_size_mm')\n",
    "    \n",
    "    # Needs to be increasing for `np.interp`\n",
    "    if ds[0] > ds[-1]:\n",
    "        ds, gs = ds[::-1], gs[::-1]\n",
    "    \n",
    "    # Resampling\n",
    "    nsamples = np.abs(ds[0]-ds[-1]) // resolution + 1\n",
    "    resampled_ds = np.linspace(ds[0], ds[-1], num=int(nsamples), endpoint=True)\n",
    "    resampled_gs = np.interp(resampled_ds, ds, gs)\n",
    "    \n",
    "    # Thresholding gs -> GR\n",
    "    nan_idxs = np.argwhere(np.isnan(resampled_gs))\n",
    "    resampled_gs[nan_idxs] = gamma_range[0]\n",
    "    sample_gr = np.where(resampled_gs < gs_threshold, gamma_range[0], gamma_range[1])\n",
    "    \n",
    "    # Gauss filter\n",
    "    # using astropy.convolve for now\n",
    "    kernel = Gaussian1DKernel(sigma) # divided by resolution?\n",
    "    conv_gr = convolve(sample_gr, kernel)\n",
    "    \n",
    "    # Add noise (uniform) + restrict to positive + restore NaNs\n",
    "    gr = conv_gr + np.random.uniform(-noise_magnitude, noise_magnitude, size=conv_gr.size)\n",
    "    gr[gr < 0.] = 0.\n",
    "    gr[nan_idxs] = np.nan\n",
    "    \n",
    "    return resampled_ds, gr\n"
   ]
  },
  {
   "cell_type": "code",
   "execution_count": null,
   "metadata": {},
   "outputs": [],
   "source": [
    "# why NaNs here?\n",
    "np.isnan(seqs[0].values).sum()"
   ]
  },
  {
   "cell_type": "code",
   "execution_count": null,
   "metadata": {},
   "outputs": [],
   "source": [
    "seqs[-1][0].data #pukearuhue first bed"
   ]
  },
  {
   "cell_type": "code",
   "execution_count": null,
   "metadata": {},
   "outputs": [],
   "source": [
    "# fixing weird mud bed thats a colloid at the top of the section...\n",
    "\n",
    "# DID THIS GET CHANGED IN THE DATA FILE???\n",
    "Puk=-1\n",
    "seqs[Puk][0].data['gs_tops_mm'] = 0.010289315855149\n",
    "seqs[Puk][0].data['mean_gs_mm'] = 0.010289315855149\n",
    "seqs[Puk][0].data['mean_gs_mm'] = 0.010289315855149\n",
    "seqs[Puk][0].data['max_gs_mm'] = 0.010289315855149\n",
    "seqs[Puk][0].data['grain_size_mm'] = [0.0103, 0.0103]\n",
    "seqs[Puk][0].data['gs_tops_psi'] = -6.6027\n",
    "seqs[Puk][0].data['mean_gs_psi'] = -6.6027\n",
    "seqs[Puk][0].data['max_gs_psi'] = -6.6027\n",
    "seqs[Puk][0].data['grain_size_psi'] = [-6.6012, -6.6012]"
   ]
  },
  {
   "cell_type": "code",
   "execution_count": null,
   "metadata": {},
   "outputs": [],
   "source": [
    "# Ross, what is this for? \n",
    "demo_names = ['Pukearuhue', 'Magnolia', 'Karoo krf']\n",
    "seq_rows = [beds[beds['name'].str.contains(dn)] for dn in demo_names]\n",
    "demo_df = pd.concat(seq_rows)\n",
    "demo_df.to_csv('../data/demo_sequences.csv', index=False)\n"
   ]
  },
  {
   "cell_type": "code",
   "execution_count": null,
   "metadata": {},
   "outputs": [],
   "source": [
    "# nice way to parse data to get only BedSequences with more than 20 sand beds\n",
    "seqs = list(filter(lambda s: len(s.get_field('th', 'sand')) >= 20, sequences))\n",
    "\n"
   ]
  },
  {
   "cell_type": "markdown",
   "metadata": {},
   "source": [
    "## Keep for depstrat"
   ]
  },
  {
   "cell_type": "code",
   "execution_count": null,
   "metadata": {},
   "outputs": [],
   "source": [
    "# beds is the pandas dataframe of all the beds\n",
    "beds.snd_shl.value_counts()\n",
    "beds[beds.snd_shl == 1].th.sum()\n",
    "\n",
    "count = {eod : 0 for eod in beds.eod.unique()}\n",
    "meters = {eod : 0 for eod in beds.eod.unique()}\n",
    "\n",
    "for _, grp in beds.groupby('count'):\n",
    "    count[grp['eod'].values[0]] += 1\n",
    "    meters[grp['eod'].values[0]] += grp.th.sum()\n",
    "    \n",
    "avgs = {k : meters[k] / count[k] for k in count.keys()}\n",
    "print(avgs)\n",
    "\n",
    "###\n",
    "\n",
    "weird = {problem : [] for problem in ['has_null', 'th_mismatch', 'samples_mismatch']}\n",
    "\n",
    "for name, seq in beds.groupby('count'):\n",
    "    \n",
    "    if seq.isnull().any().any():\n",
    "        weird['has_null'].append(name)\n",
    "    \n",
    "    _, elev_good = io.check_thicknesses(seq, 'tops', 'th', 'elevation')\n",
    "    _, depth_good = io.check_thicknesses(seq, 'tops', 'th', 'depth')\n",
    "    if not (elev_good or depth_good):\n",
    "        weird['th_mismatch'].append(name)\n",
    "        \n",
    "    if not io.check_samples(seq, 'depth_m', 'grain_size_mm'):\n",
    "        weird['samples_mismatch'].append(name)\n",
    "        \n",
    "weird, {k : len(v) for k, v in weird.items()}\n",
    "\n",
    "###\n",
    "\n",
    "beds[beds.depth_m.apply(utils.safelen) != beds.grain_size_mm.apply(utils.safelen)]\n",
    "\n",
    "###\n",
    "\n"
   ]
  }
 ],
 "metadata": {
  "kernelspec": {
   "display_name": "Python 3",
   "language": "python",
   "name": "python3"
  },
  "language_info": {
   "codemirror_mode": {
    "name": "ipython",
    "version": 3
   },
   "file_extension": ".py",
   "mimetype": "text/x-python",
   "name": "python",
   "nbconvert_exporter": "python",
   "pygments_lexer": "ipython3",
   "version": "3.8.3"
  }
 },
 "nbformat": 4,
 "nbformat_minor": 2
}
