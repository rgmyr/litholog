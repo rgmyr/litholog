{
 "cells": [
  {
   "cell_type": "markdown",
   "metadata": {},
   "source": [
    "# Demo of `litholog` functionality\n",
    "\n",
    "litholog is a package-level extension of agile-geoscience/striplog, with additional features that focus on lithology, and an API that is geared toward facilitating machine learning and quantitative analysis.\n",
    "\n",
    "The package provides two primary data structures:\n",
    "\n",
    "- `Bed`\n",
    "    - stores data from one bed (e.g., top, base, lithology, thickness, grain size, etc).\n",
    "    - is equivalent to a `striplog.Interval`\n",
    "\n",
    "- `BedSequence`\n",
    "    - stores a collection of `Beds` in stratigraphic order \n",
    "    - is equivalent to a `striplog.Striplog`\n",
    "\n",
    "\n",
    "Other utilities include:\n",
    "- transformations for grain-size data from millimeter (mm) to log2 (a.k.a. Psi) units, which are far easier to work with than mm. \n",
    "- calculation of the following metrics at the `BedSequence` level:\n",
    "    - net-to-gross\n",
    "    - amalgamation ratio\n",
    "    - psuedo gamma ray log\n",
    "    - Hurst statistics (for determining facies clustering)\n",
    "- default lithology colors\n",
    "\n",
    "The data provided with this demo come from two papers, and all logs were digitized using the Matlab digitizer included with this release.\n",
    "- 19 logs from Jobe et al. 2012 ([html](https://doi.org/10.1111/j.1365-3091.2011.01283.x), [pdf](https://www.dropbox.com/s/sgzmc1exd5vjd3h/2012%20Jobe%20et%20al%20Sed-%20Climbing%20ripple%20successions%20in%20turbidite%20systems.pdf?dl=0))\n",
    "- 11 logs from Jobe et al. 2010 ([html](https://doi.org/10.2110/jsr.2010.092), [pdf](https://www.dropbox.com/s/zo12v3ixm86yt7e/2010%20Jobe%20et%20al%20JSR%20-%20Submarine%20channel%20asymmetry.pdf?dl=0)), \n",
    "\n",
    "An example log from that paper is shown here, drafted in a vector-drawing program:\n",
    "<img src=\"../images/example_log.png\" alt=\"Example graphic log from Jobe et al. (2012)\" width=\"500\"/>\n",
    "\n",
    "When plotted with litholog looks like this:\n",
    "\n",
    "\n",
    "\n",
    "# NOTES TO CHAT WITH ROSS ABOUT:\n",
    "- I dont think the filter_nan_gaussian gets used? \n",
    "- component_map?\n",
    "- tests folder?\n",
    "- missing lithology NaNs\n",
    "- making BedSeq from scratch\n",
    "- to add:\n",
    "    - wentworth demo\n",
    "    - cleaning and io demo\n",
    "\n",
    "---\n",
    "---\n",
    "\n",
    "\n",
    "## Import some packages, including `litholog`"
   ]
  },
  {
   "cell_type": "code",
   "execution_count": 5,
   "metadata": {},
   "outputs": [],
   "source": [
    "import collections\n",
    "import inspect\n",
    "\n",
    "import numpy as np\n",
    "import pandas as pd\n",
    "\n",
    "import matplotlib.pyplot as plt\n",
    "plt.style.use('ggplot')\n",
    "\n",
    "import litholog\n",
    "from litholog import utils, Bed\n",
    "from litholog.sequence import io, BedSequence"
   ]
  },
  {
   "cell_type": "code",
   "execution_count": 2,
   "metadata": {},
   "outputs": [
    {
     "data": {
      "text/html": [
       "<table><tr><th>hatch</th><th>width</th><th>component</th><th>colour</th></tr><tr><td style=\"color:black; background-color:white\">None</td><td style=\"color:black; background-color:white\">-6.0</td><td style=\"color:black; background-color:white\"><table><tr><td><strong>lithology</strong></td><td>mud</td></tr></table></td><td style=\"color:#000000; background-color:#ad8150\">#ad8150</td></tr><tr><td style=\"color:black; background-color:white\">.</td><td style=\"color:black; background-color:white\">-1.0</td><td style=\"color:black; background-color:white\"><table><tr><td><strong>lithology</strong></td><td>sand</td></tr></table></td><td style=\"color:#000000; background-color:#fffe7a\">#fffe7a</td></tr><tr><td style=\"color:black; background-color:white\">o</td><td style=\"color:black; background-color:white\">4.0</td><td style=\"color:black; background-color:white\"><table><tr><td><strong>lithology</strong></td><td>gravel</td></tr></table></td><td style=\"color:#000000; background-color:#ff9408\">#ff9408</td></tr><tr><td style=\"color:black; background-color:white\">x</td><td style=\"color:black; background-color:white\">-1.0</td><td style=\"color:black; background-color:white\"><table><tr><td><strong>lithology</strong></td><td>missing</td></tr></table></td><td style=\"color:#000000; background-color:#ffffff\">#ffffff</td></tr></table>"
      ],
      "text/plain": [
       "Legend(Decor({'component': Component({'lithology': 'mud'}), '_colour': '#ad8150', 'hatch': None, 'width': -6.0})\n",
       "Decor({'component': Component({'lithology': 'sand'}), '_colour': '#fffe7a', 'hatch': '.', 'width': -1.0})\n",
       "Decor({'component': Component({'lithology': 'gravel'}), '_colour': '#ff9408', 'hatch': 'o', 'width': 4.0})\n",
       "Decor({'component': Component({'lithology': 'missing'}), '_colour': '#ffffff', 'hatch': 'x', 'width': -1.0}))"
      ]
     },
     "execution_count": 2,
     "metadata": {},
     "output_type": "execute_result"
    }
   ],
   "source": [
    "#defaults legend for plotting\n",
    "litholog.defaults.litholegend"
   ]
  },
  {
   "cell_type": "code",
   "execution_count": 3,
   "metadata": {},
   "outputs": [
    {
     "data": {
      "image/png": "[encoded data removed]",
      "text/plain": [
       "<Figure size 432x288 with 5 Axes>"
      ]
     },
     "metadata": {},
     "output_type": "display_data"
    }
   ],
   "source": [
    "# and this is how Beds will look when plotted\n",
    "litholog.defaults.litholegend.plot()"
   ]
  },
  {
   "cell_type": "code",
   "execution_count": 4,
   "metadata": {},
   "outputs": [
    {
     "data": {
      "text/html": [
       "<table><tr><th>hatch</th><th>width</th><th>component</th><th>colour</th></tr><tr><td style=\"color:black; background-color:white\">None</td><td style=\"color:black; background-color:white\">-6.0</td><td style=\"color:black; background-color:white\"><table><tr><td><strong>lithology</strong></td><td>mud</td></tr></table></td><td style=\"color:#000000; background-color:#ad8150\">#ad8150</td></tr><tr><td style=\"color:black; background-color:white\">.</td><td style=\"color:black; background-color:white\">-1.0</td><td style=\"color:black; background-color:white\"><table><tr><td><strong>lithology</strong></td><td>sand</td></tr></table></td><td style=\"color:#ffffff; background-color:#0000ff\">#0000ff</td></tr><tr><td style=\"color:black; background-color:white\">o</td><td style=\"color:black; background-color:white\">4.0</td><td style=\"color:black; background-color:white\"><table><tr><td><strong>lithology</strong></td><td>gravel</td></tr></table></td><td style=\"color:#000000; background-color:#ff9408\">#ff9408</td></tr><tr><td style=\"color:black; background-color:white\">x</td><td style=\"color:black; background-color:white\">-1.0</td><td style=\"color:black; background-color:white\"><table><tr><td><strong>lithology</strong></td><td>missing</td></tr></table></td><td style=\"color:#000000; background-color:#ffffff\">#ffffff</td></tr></table>"
      ],
      "text/plain": [
       "Legend(Decor({'component': Component({'lithology': 'mud'}), '_colour': '#ad8150', 'hatch': None, 'width': -6.0})\n",
       "Decor({'component': Component({'lithology': 'sand'}), '_colour': '#0000ff', 'hatch': '.', 'width': -1.0})\n",
       "Decor({'component': Component({'lithology': 'gravel'}), '_colour': '#ff9408', 'hatch': 'o', 'width': 4.0})\n",
       "Decor({'component': Component({'lithology': 'missing'}), '_colour': '#ffffff', 'hatch': 'x', 'width': -1.0}))"
      ]
     },
     "execution_count": 4,
     "metadata": {},
     "output_type": "execute_result"
    }
   ],
   "source": [
    "# modify the legend\n",
    "litholog.defaults.sand_decor.colour = 'blue'\n",
    "\n",
    "# and see if it worked\n",
    "litholog.defaults.litholegend"
   ]
  },
  {
   "cell_type": "code",
   "execution_count": 202,
   "metadata": {},
   "outputs": [
    {
     "data": {
      "image/png": "[encoded data removed]",
      "text/plain": [
       "<Figure size 432x288 with 5 Axes>"
      ]
     },
     "metadata": {},
     "output_type": "display_data"
    }
   ],
   "source": [
    "# modify things again\n",
    "litholog.defaults.sand_decor.colour = 'yellow'\n",
    "litholog.defaults.sand_decor.hatch = None\n",
    "\n",
    "# call the plot function this time - note sand doesnt have dots any more\n",
    "litholog.defaults.litholegend.plot()"
   ]
  },
  {
   "cell_type": "markdown",
   "metadata": {},
   "source": [
    "# Make a `Bed` and a `BedSequence` from scratch\n",
    "would be better to make a list of tops, bases, and zip it that way..."
   ]
  },
  {
   "cell_type": "code",
   "execution_count": 68,
   "metadata": {},
   "outputs": [
    {
     "name": "stdout",
     "output_type": "stream",
     "text": [
      "depth\n"
     ]
    },
    {
     "data": {
      "text/html": [
       "<table><tr><td style=\"width:2em; background-color:#DDDDDD\" rowspan=\"6\"></td><td><strong>top</strong></td><td>1.0</td></tr><tr><td><strong>primary</strong></td><td>None</td></tr><tr><td><strong>summary</strong></td><td>None</td></tr><tr><td><strong>description</strong></td><td></td></tr><tr><td><strong>data</strong></td><td><table><tr><td><strong>lit1</strong></td><td>5</td></tr><tr><td><strong>arr1</strong></td><td>[1, 2, 3]</td></tr><tr><td><strong>arr2</strong></td><td>[4, 5, 6]</td></tr></table></td></tr><tr><td><strong>base</strong></td><td>2.0</td></tr></table>"
      ],
      "text/plain": [
       "Interval({'data': {'lit1': 5, 'arr1': [1, 2, 3], 'arr2': [4, 5, 6]}, 'top': Position({'middle': 1.0, 'units': 'm'}), 'base': Position({'middle': 2.0, 'units': 'm'}), 'description': '', 'components': []})"
      ]
     },
     "execution_count": 68,
     "metadata": {},
     "output_type": "execute_result"
    }
   ],
   "source": [
    "top, base = 1, 2\n",
    "data = {'lit1': 5, 'arr1': [1,2,3], 'arr2': [4,5,6]}\n",
    "\n",
    "B = litholog.Bed(top, base, data)\n",
    "print(B.order)\n",
    "B"
   ]
  },
  {
   "cell_type": "code",
   "execution_count": 205,
   "metadata": {},
   "outputs": [
    {
     "ename": "TypeError",
     "evalue": "__init__() missing 1 required positional argument: 'base'",
     "output_type": "error",
     "traceback": [
      "\u001b[0;31m---------------------------------------------------------------------------\u001b[0m",
      "\u001b[0;31mTypeError\u001b[0m                                 Traceback (most recent call last)",
      "\u001b[0;32m<ipython-input-205-4f270b5050fa>\u001b[0m in \u001b[0;36m<module>\u001b[0;34m\u001b[0m\n\u001b[1;32m      1\u001b[0m \u001b[0mbed1\u001b[0m \u001b[0;34m=\u001b[0m \u001b[0mBed\u001b[0m\u001b[0;34m(\u001b[0m\u001b[0mtop\u001b[0m \u001b[0;34m=\u001b[0m \u001b[0;36m1\u001b[0m\u001b[0;34m,\u001b[0m \u001b[0mbase\u001b[0m \u001b[0;34m=\u001b[0m \u001b[0;36m0\u001b[0m\u001b[0;34m,\u001b[0m \u001b[0mdata\u001b[0m \u001b[0;34m=\u001b[0m \u001b[0;34m{\u001b[0m\u001b[0;34m'lithology'\u001b[0m\u001b[0;34m:\u001b[0m\u001b[0;34m'sand'\u001b[0m\u001b[0;34m}\u001b[0m\u001b[0;34m)\u001b[0m\u001b[0;34m\u001b[0m\u001b[0;34m\u001b[0m\u001b[0m\n\u001b[1;32m      2\u001b[0m \u001b[0mbed2\u001b[0m \u001b[0;34m=\u001b[0m \u001b[0mBed\u001b[0m\u001b[0;34m(\u001b[0m\u001b[0mtop\u001b[0m \u001b[0;34m=\u001b[0m \u001b[0;36m1.1\u001b[0m\u001b[0;34m,\u001b[0m \u001b[0mbase\u001b[0m \u001b[0;34m=\u001b[0m \u001b[0;36m1\u001b[0m\u001b[0;34m,\u001b[0m \u001b[0mdata\u001b[0m \u001b[0;34m=\u001b[0m \u001b[0;34m{\u001b[0m\u001b[0;34m'lithology'\u001b[0m\u001b[0;34m:\u001b[0m\u001b[0;34m'mud'\u001b[0m\u001b[0;34m}\u001b[0m\u001b[0;34m)\u001b[0m\u001b[0;34m\u001b[0m\u001b[0;34m\u001b[0m\u001b[0m\n\u001b[0;32m----> 3\u001b[0;31m \u001b[0mbed3\u001b[0m \u001b[0;34m=\u001b[0m \u001b[0mBed\u001b[0m\u001b[0;34m(\u001b[0m\u001b[0mtop\u001b[0m \u001b[0;34m=\u001b[0m \u001b[0;36m1.8\u001b[0m\u001b[0;34m,\u001b[0m \u001b[0mdata\u001b[0m \u001b[0;34m=\u001b[0m \u001b[0;34m{\u001b[0m\u001b[0;34m'lithology'\u001b[0m\u001b[0;34m:\u001b[0m\u001b[0;34m'sand'\u001b[0m\u001b[0;34m}\u001b[0m\u001b[0;34m)\u001b[0m\u001b[0;34m\u001b[0m\u001b[0;34m\u001b[0m\u001b[0m\n\u001b[0m\u001b[1;32m      4\u001b[0m \u001b[0;34m\u001b[0m\u001b[0m\n\u001b[1;32m      5\u001b[0m \u001b[0mbed_x\u001b[0m \u001b[0;34m=\u001b[0m \u001b[0mBed\u001b[0m\u001b[0;34m(\u001b[0m\u001b[0;36m0\u001b[0m\u001b[0;34m,\u001b[0m\u001b[0;36m1\u001b[0m\u001b[0;34m,\u001b[0m\u001b[0;34m{\u001b[0m\u001b[0;34m'lithology'\u001b[0m\u001b[0;34m:\u001b[0m\u001b[0;34m'sand'\u001b[0m\u001b[0;34m}\u001b[0m\u001b[0;34m)\u001b[0m\u001b[0;34m\u001b[0m\u001b[0;34m\u001b[0m\u001b[0m\n",
      "\u001b[0;31mTypeError\u001b[0m: __init__() missing 1 required positional argument: 'base'"
     ]
    }
   ],
   "source": [
    "bed1 = Bed(top = 1, base = 0, data = {'lithology':'sand'})\n",
    "bed2 = Bed(top = 1.1, base = 1, data = {'lithology':'mud'})\n",
    "bed3 = Bed(top = 1.8, base = 1.1, data = {'lithology':'sand'})\n",
    "\n",
    "bed_x = Bed(0,1,{'lithology':'sand'})\n",
    "\n",
    "print(bed2,'\\n')\n",
    "\n",
    "print(bed1.order)\n",
    "print(bed_x.order,'\\n')\n",
    "\n",
    "print(bed1['lithology'])"
   ]
  },
  {
   "cell_type": "code",
   "execution_count": 67,
   "metadata": {},
   "outputs": [
    {
     "data": {
      "text/plain": [
       "Striplog(3 Intervals, start=0.0, stop=1.8)"
      ]
     },
     "execution_count": 67,
     "metadata": {},
     "output_type": "execute_result"
    }
   ],
   "source": [
    "seq1 = BedSequence([bed1, bed2, bed3])\n",
    "seq1"
   ]
  },
  {
   "cell_type": "code",
   "execution_count": 68,
   "metadata": {},
   "outputs": [
    {
     "ename": "ValueError",
     "evalue": "min() arg is an empty sequence",
     "output_type": "error",
     "traceback": [
      "\u001b[0;31m---------------------------------------------------------------------------\u001b[0m",
      "\u001b[0;31mValueError\u001b[0m                                Traceback (most recent call last)",
      "\u001b[0;32m<ipython-input-68-dcebf4540644>\u001b[0m in \u001b[0;36m<module>\u001b[0;34m\u001b[0m\n\u001b[0;32m----> 1\u001b[0;31m \u001b[0mseq1\u001b[0m\u001b[0;34m.\u001b[0m\u001b[0mplot\u001b[0m\u001b[0;34m(\u001b[0m\u001b[0;34m)\u001b[0m\u001b[0;34m\u001b[0m\u001b[0;34m\u001b[0m\u001b[0m\n\u001b[0m",
      "\u001b[0;32m/opt/anaconda3/lib/python3.8/site-packages/litholog/sequence/viz.py\u001b[0m in \u001b[0;36mplot\u001b[0;34m(self, legend, fig_width, aspect, width_field, depth_field, wentworth, yticks_right, exxon_style, set_ylim, ax, **kwargs)\u001b[0m\n\u001b[1;32m    137\u001b[0m         \u001b[0;32melse\u001b[0m\u001b[0;34m:\u001b[0m\u001b[0;34m\u001b[0m\u001b[0;34m\u001b[0m\u001b[0m\n\u001b[1;32m    138\u001b[0m             \u001b[0;31m# Fall back to component decors if not\u001b[0m\u001b[0;34m\u001b[0m\u001b[0;34m\u001b[0m\u001b[0;34m\u001b[0m\u001b[0m\n\u001b[0;32m--> 139\u001b[0;31m             \u001b[0mmin_width\u001b[0m \u001b[0;34m=\u001b[0m \u001b[0mmin\u001b[0m\u001b[0;34m(\u001b[0m\u001b[0md\u001b[0m\u001b[0;34m.\u001b[0m\u001b[0mwidth\u001b[0m \u001b[0;32mfor\u001b[0m \u001b[0md\u001b[0m \u001b[0;32min\u001b[0m \u001b[0mlegend\u001b[0m\u001b[0;34m)\u001b[0m \u001b[0;34m-\u001b[0m \u001b[0;36m1\u001b[0m\u001b[0;34m\u001b[0m\u001b[0;34m\u001b[0m\u001b[0m\n\u001b[0m\u001b[1;32m    140\u001b[0m             \u001b[0mmax_width\u001b[0m \u001b[0;34m=\u001b[0m \u001b[0mlegend\u001b[0m\u001b[0;34m.\u001b[0m\u001b[0mmax_width\u001b[0m \u001b[0;34m+\u001b[0m \u001b[0;36m1\u001b[0m\u001b[0;34m\u001b[0m\u001b[0;34m\u001b[0m\u001b[0m\n\u001b[1;32m    141\u001b[0m \u001b[0;34m\u001b[0m\u001b[0m\n",
      "\u001b[0;31mValueError\u001b[0m: min() arg is an empty sequence"
     ]
    },
    {
     "data": {
      "image/png": "[encoded data removed]",
      "text/plain": [
       "<Figure size 108x1080 with 1 Axes>"
      ]
     },
     "metadata": {},
     "output_type": "display_data"
    }
   ],
   "source": [
    "seq1.plot()"
   ]
  },
  {
   "cell_type": "markdown",
   "metadata": {},
   "source": [
    "# Demo data\n",
    "\n",
    "## Load the raw `csv` data\n",
    "\n",
    "This first step uses `utils` within litholog to converts depth-grainsize pairs (e.g., that define a fining-upward profile in a bed) into pandas-friendly arrays. The outputs of this will be the fields shown below (e.g., depth_m, grain_size_mm). If you have differently formatted csv data, this step may not apply, or you may need a different util."
   ]
  },
  {
   "cell_type": "code",
   "execution_count": 24,
   "metadata": {
    "scrolled": true
   },
   "outputs": [
    {
     "name": "stdout",
     "output_type": "stream",
     "text": [
      "30 graphic logs imported: \n",
      " ['Pukearuhue' 'Magnolia' 'Karoo krf1' 'Karoo krf2' 'Karoo krf3'\n",
      " 'Karoo krf4' 'Karoo krf5' 'Karoo krf6' 'Karoo krf7' 'Karoo krf8'\n",
      " 'Karoo krf9' 'Karoo krf10' 'Karoo krf11' 'Karoo krf12' 'Karoo krf13'\n",
      " 'Karoo krf14' 'Karoo krf15' 'Karoo krf16' 'Karoo krf17'\n",
      " 'Sierra del Toro czm1' 'Sierra del Toro czm2' 'Sierra del Toro czm3'\n",
      " 'Sierra del Toro czm4' 'Sierra del Toro czm5' 'Sierra del Toro dc1'\n",
      " 'Sierra del Toro dc2' 'Sierra del Toro flame' 'Sierra del Toro h2o'\n",
      " 'Sierra del Toro ssm' 'Sierra del Toro wc']\n"
     ]
    },
    {
     "data": {
      "text/html": [
       "<div>\n",
       "<style scoped>\n",
       "    .dataframe tbody tr th:only-of-type {\n",
       "        vertical-align: middle;\n",
       "    }\n",
       "\n",
       "    .dataframe tbody tr th {\n",
       "        vertical-align: top;\n",
       "    }\n",
       "\n",
       "    .dataframe thead th {\n",
       "        text-align: right;\n",
       "    }\n",
       "</style>\n",
       "<table border=\"1\" class=\"dataframe\">\n",
       "  <thead>\n",
       "    <tr style=\"text-align: right;\">\n",
       "      <th></th>\n",
       "      <th>name</th>\n",
       "      <th>collection</th>\n",
       "      <th>tops</th>\n",
       "      <th>th</th>\n",
       "      <th>gs_tops_mm</th>\n",
       "      <th>gs_tops_psi</th>\n",
       "      <th>snd_shl</th>\n",
       "      <th>mean_gs_mm</th>\n",
       "      <th>mean_gs_psi</th>\n",
       "      <th>max_gs_mm</th>\n",
       "      <th>max_gs_psi</th>\n",
       "      <th>ng</th>\n",
       "      <th>ar</th>\n",
       "      <th>depth_m</th>\n",
       "      <th>grain_size_mm</th>\n",
       "      <th>grain_size_psi</th>\n",
       "    </tr>\n",
       "  </thead>\n",
       "  <tbody>\n",
       "    <tr>\n",
       "      <th>0</th>\n",
       "      <td>Pukearuhue</td>\n",
       "      <td>Mount Messenger</td>\n",
       "      <td>66.907008</td>\n",
       "      <td>0.234645</td>\n",
       "      <td>0.001000</td>\n",
       "      <td>-9.9658</td>\n",
       "      <td>0.0</td>\n",
       "      <td>0.001000</td>\n",
       "      <td>-9.9658</td>\n",
       "      <td>0.001000</td>\n",
       "      <td>-9.9658</td>\n",
       "      <td>0.602931</td>\n",
       "      <td>0.08134</td>\n",
       "      <td>[66.907, 66.6724]</td>\n",
       "      <td>[0.001, 0.001]</td>\n",
       "      <td>[-9.9658, -9.9658]</td>\n",
       "    </tr>\n",
       "    <tr>\n",
       "      <th>1</th>\n",
       "      <td>Pukearuhue</td>\n",
       "      <td>Mount Messenger</td>\n",
       "      <td>66.672363</td>\n",
       "      <td>0.933692</td>\n",
       "      <td>0.122591</td>\n",
       "      <td>-3.0281</td>\n",
       "      <td>1.0</td>\n",
       "      <td>0.129950</td>\n",
       "      <td>-2.9440</td>\n",
       "      <td>0.133845</td>\n",
       "      <td>-2.9014</td>\n",
       "      <td>0.602931</td>\n",
       "      <td>0.08134</td>\n",
       "      <td>[66.6724, 66.5795, 66.3448, 66.1151, 65.9244, ...</td>\n",
       "      <td>[0.1226, 0.1262, 0.1285, 0.1315, 0.1331, 0.133...</td>\n",
       "      <td>[-3.028, -2.9862, -2.9602, -2.9269, -2.9094, -...</td>\n",
       "    </tr>\n",
       "    <tr>\n",
       "      <th>2</th>\n",
       "      <td>Pukearuhue</td>\n",
       "      <td>Mount Messenger</td>\n",
       "      <td>65.738672</td>\n",
       "      <td>0.232201</td>\n",
       "      <td>0.105433</td>\n",
       "      <td>-3.2456</td>\n",
       "      <td>1.0</td>\n",
       "      <td>0.105433</td>\n",
       "      <td>-3.2456</td>\n",
       "      <td>0.105433</td>\n",
       "      <td>-3.2456</td>\n",
       "      <td>0.602931</td>\n",
       "      <td>0.08134</td>\n",
       "      <td>[65.7387, 65.5065]</td>\n",
       "      <td>[0.1054, 0.1054]</td>\n",
       "      <td>[-3.2461, -3.2461]</td>\n",
       "    </tr>\n",
       "    <tr>\n",
       "      <th>3</th>\n",
       "      <td>Pukearuhue</td>\n",
       "      <td>Mount Messenger</td>\n",
       "      <td>65.506471</td>\n",
       "      <td>0.222424</td>\n",
       "      <td>0.115450</td>\n",
       "      <td>-3.1147</td>\n",
       "      <td>1.0</td>\n",
       "      <td>0.137917</td>\n",
       "      <td>-2.8581</td>\n",
       "      <td>0.150254</td>\n",
       "      <td>-2.7345</td>\n",
       "      <td>0.602931</td>\n",
       "      <td>0.08134</td>\n",
       "      <td>[65.5065, 65.4918, 65.4356, 65.372, 65.3476, 6...</td>\n",
       "      <td>[0.1154, 0.1203, 0.1306, 0.1446, 0.1503, 0.1503]</td>\n",
       "      <td>[-3.1153, -3.0553, -2.9368, -2.7899, -2.7341, ...</td>\n",
       "    </tr>\n",
       "    <tr>\n",
       "      <th>4</th>\n",
       "      <td>Pukearuhue</td>\n",
       "      <td>Mount Messenger</td>\n",
       "      <td>65.284047</td>\n",
       "      <td>0.193093</td>\n",
       "      <td>0.110490</td>\n",
       "      <td>-3.1780</td>\n",
       "      <td>1.0</td>\n",
       "      <td>0.129487</td>\n",
       "      <td>-2.9491</td>\n",
       "      <td>0.141708</td>\n",
       "      <td>-2.8190</td>\n",
       "      <td>0.602931</td>\n",
       "      <td>0.08134</td>\n",
       "      <td>[65.284, 65.2327, 65.1716, 65.1301, 65.091]</td>\n",
       "      <td>[0.1105, 0.1221, 0.1329, 0.1417, 0.1417]</td>\n",
       "      <td>[-3.1779, -3.0339, -2.9116, -2.8191, -2.8191]</td>\n",
       "    </tr>\n",
       "  </tbody>\n",
       "</table>\n",
       "</div>"
      ],
      "text/plain": [
       "         name       collection       tops        th  gs_tops_mm  gs_tops_psi  \\\n",
       "0  Pukearuhue  Mount Messenger  66.907008  0.234645    0.001000      -9.9658   \n",
       "1  Pukearuhue  Mount Messenger  66.672363  0.933692    0.122591      -3.0281   \n",
       "2  Pukearuhue  Mount Messenger  65.738672  0.232201    0.105433      -3.2456   \n",
       "3  Pukearuhue  Mount Messenger  65.506471  0.222424    0.115450      -3.1147   \n",
       "4  Pukearuhue  Mount Messenger  65.284047  0.193093    0.110490      -3.1780   \n",
       "\n",
       "   snd_shl  mean_gs_mm  mean_gs_psi  max_gs_mm  max_gs_psi        ng       ar  \\\n",
       "0      0.0    0.001000      -9.9658   0.001000     -9.9658  0.602931  0.08134   \n",
       "1      1.0    0.129950      -2.9440   0.133845     -2.9014  0.602931  0.08134   \n",
       "2      1.0    0.105433      -3.2456   0.105433     -3.2456  0.602931  0.08134   \n",
       "3      1.0    0.137917      -2.8581   0.150254     -2.7345  0.602931  0.08134   \n",
       "4      1.0    0.129487      -2.9491   0.141708     -2.8190  0.602931  0.08134   \n",
       "\n",
       "                                             depth_m  \\\n",
       "0                                  [66.907, 66.6724]   \n",
       "1  [66.6724, 66.5795, 66.3448, 66.1151, 65.9244, ...   \n",
       "2                                 [65.7387, 65.5065]   \n",
       "3  [65.5065, 65.4918, 65.4356, 65.372, 65.3476, 6...   \n",
       "4        [65.284, 65.2327, 65.1716, 65.1301, 65.091]   \n",
       "\n",
       "                                       grain_size_mm  \\\n",
       "0                                     [0.001, 0.001]   \n",
       "1  [0.1226, 0.1262, 0.1285, 0.1315, 0.1331, 0.133...   \n",
       "2                                   [0.1054, 0.1054]   \n",
       "3   [0.1154, 0.1203, 0.1306, 0.1446, 0.1503, 0.1503]   \n",
       "4           [0.1105, 0.1221, 0.1329, 0.1417, 0.1417]   \n",
       "\n",
       "                                      grain_size_psi  \n",
       "0                                 [-9.9658, -9.9658]  \n",
       "1  [-3.028, -2.9862, -2.9602, -2.9269, -2.9094, -...  \n",
       "2                                 [-3.2461, -3.2461]  \n",
       "3  [-3.1153, -3.0553, -2.9368, -2.7899, -2.7341, ...  \n",
       "4      [-3.1779, -3.0339, -2.9116, -2.8191, -2.8191]  "
      ]
     },
     "execution_count": 24,
     "metadata": {},
     "output_type": "execute_result"
    }
   ],
   "source": [
    "# Converts 'string' arrays to numpy\n",
    "transforms = {c : utils.string2array_pandas for c in ['depth_m', \n",
    "                                                      'grain_size_mm', \n",
    "                                                      'grain_size_psi']}\n",
    "\n",
    "# Read the demo data\n",
    "df = pd.read_csv('../data/demo_data2.csv', converters=transforms)\n",
    "\n",
    "# counts and prints the names of the logs in the data file\n",
    "print(len(df.name.unique()),\n",
    "      'graphic logs imported:',\n",
    "      '\\n',\n",
    "      df.name.unique()) \n",
    "\n",
    "df.head() # displays the first five rows of data"
   ]
  },
  {
   "cell_type": "markdown",
   "metadata": {},
   "source": [
    "The variable `df` is just a pandas DataFrame at this point - it hasn't been put into `litholog` format yet. \n",
    "\n",
    "Notice that the columns `ng` (net-to-gross) and `ar` (amalgamation ratio) are the same for each graphic log. This csv was processed using Matlab, and `ng` and `ar` were calculated there. Not to worry, `litholog` can also calculate these metrics, which we will show you how to do below. \n",
    "\n",
    "--- \n",
    "\n",
    "---\n",
    "\n",
    "## Convert groups to `BedSequence`s\n",
    "\n",
    "This is the step that will convert `df` into `BedSequences` (equivalent to a `striplog.Striplog`) that contains `Beds` (equivalent to `striplog.Intervals`):"
   ]
  },
  {
   "cell_type": "code",
   "execution_count": 25,
   "metadata": {},
   "outputs": [
    {
     "data": {
      "text/plain": [
       "[('Karoo krf1', 105),\n",
       " ('Karoo krf10', 221),\n",
       " ('Karoo krf11', 47),\n",
       " ('Karoo krf12', 35),\n",
       " ('Karoo krf13', 51),\n",
       " ('Karoo krf14', 96),\n",
       " ('Karoo krf15', 54),\n",
       " ('Karoo krf16', 167),\n",
       " ('Karoo krf17', 97),\n",
       " ('Karoo krf2', 20),\n",
       " ('Karoo krf3', 42),\n",
       " ('Karoo krf4', 15),\n",
       " ('Karoo krf5', 51),\n",
       " ('Karoo krf6', 288),\n",
       " ('Karoo krf7', 205),\n",
       " ('Karoo krf8', 244),\n",
       " ('Karoo krf9', 191),\n",
       " ('Magnolia', 180),\n",
       " ('Pukearuhue', 209),\n",
       " ('Sierra del Toro czm1', 79),\n",
       " ('Sierra del Toro czm2', 33),\n",
       " ('Sierra del Toro czm3', 55),\n",
       " ('Sierra del Toro czm4', 96),\n",
       " ('Sierra del Toro czm5', 118),\n",
       " ('Sierra del Toro dc1', 166),\n",
       " ('Sierra del Toro dc2', 44),\n",
       " ('Sierra del Toro flame', 63),\n",
       " ('Sierra del Toro h2o', 66),\n",
       " ('Sierra del Toro ssm', 54),\n",
       " ('Sierra del Toro wc', 38)]"
      ]
     },
     "execution_count": 25,
     "metadata": {},
     "output_type": "execute_result"
    }
   ],
   "source": [
    "# Columns shared by whole sequences (i.e., shared by an entire graphic log)\n",
    "METACOLS = ['name', 'collection', 'ng', 'ar']\n",
    "\n",
    "# Columns of bed-level data\n",
    "DATACOLS = ['th', 'gs_tops_mm', 'snd_shl', 'depth_m',\n",
    "            'gs_tops_mm', 'mean_gs_mm', 'max_gs_mm', 'grain_size_mm',\n",
    "            'gs_tops_psi', 'mean_gs_psi', 'max_gs_psi', 'grain_size_psi']\n",
    "\n",
    "# Convert to a list of `BedSequence`s\n",
    "seqs = []\n",
    "for name, seq_df in df.groupby('name'):\n",
    "    seqs.append(\n",
    "        BedSequence.from_dataframe(\n",
    "            seq_df, \n",
    "            thickcol='th',\n",
    "            component_map=litholog.defaults.DEFAULT_COMPONENT_MAP,\n",
    "            metacols=METACOLS,\n",
    "            datacols=DATACOLS,\n",
    "        )\n",
    "    )\n",
    "    \n",
    "\n",
    "# Show name + eod + number of beds of each\n",
    "[(s.metadata['name'], len(s)) for s in seqs]"
   ]
  },
  {
   "cell_type": "code",
   "execution_count": 26,
   "metadata": {},
   "outputs": [
    {
     "name": "stdout",
     "output_type": "stream",
     "text": [
      "This is a core, so it has order =\n",
      " elevation \n",
      "all other demo BedSequences are 'elevation' ordered\n"
     ]
    },
    {
     "ename": "TypeError",
     "evalue": "'numpy.ndarray' object is not callable",
     "output_type": "error",
     "traceback": [
      "\u001b[0;31m---------------------------------------------------------------------------\u001b[0m",
      "\u001b[0;31mTypeError\u001b[0m                                 Traceback (most recent call last)",
      "\u001b[0;32m<ipython-input-26-7801d90d5653>\u001b[0m in \u001b[0;36m<module>\u001b[0;34m\u001b[0m\n\u001b[1;32m      7\u001b[0m       '\\nall other demo BedSequences are \\'elevation\\' ordered')\n\u001b[1;32m      8\u001b[0m \u001b[0;34m\u001b[0m\u001b[0m\n\u001b[0;32m----> 9\u001b[0;31m \u001b[0mmag\u001b[0m\u001b[0;34m.\u001b[0m\u001b[0mvalues\u001b[0m\u001b[0;34m(\u001b[0m\u001b[0;34m'top'\u001b[0m\u001b[0;34m)\u001b[0m\u001b[0;34m\u001b[0m\u001b[0;34m\u001b[0m\u001b[0m\n\u001b[0m",
      "\u001b[0;31mTypeError\u001b[0m: 'numpy.ndarray' object is not callable"
     ]
    }
   ],
   "source": [
    "# Choose one to use as an example\n",
    "mag = seqs[-2] # the second to last one\n",
    "\n",
    "\n",
    "print('This is a core, so it has order =\\n',\n",
    "      mag.order,\n",
    "      '\\nall other demo BedSequences are \\'elevation\\' ordered')\n",
    "\n",
    "mag.values('top')"
   ]
  },
  {
   "cell_type": "code",
   "execution_count": 27,
   "metadata": {},
   "outputs": [
    {
     "data": {
      "text/plain": [
       "(Position({'middle': 0.0, 'upper': 0.0, 'lower': 0.0, 'units': 'm'}),\n",
       " Position({'middle': 65.99495201, 'units': 'm'}))"
      ]
     },
     "execution_count": 27,
     "metadata": {},
     "output_type": "execute_result"
    }
   ],
   "source": [
    "mag.start, mag.stop"
   ]
  },
  {
   "cell_type": "code",
   "execution_count": 28,
   "metadata": {},
   "outputs": [
    {
     "name": "stdout",
     "output_type": "stream",
     "text": [
      "{'name': 'Sierra del Toro ssm', 'collection': 'Cerro Toro', 'ng': 0.607889916, 'ar': 0.148148148}\n"
     ]
    },
    {
     "data": {
      "text/plain": [
       "0.607889916"
      ]
     },
     "execution_count": 28,
     "metadata": {},
     "output_type": "execute_result"
    }
   ],
   "source": [
    "print(mag.metadata)\n",
    "\n",
    "mag.metadata['ng']"
   ]
  },
  {
   "cell_type": "code",
   "execution_count": 29,
   "metadata": {},
   "outputs": [
    {
     "name": "stdout",
     "output_type": "stream",
     "text": [
      "<class 'numpy.ndarray'>\n",
      "[2.30115381 0.13448302 2.53276345 0.65000124 1.70251761 0.11440395\n",
      " 2.27173565 0.73545399 0.40128938 0.91202132 0.80987493 2.56021613\n",
      " 0.08674654 0.65059908 0.49879263 1.42770354 0.36520843 1.64696757\n",
      " 0.36250413 0.93410444 0.8749703  0.20539209 0.11501957 0.63011803\n",
      " 1.04563246 0.84413037 0.10892005 0.9094824  0.32676014 2.78533022\n",
      " 0.14018841 0.84286117 0.10903543 0.76661329 0.36857949 0.52081885\n",
      " 0.20031494 0.15624565 0.44075646 1.11921999 0.63592045 0.17169852\n",
      " 1.05562794 1.29308313 7.03981974 0.14640267 0.62390062 0.92664279\n",
      " 2.7617331  1.68582241 1.21019243 2.62953795 6.22164738 5.98399271]\n"
     ]
    }
   ],
   "source": [
    "print(type(mag.get_field('th')))\n",
    "print(mag.get_field('th'))"
   ]
  },
  {
   "cell_type": "code",
   "execution_count": 30,
   "metadata": {},
   "outputs": [
    {
     "name": "stdout",
     "output_type": "stream",
     "text": [
      "total thickness is 65.994952011 meters\n",
      "maximum Bed thickness is 7.039819744 meters\n",
      "minimum Bed thickness is 0.086746545 meters\n",
      "[(Component({'lithology': 'mud'}), 27.331179002999992), (Component({'lithology': 'sand'}), 19.418313176999987), (Component({'lithology': 'gravel'}), 19.245459830999998)]\n"
     ]
    }
   ],
   "source": [
    "print('total thickness is',mag.get_field('th').sum(),'meters')\n",
    "print('maximum Bed thickness is',mag.max_field('th'),'meters')\n",
    "print('minimum Bed thickness is',mag.min_field('th'),'meters')\n",
    "\n",
    "print(mag.unique)"
   ]
  },
  {
   "cell_type": "markdown",
   "metadata": {},
   "source": [
    "Now let's take a look at one `Bed`. All `Beds` must have a `top`, `base`, and `data`, which can be array or dict-like"
   ]
  },
  {
   "cell_type": "code",
   "execution_count": 31,
   "metadata": {},
   "outputs": [
    {
     "data": {
      "text/html": [
       "<table><tr><td style=\"width:2em; background-color:#DDDDDD\" rowspan=\"6\"></td><td><strong>top</strong></td><td>65.99495201</td></tr><tr><td><strong>primary</strong></td><td><table><tr><td><strong>lithology</strong></td><td>mud</td></tr></table></td></tr><tr><td><strong>summary</strong></td><td>2.30 m of mud</td></tr><tr><td><strong>description</strong></td><td></td></tr><tr><td><strong>data</strong></td><td><table><tr><td><strong>th</strong></td><td>2.301153813</td></tr><tr><td><strong>gs_tops_mm</strong></td><td>0.009271353000000001</td></tr><tr><td><strong>snd_shl</strong></td><td>0.0</td></tr><tr><td><strong>depth_m</strong></td><td>[65.995  63.6938]</td></tr><tr><td><strong>mean_gs_mm</strong></td><td>0.009271353000000001</td></tr><tr><td><strong>max_gs_mm</strong></td><td>0.009271353000000001</td></tr><tr><td><strong>grain_size_mm</strong></td><td>[0.0093 0.0093]</td></tr><tr><td><strong>gs_tops_psi</strong></td><td>-6.752999999999999</td></tr><tr><td><strong>mean_gs_psi</strong></td><td>-6.752999999999999</td></tr><tr><td><strong>max_gs_psi</strong></td><td>-6.752999999999999</td></tr><tr><td><strong>grain_size_psi</strong></td><td>[-6.7486 -6.7486]</td></tr></table></td></tr><tr><td><strong>base</strong></td><td>63.69379819700001</td></tr></table>"
      ],
      "text/plain": [
       "Interval({'data': {'th': 2.301153813, 'gs_tops_mm': 0.009271353000000001, 'snd_shl': 0.0, 'depth_m': array([65.995 , 63.6938]), 'mean_gs_mm': 0.009271353000000001, 'max_gs_mm': 0.009271353000000001, 'grain_size_mm': array([0.0093, 0.0093]), 'gs_tops_psi': -6.752999999999999, 'mean_gs_psi': -6.752999999999999, 'max_gs_psi': -6.752999999999999, 'grain_size_psi': array([-6.7486, -6.7486])}, 'top': Position({'middle': 65.99495201, 'units': 'm'}), 'base': Position({'middle': 63.69379819700001, 'units': 'm'}), 'description': '', 'components': [Component({'lithology': 'mud'})]})"
      ]
     },
     "execution_count": 31,
     "metadata": {},
     "output_type": "execute_result"
    }
   ],
   "source": [
    "mag[0]"
   ]
  },
  {
   "cell_type": "code",
   "execution_count": 33,
   "metadata": {},
   "outputs": [
    {
     "data": {
      "text/html": [
       "<table><tr><td><strong>upper</strong></td><td>0.0</td></tr><tr><td><strong>middle</strong></td><td>0.0</td></tr><tr><td><strong>lower</strong></td><td>0.0</td></tr></table>"
      ],
      "text/plain": [
       "Position({'middle': 0.0, 'upper': 0.0, 'lower': 0.0, 'units': 'm'})"
      ]
     },
     "execution_count": 33,
     "metadata": {},
     "output_type": "execute_result"
    }
   ],
   "source": [
    "mag[-1].base # if a log is elevation-ordered, the last bed should have a base at zero"
   ]
  },
  {
   "cell_type": "code",
   "execution_count": 37,
   "metadata": {},
   "outputs": [
    {
     "name": "stdout",
     "output_type": "stream",
     "text": [
      "5.983992709\n",
      "gravel\n",
      "4.1499\n",
      "c_gravel\n",
      "5.98 m of gravel\n"
     ]
    }
   ],
   "source": [
    "print(mag[-1].top.upper) # see the striplog Interval class for info on upper, middle, and lower\n",
    "print(mag[-1].primary.lithology)\n",
    "print(mag[-1].data['mean_gs_psi'])\n",
    "print(litholog.wentworth.psi2name(mag[-1].data['mean_gs_psi']))\n",
    "print(mag[-1].summary())"
   ]
  },
  {
   "cell_type": "code",
   "execution_count": 63,
   "metadata": {},
   "outputs": [
    {
     "data": {
      "text/html": [
       "<table><tr><td style=\"width:2em; background-color:#DDDDDD\" rowspan=\"6\"></td><td><strong>top</strong></td><td>31.57840287</td></tr><tr><td><strong>primary</strong></td><td><table><tr><td><strong>lithology</strong></td><td>sand</td></tr></table></td></tr><tr><td><strong>summary</strong></td><td>1.06 m of sand</td></tr><tr><td><strong>description</strong></td><td></td></tr><tr><td><strong>data</strong></td><td><table><tr><td><strong>th</strong></td><td>1.055627945</td></tr><tr><td><strong>gs_tops_mm</strong></td><td>0.19548374300000002</td></tr><tr><td><strong>snd_shl</strong></td><td>1.0</td></tr><tr><td><strong>depth_m</strong></td><td>[31.5784 31.5339 31.4258 31.2477 31.0061 30.7644 30.6309 30.5228]</td></tr><tr><td><strong>mean_gs_mm</strong></td><td>0.220530914</td></tr><tr><td><strong>max_gs_mm</strong></td><td>0.233113491</td></tr><tr><td><strong>grain_size_mm</strong></td><td>[0.1955 0.2078 0.2094 0.2159 0.2226 0.2278 0.2331 0.2331]</td></tr><tr><td><strong>gs_tops_psi</strong></td><td>-2.3549</td></tr><tr><td><strong>mean_gs_psi</strong></td><td>-2.1809</td></tr><tr><td><strong>max_gs_psi</strong></td><td>-2.1009</td></tr><tr><td><strong>grain_size_psi</strong></td><td>[-2.3548 -2.2667 -2.2557 -2.2116 -2.1675 -2.1342 -2.101  -2.101 ]</td></tr></table></td></tr><tr><td><strong>base</strong></td><td>30.522774925</td></tr></table>"
      ],
      "text/plain": [
       "Interval({'data': {'th': 1.055627945, 'gs_tops_mm': 0.19548374300000002, 'snd_shl': 1.0, 'depth_m': array([31.5784, 31.5339, 31.4258, 31.2477, 31.0061, 30.7644, 30.6309,\n",
       "       30.5228]), 'mean_gs_mm': 0.220530914, 'max_gs_mm': 0.233113491, 'grain_size_mm': array([0.1955, 0.2078, 0.2094, 0.2159, 0.2226, 0.2278, 0.2331, 0.2331]), 'gs_tops_psi': -2.3549, 'mean_gs_psi': -2.1809, 'max_gs_psi': -2.1009, 'grain_size_psi': array([-2.3548, -2.2667, -2.2557, -2.2116, -2.1675, -2.1342, -2.101 ,\n",
       "       -2.101 ])}, 'top': Position({'middle': 31.57840287, 'units': 'm'}), 'base': Position({'middle': 30.522774925, 'units': 'm'}), 'description': '', 'components': [Component({'lithology': 'sand'})]})"
      ]
     },
     "execution_count": 63,
     "metadata": {},
     "output_type": "execute_result"
    }
   ],
   "source": [
    "# lets look at a covered interval\n",
    "mag[-12]"
   ]
  },
  {
   "cell_type": "code",
   "execution_count": 38,
   "metadata": {},
   "outputs": [
    {
     "name": "stdout",
     "output_type": "stream",
     "text": [
      "65.99495201\n",
      "63.69379820000001\n",
      "63.55931518\n",
      "61.02655173\n",
      "60.37655049\n",
      "58.67403288\n",
      "58.55962893\n",
      "56.28789327\n",
      "55.55243928\n",
      "55.15114989999999\n",
      "54.23912859\n",
      "53.42925366\n",
      "50.86903754\n",
      "50.78229099\n",
      "50.13169191\n",
      "49.63289928\n",
      "48.20519573\n",
      "47.8399873\n",
      "46.19301973\n",
      "45.8305156\n",
      "44.89641115\n",
      "44.02144085\n",
      "43.81604876\n",
      "43.70102919\n",
      "43.07091116\n",
      "42.0252787\n",
      "41.18114833\n",
      "41.07222829\n",
      "40.16274589\n",
      "39.83598575\n",
      "37.05065553\n",
      "36.91046712\n",
      "36.06760595\n",
      "35.95857052\n",
      "35.19195722\n",
      "34.82337773\n",
      "34.30255888\n",
      "34.10224394\n",
      "33.94599829\n",
      "33.50524183\n",
      "32.38602184\n",
      "31.75010139\n",
      "31.57840287\n",
      "30.52277492\n",
      "29.22969179\n",
      "22.18987205\n",
      "22.04346938\n",
      "21.41956876\n",
      "20.49292597\n",
      "17.73119287\n",
      "16.04537046\n",
      "14.83517804\n",
      "12.20564009\n",
      "5.983992709\n"
     ]
    }
   ],
   "source": [
    "for bed in mag:\n",
    "    print(bed.top.upper)\n",
    "    \n",
    "    "
   ]
  },
  {
   "cell_type": "markdown",
   "metadata": {},
   "source": [
    "## Basic Plotting"
   ]
  },
  {
   "cell_type": "code",
   "execution_count": 39,
   "metadata": {},
   "outputs": [
    {
     "data": {
      "image/png": "[encoded data removed]",
      "text/plain": [
       "<Figure size 432x288 with 5 Axes>"
      ]
     },
     "metadata": {},
     "output_type": "display_data"
    }
   ],
   "source": [
    "litholog.defaults.litholegend.plot()"
   ]
  },
  {
   "cell_type": "code",
   "execution_count": 40,
   "metadata": {},
   "outputs": [
    {
     "data": {
      "image/png": "[encoded data removed]",
      "text/plain": [
       "<Figure size 108x1080 with 1 Axes>"
      ]
     },
     "metadata": {},
     "output_type": "display_data"
    }
   ],
   "source": [
    "# the most simple plot, but doesnt include any bed-level grain size data\n",
    "# since this is a core, it plots depth-ordered\n",
    "mag.plot()\n"
   ]
  },
  {
   "cell_type": "code",
   "execution_count": 41,
   "metadata": {},
   "outputs": [
    {
     "data": {
      "image/png": "[encoded data removed]",
      "text/plain": [
       "<Figure size 216x1440 with 1 Axes>"
      ]
     },
     "metadata": {},
     "output_type": "display_data"
    }
   ],
   "source": [
    "# here is a little nicer way to plot it that includes the grain size data for each bed\n",
    "\n",
    "fig, ax = plt.subplots(figsize=[3,20])\n",
    "\n",
    "seq_num = -2\n",
    "\n",
    "seqs[seq_num].plot(ax=ax,\n",
    "                   legend=litholog.defaults.litholegend,\n",
    "                   width_field='grain_size_psi',\n",
    "                   depth_field='depth_m',\n",
    "                   wentworth='fine'\n",
    "                  )\n",
    "\n",
    "ax.set_title(seqs[seq_num].metadata['name']);"
   ]
  },
  {
   "cell_type": "code",
   "execution_count": 50,
   "metadata": {},
   "outputs": [
    {
     "data": {
      "image/png": "[encoded data removed]",
      "text/plain": [
       "<Figure size 432x288 with 1 Axes>"
      ]
     },
     "metadata": {},
     "output_type": "display_data"
    }
   ],
   "source": [
    "gs=mag[-1].data['grain_size_psi'] # get just one field from a Bed\n",
    "de=mag[-1].data['depth_m'] \n",
    "\n",
    "plt.plot(gs,de)\n",
    "if mag.order=='depth': \n",
    "    plt.gca().invert_yaxis()\n",
    "    print('depth ordered')\n",
    "    \n",
    "plt.title('Fining upward trend from one Bed');"
   ]
  },
  {
   "cell_type": "code",
   "execution_count": 55,
   "metadata": {},
   "outputs": [
    {
     "data": {
      "image/png": "[encoded data removed]",
      "text/plain": [
       "<Figure size 432x288 with 1 Axes>"
      ]
     },
     "metadata": {},
     "output_type": "display_data"
    }
   ],
   "source": [
    "fig, ax = plt.subplots()\n",
    "for bed in mag:\n",
    "    if bed.data['snd_shl']==1.0:\n",
    "        gs=bed.data['grain_size_psi']\n",
    "        \n",
    "        de=bed.data['depth_m']\n",
    "        de=np.max(de)-de # normalize to zero so they will all plot together\n",
    "        if mag.order=='elevation':\n",
    "            de=np.flip(de)\n",
    "\n",
    "        ax.plot(gs,de,'k')\n",
    "#plt.gca().set_xlim([-3.5,-2]) # do this because some sand beds go all the way to clay"
   ]
  },
  {
   "cell_type": "markdown",
   "metadata": {},
   "source": [
    "## Flipping depth -> elevation"
   ]
  },
  {
   "cell_type": "code",
   "execution_count": 56,
   "metadata": {},
   "outputs": [
    {
     "data": {
      "image/png": "[encoded data removed]",
      "text/plain": [
       "<Figure size 216x1080 with 1 Axes>"
      ]
     },
     "metadata": {},
     "output_type": "display_data"
    }
   ],
   "source": [
    "# depth version (this is only depth-ordered one in demo)\n",
    "seqs[-2].plot(legend=litholog.defaults.litholegend, \n",
    "             fig_width=3, aspect=5, wentworth='coarse')"
   ]
  },
  {
   "cell_type": "code",
   "execution_count": 57,
   "metadata": {},
   "outputs": [
    {
     "data": {
      "image/png": "[encoded data removed]",
      "text/plain": [
       "<Figure size 216x1080 with 1 Axes>"
      ]
     },
     "metadata": {},
     "output_type": "display_data"
    }
   ],
   "source": [
    "# to elevation\n",
    "seqs[-2].flip_convention(depth_key='depth_m').plot(\n",
    "             legend=litholog.defaults.litholegend, \n",
    "             fig_width=3, aspect=5, wentworth='coarse')"
   ]
  },
  {
   "cell_type": "code",
   "execution_count": 183,
   "metadata": {},
   "outputs": [
    {
     "data": {
      "image/png": "[encoded data removed]",
      "text/plain": [
       "<Figure size 216x1080 with 1 Axes>"
      ]
     },
     "metadata": {},
     "output_type": "display_data"
    }
   ],
   "source": [
    "# Specify a legend when plotting (otherwise random used)\n",
    "# `wentworth` can use 'fine' or 'coarse' bins\n",
    "\n",
    "# elevation_version\n",
    "example_seq.plot(legend=litholog.defaults.litholegend, \n",
    "                 fig_width=3, aspect=5, wentworth='coarse')"
   ]
  },
  {
   "cell_type": "code",
   "execution_count": 184,
   "metadata": {},
   "outputs": [
    {
     "data": {
      "image/png": "[encoded data removed]",
      "text/plain": [
       "<Figure size 216x1080 with 1 Axes>"
      ]
     },
     "metadata": {},
     "output_type": "display_data"
    }
   ],
   "source": [
    "# to depth\n",
    "example_seq.flip_convention(depth_key='depth_m').plot(\n",
    "          legend=litholog.defaults.litholegend, \n",
    "          fig_width=3, aspect=5, wentworth='coarse')"
   ]
  },
  {
   "cell_type": "code",
   "execution_count": 185,
   "metadata": {},
   "outputs": [
    {
     "data": {
      "text/plain": [
       "'elevation'"
      ]
     },
     "execution_count": 185,
     "metadata": {},
     "output_type": "execute_result"
    }
   ],
   "source": [
    "example_seq.order"
   ]
  },
  {
   "cell_type": "code",
   "execution_count": 186,
   "metadata": {},
   "outputs": [
    {
     "data": {
      "text/plain": [
       "'depth'"
      ]
     },
     "execution_count": 186,
     "metadata": {},
     "output_type": "execute_result"
    }
   ],
   "source": [
    "example_seq.shift(delta=-example_seq.stop.z).order"
   ]
  },
  {
   "cell_type": "markdown",
   "metadata": {},
   "source": [
    "# Some Basic Stats Properties"
   ]
  },
  {
   "cell_type": "code",
   "execution_count": 196,
   "metadata": {},
   "outputs": [
    {
     "name": "stdout",
     "output_type": "stream",
     "text": [
      "{'name': 'Karoo krf1', 'count': 146, 'collection': 'Karoo', 'eod': 'fan', 'eodnum': 1, 'ng': 0.7726148858605799, 'ar': 0.104761904761905}\n",
      "0.7726148858605802 ; 0.11\n",
      "N:G from Matlab: 0.773 \n",
      " N:G from `litholog`: 0.773\n"
     ]
    }
   ],
   "source": [
    "print(example_seq.metadata)\n",
    "\n",
    "# Properties computed on the fly\n",
    "print(example_seq.net_to_gross,';',example_seq.amalgamation_ratio)\n",
    "\n",
    "print('N:G from Matlab:',round(example_seq.metadata['ng'],3),'\\n',\n",
    "      'N:G from litholog:',round(example_seq.net_to_gross,3))"
   ]
  },
  {
   "cell_type": "code",
   "execution_count": 188,
   "metadata": {},
   "outputs": [
    {
     "name": "stdout",
     "output_type": "stream",
     "text": [
      "0.822415106865567\n"
     ]
    },
    {
     "data": {
      "text/plain": [
       "(2.9331914147912252, 0.0006, 0.822415106865567)"
      ]
     },
     "execution_count": 188,
     "metadata": {},
     "output_type": "execute_result"
    }
   ],
   "source": [
    "# Hurst statistics\n",
    "print(example_seq.hurst_K('th', 'sand'))\n",
    "\n",
    "# Returns (D, p, hurst_K)\n",
    "example_seq.hurst_D('th', 'sand', nsamples=10000)"
   ]
  },
  {
   "cell_type": "markdown",
   "metadata": {},
   "source": [
    "# Pseudo-gamma curves"
   ]
  },
  {
   "cell_type": "code",
   "execution_count": 197,
   "metadata": {},
   "outputs": [],
   "source": [
    "def suggest_figsize(sequence, aspect=10):\n",
    "    \"\"\"\n",
    "    Defining default a total thickness -> figure size mapping.\n",
    "    \"\"\"\n",
    "    suggest_h = max(10, min(sequence.cum, 50))\n",
    "    suggest_w = suggest_h / aspect\n",
    "    return (suggest_w, suggest_h)\n",
    "\n",
    "\n",
    "def strip_fig_extra_columns(ax_num, sequence, ncols, exxon_style=True, figsize=None, aspect=10):\n",
    "    \"\"\"\n",
    "    Creates a fig with `ncol` axes and plots `sequence` on one of them.\n",
    "    If `exxon_style`, plots `sequence` on first axis, otherwise last axis.\n",
    "    Returns\n",
    "    -------\n",
    "    fig, ax\n",
    "    \"\"\"\n",
    "    w, h = suggest_figsize(sequence, aspect=aspect)\n",
    "    print(w, h)\n",
    "\n",
    "    fig, ax = plt.subplots(ncols=ncols, sharey=True, figsize=(w*ncols, h))\n",
    "    #fig.subplots_adjust(wspace=0.)\n",
    "\n",
    "    sequence.plot(legend=litholog.defaults.litholegend,\n",
    "                  width_field='grain_size_psi',\n",
    "                  depth_field='depth_m',\n",
    "                  ax=ax[ax_num])\n",
    "\n",
    "    return fig, ax"
   ]
  },
  {
   "cell_type": "code",
   "execution_count": 198,
   "metadata": {},
   "outputs": [
    {
     "name": "stdout",
     "output_type": "stream",
     "text": [
      "2.338050702353454 21.042456321181085\n"
     ]
    },
    {
     "name": "stderr",
     "output_type": "stream",
     "text": [
      "<ipython-input-198-0ffd3c904a72>:17: RuntimeWarning: invalid value encountered in less\n",
      "  ax[1].fill_betweenx(ds, pgr, np.repeat(cutoff, ds.size), where=(pgr<cutoff), color='yellow')\n"
     ]
    },
    {
     "data": {
      "text/plain": [
       "(0.0, 200.0)"
      ]
     },
     "execution_count": 198,
     "metadata": {},
     "output_type": "execute_result"
    },
    {
     "data": {
      "image/png": "[encoded data removed]",
      "text/plain": [
       "<Figure size 336.679x1515.06 with 2 Axes>"
      ]
     },
     "metadata": {},
     "output_type": "display_data"
    }
   ],
   "source": [
    "# Showing default values:\n",
    "ds, pgr = example_seq.pseudo_gamma_simple(\n",
    "    gs_field='grain_size_mm',\n",
    "    depth_field='depth_m',\n",
    "    resolution=0.2,\n",
    "    gs_cutoff=0.0625,\n",
    "    gamma_range=(30, 180),\n",
    "    sigma=0.1,\n",
    "    noise=10.\n",
    ")\n",
    "\n",
    "fig, ax = strip_fig_extra_columns(0, example_seq, 2, aspect=9)\n",
    "\n",
    "cutoff = 100\n",
    "\n",
    "ax[1].plot(pgr, ds, 'k')\n",
    "ax[1].fill_betweenx(ds, pgr, np.repeat(cutoff, ds.size), where=(pgr<cutoff), color='yellow')\n",
    "\n",
    "ax[1].set_xlim([0,200])"
   ]
  },
  {
   "cell_type": "markdown",
   "metadata": {},
   "source": [
    "# Ignore below here for now"
   ]
  },
  {
   "cell_type": "code",
   "execution_count": null,
   "metadata": {
    "scrolled": false
   },
   "outputs": [],
   "source": [
    "\n",
    "\n",
    "\n",
    "\n",
    "\n",
    "\n",
    "def gradient_fill(x, y, ax, pos_or_neg,\n",
    "                  fill_color=None,\n",
    "                  **kwargs):\n",
    "    \"\"\"\n",
    "    Plot a line with a linear alpha gradient filled beneath it.\n",
    "    Parameters\n",
    "    ----------\n",
    "    x, y : array-like\n",
    "        The data values of the line.\n",
    "    ax : a matplotlib Axes instance\n",
    "        The axes to plot on.\n",
    "    fill_color : a matplotlib color specifier (string, tuple) or None\n",
    "        The color for the fill. If None, the color of the line will be used.\n",
    "    Additional arguments are passed on to matplotlib's ``plot`` function.\n",
    "    Returns\n",
    "    -------\n",
    "    line : a Line2D instance\n",
    "        The line plotted.\n",
    "    im : an AxesImage instance\n",
    "        The transparent gradient clipped to just the area beneath the curve.\n",
    "    \"\"\"\n",
    "    x[np.argwhere(np.isnan(x))] = 0.\n",
    "\n",
    "    line, = ax.plot(x, y, **kwargs)\n",
    "    if fill_color is None:\n",
    "        fill_color = line.get_color()\n",
    "\n",
    "    zorder = line.get_zorder()\n",
    "    alpha = line.get_alpha()\n",
    "    alpha = 1.0 if alpha is None else alpha\n",
    "\n",
    "    if pos_or_neg=='positive':\n",
    "        alpha_gradient = np.linspace(0.2, alpha, 100)\n",
    "        xmin, xmax = 0., ax.get_xlim()[1]\n",
    "    else:\n",
    "        alpha_gradient = np.linspace(alpha, 0.2, 100)\n",
    "        xmin, xmax = ax.get_xlim()[0], 0.\n",
    "\n",
    "    z = np.empty((1, 100, 4), dtype=float)\n",
    "    z[:,:,-1] = alpha_gradient[None,:]\n",
    "\n",
    "    rgb = mcolors.colorConverter.to_rgb(fill_color)\n",
    "    z[:,:,:3] = rgb\n",
    "\n",
    "    ymin, ymax = y.min(), y.max()\n",
    "    im = ax.imshow(z, aspect='auto', extent=[xmin, xmax, ymin, ymax],\n",
    "                   origin='lower', zorder=zorder)\n",
    "\n",
    "    xy = np.column_stack([x, y])\n",
    "    xy = np.flipud(xy) if y[0] < y[1] else xy   # Have to flip order for 'depth'-ordered striplogs\n",
    "    if pos_or_neg=='positive':\n",
    "        xy = np.vstack([[xmin, ymax], xy, [xmin, ymin], [xmin, ymax]])\n",
    "    else:\n",
    "        xy = np.vstack([[xmax, ymax], xy, [xmax, ymin], [xmax, ymax]])\n",
    "\n",
    "    clip_path = Polygon(xy, facecolor='none', edgecolor='none', closed=True)\n",
    "    ax.add_patch(clip_path)\n",
    "    im.set_clip_path(clip_path)\n",
    "\n",
    "    #ax.autoscale(True)\n",
    "    return line, im"
   ]
  },
  {
   "cell_type": "markdown",
   "metadata": {},
   "source": [
    "# Plotting with convolution \"gamma ray\""
   ]
  },
  {
   "cell_type": "code",
   "execution_count": null,
   "metadata": {
    "scrolled": false
   },
   "outputs": [],
   "source": [
    "# using astropy.convolve for now\n",
    "\n",
    "def pseudo_gamma_simple(seq):\n",
    "    # Params that will be args in the API:\n",
    "        \n",
    "    gs_threshold = 0.0625   # Cutoff in mm\n",
    "    gamma_range = (180, 30) # Low/High values\n",
    "    resolution = 0.05       # Depth resolution\n",
    "    sigma = 2              # Gaussian filter width\n",
    "    noise_magnitude = 10.   # +/- noise to add\n",
    "    \n",
    "    ds, gs = seq.get_field('depth_m'), seq.get_field('grain_size_mm')\n",
    "    \n",
    "    # Needs to be increasing for `np.interp`\n",
    "    if ds[0] > ds[-1]:\n",
    "        ds, gs = ds[::-1], gs[::-1]\n",
    "    \n",
    "    # Resampling\n",
    "    nsamples = np.abs(ds[0]-ds[-1]) // resolution + 1\n",
    "    resampled_ds = np.linspace(ds[0], ds[-1], num=int(nsamples), endpoint=True)\n",
    "    resampled_gs = np.interp(resampled_ds, ds, gs)\n",
    "    \n",
    "    # Thresholding gs -> GR\n",
    "    nan_idxs = np.argwhere(np.isnan(resampled_gs))\n",
    "    resampled_gs[nan_idxs] = gamma_range[0]\n",
    "    sample_gr = np.where(resampled_gs < gs_threshold, gamma_range[0], gamma_range[1])\n",
    "    \n",
    "    # Gauss filter\n",
    "    # using astropy.convolve for now\n",
    "    kernel = Gaussian1DKernel(sigma) # divided by resolution?\n",
    "    conv_gr = convolve(sample_gr, kernel)\n",
    "    \n",
    "    # Add noise (uniform) + restrict to positive + restore NaNs\n",
    "    gr = conv_gr + np.random.uniform(-noise_magnitude, noise_magnitude, size=conv_gr.size)\n",
    "    gr[gr < 0.] = 0.\n",
    "    gr[nan_idxs] = np.nan\n",
    "    \n",
    "    return resampled_ds, gr\n",
    "\n",
    "\n",
    "fig, ax = strip_fig_extra_columns(0, seqs[0], 2, aspect=9)\n",
    "\n",
    "ds, gr = pseudo_gamma_simple(seqs[0])\n",
    "gradient_fill(gr, ds, ax[1], 'positive', fill_color='y')\n",
    "ax[1].set_xlim([0,200])"
   ]
  },
  {
   "cell_type": "code",
   "execution_count": null,
   "metadata": {},
   "outputs": [],
   "source": [
    "from scipy.ndimage import gaussian_filter1d\n",
    "\n",
    "def filter_nan_gaussian(arr, sigma):\n",
    "    \"\"\"\n",
    "\n",
    "    (Allows intensity to leak into the NaN area.)\n",
    "\n",
    "    Implementation from stackoverflow answer:\n",
    "        https://stackoverflow.com/a/36307291/7128154\n",
    "    \"\"\"\n",
    "    gauss = arr.copy()\n",
    "    gauss[np.isnan(gauss)] = 0\n",
    "    gauss = gaussian_filter1d(gauss, sigma=sigma, mode='constant', cval=0)\n",
    "\n",
    "    norm = np.ones(shape=arr.shape)\n",
    "    norm[np.isnan(arr)] = 0\n",
    "    norm = gaussian_filter1d(norm, sigma=sigma, mode='constant', cval=0)\n",
    "\n",
    "    # avoid RuntimeWarning: invalid value encountered in true_divide\n",
    "    norm = np.where(norm==0, 1, norm)\n",
    "    gauss = gauss/norm\n",
    "    gauss[np.isnan(arr)] = np.nan\n",
    "    return gauss\n",
    "\n",
    "def pseudo_gamma_simple(seq):\n",
    "    # Params that will be args in the API:\n",
    "        \n",
    "    gs_threshold = 0.0625   # Cutoff in mm\n",
    "    gamma_range = (180, 30) # Low/High values\n",
    "    resolution = 0.05       # Depth resolution\n",
    "    sigma = 2              # Gaussian filter width\n",
    "    noise_magnitude = 10.   # +/- noise to add\n",
    "    \n",
    "    ds, gs = seq.get_field('depth_m'), seq.get_field('grain_size_mm')\n",
    "    \n",
    "    # Needs to be increasing for `np.interp`\n",
    "    if ds[0] > ds[-1]:\n",
    "        ds, gs = ds[::-1], gs[::-1]\n",
    "    \n",
    "    # Resampling\n",
    "    nsamples = np.abs(ds[0]-ds[-1]) // resolution + 1\n",
    "    resampled_ds = np.linspace(ds[0], ds[-1], num=int(nsamples), endpoint=True)\n",
    "    resampled_gs = np.interp(resampled_ds, ds, gs)\n",
    "    \n",
    "    # Thresholding gs -> GR\n",
    "    nan_idxs = np.argwhere(np.isnan(resampled_gs))\n",
    "    resampled_gs[nan_idxs] = gamma_range[0]\n",
    "    sample_gr = np.where(resampled_gs < gs_threshold, gamma_range[0], gamma_range[1])\n",
    "    \n",
    "    # Gauss filter\n",
    "    # using astropy.convolve for now\n",
    "    #kernel = Gaussian1DKernel(sigma) # divided by resolution?\n",
    "    #conv_gr = convolve(sample_gr, kernel)\n",
    "    conv_gr = filter_nan_gaussian(sample_gr, sigma)\n",
    "    \n",
    "    # Add noise (uniform) + restrict to positive + restore NaNs\n",
    "    gr = conv_gr + np.random.uniform(-noise_magnitude, noise_magnitude, size=conv_gr.size)\n",
    "    gr[gr < 0.] = 0.\n",
    "    gr[nan_idxs] = np.nan\n",
    "    \n",
    "    return resampled_ds, gr\n",
    "\n",
    "\n",
    "fig, ax = strip_fig_extra_columns(0, seqs[0], 2, aspect=9)\n",
    "\n",
    "cutoff = 100\n",
    "\n",
    "ds, gr = pseudo_gamma_simple(seqs[0])\n",
    "#gradient_fill(gr, ds, ax[1], 'positive', fill_color='y')\n",
    "\n",
    "ax[1].plot(gr, ds)\n",
    "ax[1].fill_betweenx(ds, gr, np.repeat(cutoff, ds.size), where=(gr<cutoff), color='yellow')\n",
    "\n",
    "ax[1].set_xlim([0,200])"
   ]
  },
  {
   "cell_type": "markdown",
   "metadata": {},
   "source": [
    "## these functions stolen from Matt Bauer\n",
    "\n"
   ]
  },
  {
   "cell_type": "code",
   "execution_count": null,
   "metadata": {
    "scrolled": false
   },
   "outputs": [],
   "source": [
    "import matplotlib as mpl\n",
    "\n",
    "def rect(ax,x,y,w,h,c):\n",
    "    #Make rectangle with plt.Rectangle((x,y@ Lower left),width,height,color)\n",
    "    polygon = plt.Rectangle((x,y),w,h,color=c)\n",
    "    #Add it to axis\n",
    "    ax.add_patch(polygon)\n",
    "\n",
    "def GR_fill(ax,X,Y):\n",
    "    plt.plot(X,Y,lw=0)\n",
    "    \n",
    "    #Make a custom color ramp\n",
    "    cmap = mpl.colors.LinearSegmentedColormap.from_list(\"\", [\"yellow\",\"yellow\",'goldenrod','darkgoldenrod',\"dimgrey\",'black','black'])\n",
    "    \n",
    "    #Step distance\n",
    "    dy = Y[1]-Y[0]\n",
    "    \n",
    "    #Max GR value\n",
    "    N  = float(np.nanmax(X))\n",
    "    \n",
    "    #Make rectangles with color based on GR values\n",
    "    for n, (x,y) in enumerate(zip(X,Y)):\n",
    "        color = cmap(x/N)\n",
    "        rect(ax,x,y,N-x,dy,color)\n",
    "        \n",
    "        \n",
    "fig, ax = strip_fig_extra_columns(1 ,seqs[0], 2, aspect=9)\n",
    "\n",
    "ds, gr = pseudo_gamma_simple(seqs[0])\n",
    "ax[0].plot(gr,ds,'k')\n",
    "GR_fill(ax[0], gr, ds)\n",
    "ax[0].set_xlim([0,200])\n",
    "ax[1].set_title(seqs[0].metadata['name'])\n",
    "plt.show()\n",
    "#plt.savefig('/Users/zanejobe/Desktop/testT.pdf')"
   ]
  },
  {
   "cell_type": "code",
   "execution_count": null,
   "metadata": {},
   "outputs": [],
   "source": [
    "def pseudo_gamma_args(seq, gamma_range, resolution, sigma, noise_magnitude):\n",
    "    # Params that will be args in the API:\n",
    "        \n",
    "    gs_threshold = 0.0625   # Cutoff in mm\n",
    "    #gamma_range = (180, 30) # Low/High values\n",
    "    #resolution = 0.05       # Depth resolution\n",
    "    #sigma = 2              # Gaussian filter width\n",
    "    #noise_magnitude = 10.   # +/- noise to add\n",
    "    \n",
    "    ds, gs = seq.get_field('depth_m'), seq.get_field('grain_size_mm')\n",
    "    \n",
    "    # Needs to be increasing for `np.interp`\n",
    "    if ds[0] > ds[-1]:\n",
    "        ds, gs = ds[::-1], gs[::-1]\n",
    "    \n",
    "    # Resampling\n",
    "    nsamples = np.abs(ds[0]-ds[-1]) // resolution + 1\n",
    "    resampled_ds = np.linspace(ds[0], ds[-1], num=int(nsamples), endpoint=True)\n",
    "    resampled_gs = np.interp(resampled_ds, ds, gs)\n",
    "    \n",
    "    # Thresholding gs -> GR\n",
    "    nan_idxs = np.argwhere(np.isnan(resampled_gs))\n",
    "    resampled_gs[nan_idxs] = gamma_range[0]\n",
    "    sample_gr = np.where(resampled_gs < gs_threshold, gamma_range[0], gamma_range[1])\n",
    "    \n",
    "    # Gauss filter\n",
    "    # using astropy.convolve for now\n",
    "    kernel = Gaussian1DKernel(sigma) # divided by resolution?\n",
    "    conv_gr = convolve(sample_gr, kernel)\n",
    "    \n",
    "    # Add noise (uniform) + restrict to positive + restore NaNs\n",
    "    gr = conv_gr + np.random.uniform(-noise_magnitude, noise_magnitude, size=conv_gr.size)\n",
    "    gr[gr < 0.] = 0.\n",
    "    gr[nan_idxs] = np.nan\n",
    "    \n",
    "    return resampled_ds, gr\n"
   ]
  },
  {
   "cell_type": "code",
   "execution_count": 238,
   "metadata": {},
   "outputs": [
    {
     "data": {
      "text/plain": [
       "36"
      ]
     },
     "execution_count": 238,
     "metadata": {},
     "output_type": "execute_result"
    }
   ],
   "source": [
    "# why NaNs here?\n",
    "np.isnan(seqs[0].values).sum()"
   ]
  },
  {
   "cell_type": "code",
   "execution_count": 236,
   "metadata": {},
   "outputs": [
    {
     "data": {
      "text/plain": [
       "{'th': 0.23464504599417105,\n",
       " 'gs_tops_mm': 0.010289315855149,\n",
       " 'snd_shl': 0.0,\n",
       " 'depth_m': array([66.907 , 66.6724]),\n",
       " 'mean_gs_mm': 0.010289315855149,\n",
       " 'max_gs_mm': 0.010289315855149,\n",
       " 'grain_size_mm': [0.0103, 0.0103],\n",
       " 'gs_tops_psi': -6.6027,\n",
       " 'mean_gs_psi': -6.6027,\n",
       " 'max_gs_psi': -6.6027,\n",
       " 'grain_size_psi': [-6.6012, -6.6012]}"
      ]
     },
     "execution_count": 236,
     "metadata": {},
     "output_type": "execute_result"
    }
   ],
   "source": [
    "seqs[-1][0].data #pukearuhue first bed"
   ]
  },
  {
   "cell_type": "code",
   "execution_count": 235,
   "metadata": {},
   "outputs": [],
   "source": [
    "# fixing weird mud bed thats a colloid at the top of the section...\n",
    "\n",
    "# DID THIS GET CHANGED IN THE DATA FILE???\n",
    "Puk=-1\n",
    "seqs[Puk][0].data['gs_tops_mm'] = 0.010289315855149\n",
    "seqs[Puk][0].data['mean_gs_mm'] = 0.010289315855149\n",
    "seqs[Puk][0].data['mean_gs_mm'] = 0.010289315855149\n",
    "seqs[Puk][0].data['max_gs_mm'] = 0.010289315855149\n",
    "seqs[Puk][0].data['grain_size_mm'] = [0.0103, 0.0103]\n",
    "seqs[Puk][0].data['gs_tops_psi'] = -6.6027\n",
    "seqs[Puk][0].data['mean_gs_psi'] = -6.6027\n",
    "seqs[Puk][0].data['max_gs_psi'] = -6.6027\n",
    "seqs[Puk][0].data['grain_size_psi'] = [-6.6012, -6.6012]"
   ]
  },
  {
   "cell_type": "code",
   "execution_count": null,
   "metadata": {},
   "outputs": [],
   "source": [
    "# Ross, what is this for? \n",
    "demo_names = ['Pukearuhue', 'Magnolia', 'Karoo krf']\n",
    "seq_rows = [beds[beds['name'].str.contains(dn)] for dn in demo_names]\n",
    "demo_df = pd.concat(seq_rows)\n",
    "demo_df.to_csv('../data/demo_sequences.csv', index=False)\n"
   ]
  },
  {
   "cell_type": "code",
   "execution_count": null,
   "metadata": {},
   "outputs": [],
   "source": [
    "# nice way to parse data to get only BedSequences with more than 20 sand beds\n",
    "seqs = list(filter(lambda s: len(s.get_field('th', 'sand')) >= 20, sequences))\n",
    "\n"
   ]
  },
  {
   "cell_type": "markdown",
   "metadata": {},
   "source": [
    "## Keep for depstrat"
   ]
  },
  {
   "cell_type": "code",
   "execution_count": null,
   "metadata": {},
   "outputs": [],
   "source": [
    "# beds is the pandas dataframe of all the beds\n",
    "beds.snd_shl.value_counts()\n",
    "beds[beds.snd_shl == 1].th.sum()\n",
    "\n",
    "count = {eod : 0 for eod in beds.eod.unique()}\n",
    "meters = {eod : 0 for eod in beds.eod.unique()}\n",
    "\n",
    "for _, grp in beds.groupby('count'):\n",
    "    count[grp['eod'].values[0]] += 1\n",
    "    meters[grp['eod'].values[0]] += grp.th.sum()\n",
    "    \n",
    "avgs = {k : meters[k] / count[k] for k in count.keys()}\n",
    "print(avgs)\n",
    "\n",
    "###\n",
    "\n",
    "weird = {problem : [] for problem in ['has_null', 'th_mismatch', 'samples_mismatch']}\n",
    "\n",
    "for name, seq in beds.groupby('count'):\n",
    "    \n",
    "    if seq.isnull().any().any():\n",
    "        weird['has_null'].append(name)\n",
    "    \n",
    "    _, elev_good = io.check_thicknesses(seq, 'tops', 'th', 'elevation')\n",
    "    _, depth_good = io.check_thicknesses(seq, 'tops', 'th', 'depth')\n",
    "    if not (elev_good or depth_good):\n",
    "        weird['th_mismatch'].append(name)\n",
    "        \n",
    "    if not io.check_samples(seq, 'depth_m', 'grain_size_mm'):\n",
    "        weird['samples_mismatch'].append(name)\n",
    "        \n",
    "weird, {k : len(v) for k, v in weird.items()}\n",
    "\n",
    "###\n",
    "\n",
    "beds[beds.depth_m.apply(utils.safelen) != beds.grain_size_mm.apply(utils.safelen)]\n",
    "\n",
    "###\n",
    "\n"
   ]
  }
 ],
 "metadata": {
  "kernelspec": {
   "display_name": "Python 3",
   "language": "python",
   "name": "python3"
  },
  "language_info": {
   "codemirror_mode": {
    "name": "ipython",
    "version": 3
   },
   "file_extension": ".py",
   "mimetype": "text/x-python",
   "name": "python",
   "nbconvert_exporter": "python",
   "pygments_lexer": "ipython3",
   "version": "3.8.3"
  }
 },
 "nbformat": 4,
 "nbformat_minor": 2
}
