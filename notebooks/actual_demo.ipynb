{
 "cells": [
  {
   "cell_type": "code",
   "execution_count": 1,
   "metadata": {},
   "outputs": [],
   "source": [
    "import collections\n",
    "import inspect\n",
    "\n",
    "import numpy as np\n",
    "import pandas as pd\n",
    "\n",
    "import matplotlib.pyplot as plt\n",
    "plt.style.use('ggplot')\n",
    "\n",
    "import litholog\n",
    "from litholog import utils\n",
    "from litholog.sequence import io, BedSequence"
   ]
  },
  {
   "cell_type": "markdown",
   "metadata": {},
   "source": [
    "## Load the raw `csv` data"
   ]
  },
  {
   "cell_type": "code",
   "execution_count": 2,
   "metadata": {},
   "outputs": [
    {
     "data": {
      "text/html": [
       "<div>\n",
       "<style scoped>\n",
       "    .dataframe tbody tr th:only-of-type {\n",
       "        vertical-align: middle;\n",
       "    }\n",
       "\n",
       "    .dataframe tbody tr th {\n",
       "        vertical-align: top;\n",
       "    }\n",
       "\n",
       "    .dataframe thead th {\n",
       "        text-align: right;\n",
       "    }\n",
       "</style>\n",
       "<table border=\"1\" class=\"dataframe\">\n",
       "  <thead>\n",
       "    <tr style=\"text-align: right;\">\n",
       "      <th></th>\n",
       "      <th>name</th>\n",
       "      <th>count</th>\n",
       "      <th>collection</th>\n",
       "      <th>eod</th>\n",
       "      <th>eodnum</th>\n",
       "      <th>tops</th>\n",
       "      <th>th</th>\n",
       "      <th>gs_tops_mm</th>\n",
       "      <th>gs_tops_psi</th>\n",
       "      <th>snd_shl</th>\n",
       "      <th>mean_gs_mm</th>\n",
       "      <th>mean_gs_psi</th>\n",
       "      <th>max_gs_mm</th>\n",
       "      <th>max_gs_psi</th>\n",
       "      <th>ng</th>\n",
       "      <th>ar</th>\n",
       "      <th>depth_m</th>\n",
       "      <th>grain_size_mm</th>\n",
       "      <th>grain_size_psi</th>\n",
       "    </tr>\n",
       "  </thead>\n",
       "  <tbody>\n",
       "    <tr>\n",
       "      <th>0</th>\n",
       "      <td>Pukearuhue</td>\n",
       "      <td>226</td>\n",
       "      <td>Mount Messenger</td>\n",
       "      <td>levee</td>\n",
       "      <td>3</td>\n",
       "      <td>66.907008</td>\n",
       "      <td>0.234645</td>\n",
       "      <td>0.001000</td>\n",
       "      <td>-9.9658</td>\n",
       "      <td>0.0</td>\n",
       "      <td>0.001000</td>\n",
       "      <td>-9.9658</td>\n",
       "      <td>0.001000</td>\n",
       "      <td>-9.9658</td>\n",
       "      <td>0.602931</td>\n",
       "      <td>0.08134</td>\n",
       "      <td>[66.907, 66.6724]</td>\n",
       "      <td>[0.001, 0.001]</td>\n",
       "      <td>[-9.9658, -9.9658]</td>\n",
       "    </tr>\n",
       "    <tr>\n",
       "      <th>1</th>\n",
       "      <td>Pukearuhue</td>\n",
       "      <td>226</td>\n",
       "      <td>Mount Messenger</td>\n",
       "      <td>levee</td>\n",
       "      <td>3</td>\n",
       "      <td>66.672363</td>\n",
       "      <td>0.933692</td>\n",
       "      <td>0.122591</td>\n",
       "      <td>-3.0281</td>\n",
       "      <td>1.0</td>\n",
       "      <td>0.129950</td>\n",
       "      <td>-2.9440</td>\n",
       "      <td>0.133845</td>\n",
       "      <td>-2.9014</td>\n",
       "      <td>0.602931</td>\n",
       "      <td>0.08134</td>\n",
       "      <td>[66.6724, 66.5795, 66.3448, 66.1151, 65.9244, ...</td>\n",
       "      <td>[0.1226, 0.1262, 0.1285, 0.1315, 0.1331, 0.133...</td>\n",
       "      <td>[-3.028, -2.9862, -2.9602, -2.9269, -2.9094, -...</td>\n",
       "    </tr>\n",
       "    <tr>\n",
       "      <th>2</th>\n",
       "      <td>Pukearuhue</td>\n",
       "      <td>226</td>\n",
       "      <td>Mount Messenger</td>\n",
       "      <td>levee</td>\n",
       "      <td>3</td>\n",
       "      <td>65.738672</td>\n",
       "      <td>0.232201</td>\n",
       "      <td>0.105433</td>\n",
       "      <td>-3.2456</td>\n",
       "      <td>1.0</td>\n",
       "      <td>0.105433</td>\n",
       "      <td>-3.2456</td>\n",
       "      <td>0.105433</td>\n",
       "      <td>-3.2456</td>\n",
       "      <td>0.602931</td>\n",
       "      <td>0.08134</td>\n",
       "      <td>[65.7387, 65.5065]</td>\n",
       "      <td>[0.1054, 0.1054]</td>\n",
       "      <td>[-3.2461, -3.2461]</td>\n",
       "    </tr>\n",
       "    <tr>\n",
       "      <th>3</th>\n",
       "      <td>Pukearuhue</td>\n",
       "      <td>226</td>\n",
       "      <td>Mount Messenger</td>\n",
       "      <td>levee</td>\n",
       "      <td>3</td>\n",
       "      <td>65.506471</td>\n",
       "      <td>0.222424</td>\n",
       "      <td>0.115450</td>\n",
       "      <td>-3.1147</td>\n",
       "      <td>1.0</td>\n",
       "      <td>0.137917</td>\n",
       "      <td>-2.8581</td>\n",
       "      <td>0.150254</td>\n",
       "      <td>-2.7345</td>\n",
       "      <td>0.602931</td>\n",
       "      <td>0.08134</td>\n",
       "      <td>[65.5065, 65.4918, 65.4356, 65.372, 65.3476, 6...</td>\n",
       "      <td>[0.1154, 0.1203, 0.1306, 0.1446, 0.1503, 0.1503]</td>\n",
       "      <td>[-3.1153, -3.0553, -2.9368, -2.7899, -2.7341, ...</td>\n",
       "    </tr>\n",
       "    <tr>\n",
       "      <th>4</th>\n",
       "      <td>Pukearuhue</td>\n",
       "      <td>226</td>\n",
       "      <td>Mount Messenger</td>\n",
       "      <td>levee</td>\n",
       "      <td>3</td>\n",
       "      <td>65.284047</td>\n",
       "      <td>0.193093</td>\n",
       "      <td>0.110490</td>\n",
       "      <td>-3.1780</td>\n",
       "      <td>1.0</td>\n",
       "      <td>0.129487</td>\n",
       "      <td>-2.9491</td>\n",
       "      <td>0.141708</td>\n",
       "      <td>-2.8190</td>\n",
       "      <td>0.602931</td>\n",
       "      <td>0.08134</td>\n",
       "      <td>[65.284, 65.2327, 65.1716, 65.1301, 65.091]</td>\n",
       "      <td>[0.1105, 0.1221, 0.1329, 0.1417, 0.1417]</td>\n",
       "      <td>[-3.1779, -3.0339, -2.9116, -2.8191, -2.8191]</td>\n",
       "    </tr>\n",
       "  </tbody>\n",
       "</table>\n",
       "</div>"
      ],
      "text/plain": [
       "         name  count       collection    eod  eodnum       tops        th  \\\n",
       "0  Pukearuhue    226  Mount Messenger  levee       3  66.907008  0.234645   \n",
       "1  Pukearuhue    226  Mount Messenger  levee       3  66.672363  0.933692   \n",
       "2  Pukearuhue    226  Mount Messenger  levee       3  65.738672  0.232201   \n",
       "3  Pukearuhue    226  Mount Messenger  levee       3  65.506471  0.222424   \n",
       "4  Pukearuhue    226  Mount Messenger  levee       3  65.284047  0.193093   \n",
       "\n",
       "   gs_tops_mm  gs_tops_psi  snd_shl  mean_gs_mm  mean_gs_psi  max_gs_mm  \\\n",
       "0    0.001000      -9.9658      0.0    0.001000      -9.9658   0.001000   \n",
       "1    0.122591      -3.0281      1.0    0.129950      -2.9440   0.133845   \n",
       "2    0.105433      -3.2456      1.0    0.105433      -3.2456   0.105433   \n",
       "3    0.115450      -3.1147      1.0    0.137917      -2.8581   0.150254   \n",
       "4    0.110490      -3.1780      1.0    0.129487      -2.9491   0.141708   \n",
       "\n",
       "   max_gs_psi        ng       ar  \\\n",
       "0     -9.9658  0.602931  0.08134   \n",
       "1     -2.9014  0.602931  0.08134   \n",
       "2     -3.2456  0.602931  0.08134   \n",
       "3     -2.7345  0.602931  0.08134   \n",
       "4     -2.8190  0.602931  0.08134   \n",
       "\n",
       "                                             depth_m  \\\n",
       "0                                  [66.907, 66.6724]   \n",
       "1  [66.6724, 66.5795, 66.3448, 66.1151, 65.9244, ...   \n",
       "2                                 [65.7387, 65.5065]   \n",
       "3  [65.5065, 65.4918, 65.4356, 65.372, 65.3476, 6...   \n",
       "4        [65.284, 65.2327, 65.1716, 65.1301, 65.091]   \n",
       "\n",
       "                                       grain_size_mm  \\\n",
       "0                                     [0.001, 0.001]   \n",
       "1  [0.1226, 0.1262, 0.1285, 0.1315, 0.1331, 0.133...   \n",
       "2                                   [0.1054, 0.1054]   \n",
       "3   [0.1154, 0.1203, 0.1306, 0.1446, 0.1503, 0.1503]   \n",
       "4           [0.1105, 0.1221, 0.1329, 0.1417, 0.1417]   \n",
       "\n",
       "                                      grain_size_psi  \n",
       "0                                 [-9.9658, -9.9658]  \n",
       "1  [-3.028, -2.9862, -2.9602, -2.9269, -2.9094, -...  \n",
       "2                                 [-3.2461, -3.2461]  \n",
       "3  [-3.1153, -3.0553, -2.9368, -2.7899, -2.7341, ...  \n",
       "4      [-3.1779, -3.0339, -2.9116, -2.8191, -2.8191]  "
      ]
     },
     "execution_count": 2,
     "metadata": {},
     "output_type": "execute_result"
    }
   ],
   "source": [
    "# Converts 'string' arrays to numpy\n",
    "transforms = {c : utils.string2array_pandas for c in ['depth_m', \n",
    "                                                      'grain_size_mm', \n",
    "                                                      'grain_size_psi']}\n",
    "\n",
    "# Read the demo data\n",
    "beds = pd.read_csv('../data/demo_sequences.csv', converters=transforms)\n",
    "\n",
    "beds.head()"
   ]
  },
  {
   "cell_type": "markdown",
   "metadata": {},
   "source": [
    "## Convert groups to `BedSequence`s"
   ]
  },
  {
   "cell_type": "code",
   "execution_count": 3,
   "metadata": {},
   "outputs": [
    {
     "data": {
      "text/plain": [
       "[('Karoo krf1', 'fan', 105),\n",
       " ('Karoo krf10', 'fan', 221),\n",
       " ('Karoo krf11', 'fan', 47),\n",
       " ('Karoo krf12', 'fan', 35),\n",
       " ('Karoo krf13', 'fan', 51),\n",
       " ('Karoo krf14', 'fan', 96),\n",
       " ('Karoo krf15', 'fan', 54),\n",
       " ('Karoo krf16', 'fan', 167),\n",
       " ('Karoo krf17', 'fan', 97),\n",
       " ('Karoo krf2', 'fan', 20),\n",
       " ('Karoo krf3', 'fan', 42),\n",
       " ('Karoo krf4', 'fan', 15),\n",
       " ('Karoo krf5', 'fan', 51),\n",
       " ('Karoo krf6', 'fan', 288),\n",
       " ('Karoo krf7', 'fan', 205),\n",
       " ('Karoo krf8', 'fan', 244),\n",
       " ('Karoo krf9', 'fan', 191),\n",
       " ('Magnolia', 'fan', 180),\n",
       " ('Pukearuhue', 'levee', 209)]"
      ]
     },
     "execution_count": 3,
     "metadata": {},
     "output_type": "execute_result"
    }
   ],
   "source": [
    "# Columns shared by whole sequences\n",
    "METACOLS = ['name', 'count', 'collection', 'eod', 'eodnum', 'ng', 'ar']\n",
    "\n",
    "# Columns of bed-level data\n",
    "DATACOLS = ['th', 'gs_tops_mm', 'snd_shl', 'depth_m',\n",
    "            'gs_tops_mm', 'mean_gs_mm', 'max_gs_mm', 'grain_size_mm',\n",
    "            'gs_tops_psi', 'mean_gs_psi', 'max_gs_psi', 'grain_size_psi']\n",
    "\n",
    "# Convert to a list of `BedSequence`s\n",
    "seqs = []\n",
    "for name, seq_df in beds.groupby('name'):\n",
    "    seqs.append(\n",
    "        BedSequence.from_dataframe(\n",
    "            seq_df, \n",
    "            thickcol='th',\n",
    "            component_map=litholog.defaults.DEFAULT_COMPONENT_MAP,\n",
    "            metacols=METACOLS,\n",
    "            datacols=DATACOLS,\n",
    "        )\n",
    "    )\n",
    "    \n",
    "\n",
    "# Show name + eod + number of beds of each\n",
    "[(s.metadata['name'], s.metadata['eod'], len(s)) for s in seqs]"
   ]
  },
  {
   "cell_type": "code",
   "execution_count": 4,
   "metadata": {},
   "outputs": [
    {
     "name": "stdout",
     "output_type": "stream",
     "text": [
      "{'name': 'Karoo krf1', 'count': 146, 'collection': 'Karoo', 'eod': 'fan', 'eodnum': 1, 'ng': 0.7726148858605799, 'ar': 0.104761904761905}\n"
     ]
    }
   ],
   "source": [
    "# Choose one to use as an example\n",
    "example_seq = seqs[0]\n",
    "print(example_seq.metadata)"
   ]
  },
  {
   "cell_type": "markdown",
   "metadata": {},
   "source": [
    "## Basic Plotting"
   ]
  },
  {
   "cell_type": "code",
   "execution_count": 5,
   "metadata": {},
   "outputs": [
    {
     "data": {
      "image/png": "[encoded data removed]",
      "text/plain": [
       "<Figure size 432x288 with 5 Axes>"
      ]
     },
     "metadata": {},
     "output_type": "display_data"
    }
   ],
   "source": [
    "litholog.defaults.litholegend.plot()"
   ]
  },
  {
   "cell_type": "code",
   "execution_count": 6,
   "metadata": {},
   "outputs": [
    {
     "data": {
      "image/png": "[encoded data removed]",
      "text/plain": [
       "<Figure size 216x1080 with 1 Axes>"
      ]
     },
     "metadata": {},
     "output_type": "display_data"
    }
   ],
   "source": [
    "# Specify a legend when plotting (otherwise random used)\n",
    "# `wentworth` can use 'fine' or 'coarse' bins\n",
    "example_seq.plot(legend=litholog.defaults.litholegend, \n",
    "                 fig_width=3, aspect=5, wentworth='coarse')"
   ]
  },
  {
   "cell_type": "markdown",
   "metadata": {},
   "source": [
    "# Some Basic Stats Properties"
   ]
  },
  {
   "cell_type": "code",
   "execution_count": 7,
   "metadata": {},
   "outputs": [
    {
     "name": "stdout",
     "output_type": "stream",
     "text": [
      "{'name': 'Karoo krf1', 'count': 146, 'collection': 'Karoo', 'eod': 'fan', 'eodnum': 1, 'ng': 0.7726148858605799, 'ar': 0.104761904761905}\n"
     ]
    },
    {
     "data": {
      "text/plain": [
       "(0.7726148858605802, 0.11)"
      ]
     },
     "execution_count": 7,
     "metadata": {},
     "output_type": "execute_result"
    }
   ],
   "source": [
    "print(example_seq.metadata)\n",
    "\n",
    "# Properties computed on the fly\n",
    "example_seq.net_to_gross, example_seq.amalgamation_ratio"
   ]
  },
  {
   "cell_type": "code",
   "execution_count": 8,
   "metadata": {},
   "outputs": [
    {
     "name": "stdout",
     "output_type": "stream",
     "text": [
      "0.8224151068655668\n"
     ]
    },
    {
     "data": {
      "text/plain": [
       "(2.881163847655808, 0.0003, 0.8224151068655668)"
      ]
     },
     "execution_count": 8,
     "metadata": {},
     "output_type": "execute_result"
    }
   ],
   "source": [
    "# Hurst statistics\n",
    "print(example_seq.hurst_K('th', 'sand'))\n",
    "\n",
    "# Returns (D, p, hurst_K)\n",
    "example_seq.hurst_D('th', 'sand', nsamples=10000)"
   ]
  },
  {
   "cell_type": "markdown",
   "metadata": {},
   "source": [
    "# Pseudo-gamma curves"
   ]
  },
  {
   "cell_type": "code",
   "execution_count": 9,
   "metadata": {},
   "outputs": [],
   "source": [
    "def suggest_figsize(sequence, aspect=10):\n",
    "    \"\"\"\n",
    "    Defining default a total thickness -> figure size mapping.\n",
    "    \"\"\"\n",
    "    suggest_h = max(10, min(sequence.cum, 50))\n",
    "    suggest_w = suggest_h / aspect\n",
    "    return (suggest_w, suggest_h)\n",
    "\n",
    "\n",
    "def strip_fig_extra_columns(ax_num, sequence, ncols, exxon_style=True, figsize=None, aspect=10):\n",
    "    \"\"\"\n",
    "    Creates a fig with `ncol` axes and plots `sequence` on one of them.\n",
    "    If `exxon_style`, plots `sequence` on first axis, otherwise last axis.\n",
    "    Returns\n",
    "    -------\n",
    "    fig, ax\n",
    "    \"\"\"\n",
    "    w, h = suggest_figsize(sequence, aspect=aspect)\n",
    "    print(w, h)\n",
    "\n",
    "    fig, ax = plt.subplots(ncols=ncols, sharey=True, figsize=(w*ncols, h))\n",
    "    #fig.subplots_adjust(wspace=0.)\n",
    "\n",
    "    sequence.plot(legend=litholog.defaults.litholegend,\n",
    "                  width_field='grain_size_psi',\n",
    "                  depth_field='depth_m',\n",
    "                  ax=ax[ax_num])\n",
    "\n",
    "    return fig, ax"
   ]
  },
  {
   "cell_type": "code",
   "execution_count": 16,
   "metadata": {},
   "outputs": [
    {
     "name": "stdout",
     "output_type": "stream",
     "text": [
      "2.338050702353454 21.042456321181085\n"
     ]
    },
    {
     "name": "stderr",
     "output_type": "stream",
     "text": [
      "/home/ross/anaconda3/envs/depstrat/lib/python3.7/site-packages/ipykernel_launcher.py:17: RuntimeWarning: invalid value encountered in less\n"
     ]
    },
    {
     "data": {
      "text/plain": [
       "(0.0, 200.0)"
      ]
     },
     "execution_count": 16,
     "metadata": {},
     "output_type": "execute_result"
    },
    {
     "data": {
      "image/png": "[encoded data removed]",
      "text/plain": [
       "<Figure size 336.679x1515.06 with 2 Axes>"
      ]
     },
     "metadata": {},
     "output_type": "display_data"
    }
   ],
   "source": [
    "# Showing default values:\n",
    "ds, pgr = example_seq.pseudo_gamma_simple(\n",
    "    gs_field='grain_size_mm',\n",
    "    depth_field='depth_m',\n",
    "    resolution=0.2,\n",
    "    gs_cutoff=0.0625,\n",
    "    gamma_range=(30, 180),\n",
    "    sigma=0.1,\n",
    "    noise=10.\n",
    ")\n",
    "\n",
    "fig, ax = strip_fig_extra_columns(0, example_seq, 2, aspect=9)\n",
    "\n",
    "cutoff = 100\n",
    "\n",
    "ax[1].plot(pgr, ds, 'k')\n",
    "ax[1].fill_betweenx(ds, pgr, np.repeat(cutoff, ds.size), where=(pgr<cutoff), color='yellow')\n",
    "\n",
    "ax[1].set_xlim([0,200])"
   ]
  },
  {
   "cell_type": "markdown",
   "metadata": {},
   "source": [
    "# Ignore below here for now"
   ]
  },
  {
   "cell_type": "code",
   "execution_count": 14,
   "metadata": {
    "scrolled": false
   },
   "outputs": [],
   "source": [
    "\n",
    "\n",
    "\n",
    "\n",
    "\n",
    "\n",
    "def gradient_fill(x, y, ax, pos_or_neg,\n",
    "                  fill_color=None,\n",
    "                  **kwargs):\n",
    "    \"\"\"\n",
    "    Plot a line with a linear alpha gradient filled beneath it.\n",
    "    Parameters\n",
    "    ----------\n",
    "    x, y : array-like\n",
    "        The data values of the line.\n",
    "    ax : a matplotlib Axes instance\n",
    "        The axes to plot on.\n",
    "    fill_color : a matplotlib color specifier (string, tuple) or None\n",
    "        The color for the fill. If None, the color of the line will be used.\n",
    "    Additional arguments are passed on to matplotlib's ``plot`` function.\n",
    "    Returns\n",
    "    -------\n",
    "    line : a Line2D instance\n",
    "        The line plotted.\n",
    "    im : an AxesImage instance\n",
    "        The transparent gradient clipped to just the area beneath the curve.\n",
    "    \"\"\"\n",
    "    x[np.argwhere(np.isnan(x))] = 0.\n",
    "\n",
    "    line, = ax.plot(x, y, **kwargs)\n",
    "    if fill_color is None:\n",
    "        fill_color = line.get_color()\n",
    "\n",
    "    zorder = line.get_zorder()\n",
    "    alpha = line.get_alpha()\n",
    "    alpha = 1.0 if alpha is None else alpha\n",
    "\n",
    "    if pos_or_neg=='positive':\n",
    "        alpha_gradient = np.linspace(0.2, alpha, 100)\n",
    "        xmin, xmax = 0., ax.get_xlim()[1]\n",
    "    else:\n",
    "        alpha_gradient = np.linspace(alpha, 0.2, 100)\n",
    "        xmin, xmax = ax.get_xlim()[0], 0.\n",
    "\n",
    "    z = np.empty((1, 100, 4), dtype=float)\n",
    "    z[:,:,-1] = alpha_gradient[None,:]\n",
    "\n",
    "    rgb = mcolors.colorConverter.to_rgb(fill_color)\n",
    "    z[:,:,:3] = rgb\n",
    "\n",
    "    ymin, ymax = y.min(), y.max()\n",
    "    im = ax.imshow(z, aspect='auto', extent=[xmin, xmax, ymin, ymax],\n",
    "                   origin='lower', zorder=zorder)\n",
    "\n",
    "    xy = np.column_stack([x, y])\n",
    "    xy = np.flipud(xy) if y[0] < y[1] else xy   # Have to flip order for 'depth'-ordered striplogs\n",
    "    if pos_or_neg=='positive':\n",
    "        xy = np.vstack([[xmin, ymax], xy, [xmin, ymin], [xmin, ymax]])\n",
    "    else:\n",
    "        xy = np.vstack([[xmax, ymax], xy, [xmax, ymin], [xmax, ymax]])\n",
    "\n",
    "    clip_path = Polygon(xy, facecolor='none', edgecolor='none', closed=True)\n",
    "    ax.add_patch(clip_path)\n",
    "    im.set_clip_path(clip_path)\n",
    "\n",
    "    #ax.autoscale(True)\n",
    "    return line, im"
   ]
  },
  {
   "cell_type": "markdown",
   "metadata": {},
   "source": [
    "# Plotting with convolution \"gamma ray\""
   ]
  },
  {
   "cell_type": "code",
   "execution_count": 15,
   "metadata": {
    "scrolled": false
   },
   "outputs": [
    {
     "name": "stdout",
     "output_type": "stream",
     "text": [
      "2.338050702353454 21.042456321181085\n"
     ]
    },
    {
     "ename": "NameError",
     "evalue": "name 'Gaussian1DKernel' is not defined",
     "output_type": "error",
     "traceback": [
      "\u001b[0;31m---------------------------------------------------------------------------\u001b[0m",
      "\u001b[0;31mNameError\u001b[0m                                 Traceback (most recent call last)",
      "\u001b[0;32m<ipython-input-15-3d18fa5c8c7a>\u001b[0m in \u001b[0;36m<module>\u001b[0;34m\u001b[0m\n\u001b[1;32m     41\u001b[0m \u001b[0mfig\u001b[0m\u001b[0;34m,\u001b[0m \u001b[0max\u001b[0m \u001b[0;34m=\u001b[0m \u001b[0mstrip_fig_extra_columns\u001b[0m\u001b[0;34m(\u001b[0m\u001b[0;36m0\u001b[0m\u001b[0;34m,\u001b[0m \u001b[0mseqs\u001b[0m\u001b[0;34m[\u001b[0m\u001b[0;36m0\u001b[0m\u001b[0;34m]\u001b[0m\u001b[0;34m,\u001b[0m \u001b[0;36m2\u001b[0m\u001b[0;34m,\u001b[0m \u001b[0maspect\u001b[0m\u001b[0;34m=\u001b[0m\u001b[0;36m9\u001b[0m\u001b[0;34m)\u001b[0m\u001b[0;34m\u001b[0m\u001b[0;34m\u001b[0m\u001b[0m\n\u001b[1;32m     42\u001b[0m \u001b[0;34m\u001b[0m\u001b[0m\n\u001b[0;32m---> 43\u001b[0;31m \u001b[0mds\u001b[0m\u001b[0;34m,\u001b[0m \u001b[0mgr\u001b[0m \u001b[0;34m=\u001b[0m \u001b[0mpseudo_gamma_simple\u001b[0m\u001b[0;34m(\u001b[0m\u001b[0mseqs\u001b[0m\u001b[0;34m[\u001b[0m\u001b[0;36m0\u001b[0m\u001b[0;34m]\u001b[0m\u001b[0;34m)\u001b[0m\u001b[0;34m\u001b[0m\u001b[0;34m\u001b[0m\u001b[0m\n\u001b[0m\u001b[1;32m     44\u001b[0m \u001b[0mgradient_fill\u001b[0m\u001b[0;34m(\u001b[0m\u001b[0mgr\u001b[0m\u001b[0;34m,\u001b[0m \u001b[0mds\u001b[0m\u001b[0;34m,\u001b[0m \u001b[0max\u001b[0m\u001b[0;34m[\u001b[0m\u001b[0;36m1\u001b[0m\u001b[0;34m]\u001b[0m\u001b[0;34m,\u001b[0m \u001b[0;34m'positive'\u001b[0m\u001b[0;34m,\u001b[0m \u001b[0mfill_color\u001b[0m\u001b[0;34m=\u001b[0m\u001b[0;34m'y'\u001b[0m\u001b[0;34m)\u001b[0m\u001b[0;34m\u001b[0m\u001b[0;34m\u001b[0m\u001b[0m\n\u001b[1;32m     45\u001b[0m \u001b[0max\u001b[0m\u001b[0;34m[\u001b[0m\u001b[0;36m1\u001b[0m\u001b[0;34m]\u001b[0m\u001b[0;34m.\u001b[0m\u001b[0mset_xlim\u001b[0m\u001b[0;34m(\u001b[0m\u001b[0;34m[\u001b[0m\u001b[0;36m0\u001b[0m\u001b[0;34m,\u001b[0m\u001b[0;36m200\u001b[0m\u001b[0;34m]\u001b[0m\u001b[0;34m)\u001b[0m\u001b[0;34m\u001b[0m\u001b[0;34m\u001b[0m\u001b[0m\n",
      "\u001b[0;32m<ipython-input-15-3d18fa5c8c7a>\u001b[0m in \u001b[0;36mpseudo_gamma_simple\u001b[0;34m(seq)\u001b[0m\n\u001b[1;32m     28\u001b[0m     \u001b[0;31m# Gauss filter\u001b[0m\u001b[0;34m\u001b[0m\u001b[0;34m\u001b[0m\u001b[0;34m\u001b[0m\u001b[0m\n\u001b[1;32m     29\u001b[0m     \u001b[0;31m# using astropy.convolve for now\u001b[0m\u001b[0;34m\u001b[0m\u001b[0;34m\u001b[0m\u001b[0;34m\u001b[0m\u001b[0m\n\u001b[0;32m---> 30\u001b[0;31m     \u001b[0mkernel\u001b[0m \u001b[0;34m=\u001b[0m \u001b[0mGaussian1DKernel\u001b[0m\u001b[0;34m(\u001b[0m\u001b[0msigma\u001b[0m\u001b[0;34m)\u001b[0m \u001b[0;31m# divided by resolution?\u001b[0m\u001b[0;34m\u001b[0m\u001b[0;34m\u001b[0m\u001b[0m\n\u001b[0m\u001b[1;32m     31\u001b[0m     \u001b[0mconv_gr\u001b[0m \u001b[0;34m=\u001b[0m \u001b[0mconvolve\u001b[0m\u001b[0;34m(\u001b[0m\u001b[0msample_gr\u001b[0m\u001b[0;34m,\u001b[0m \u001b[0mkernel\u001b[0m\u001b[0;34m)\u001b[0m\u001b[0;34m\u001b[0m\u001b[0;34m\u001b[0m\u001b[0m\n\u001b[1;32m     32\u001b[0m \u001b[0;34m\u001b[0m\u001b[0m\n",
      "\u001b[0;31mNameError\u001b[0m: name 'Gaussian1DKernel' is not defined"
     ]
    },
    {
     "data": {
      "image/png": "[encoded data removed]",
      "text/plain": [
       "<Figure size 336.679x1515.06 with 2 Axes>"
      ]
     },
     "metadata": {},
     "output_type": "display_data"
    }
   ],
   "source": [
    "# using astropy.convolve for now\n",
    "\n",
    "def pseudo_gamma_simple(seq):\n",
    "    # Params that will be args in the API:\n",
    "        \n",
    "    gs_threshold = 0.0625   # Cutoff in mm\n",
    "    gamma_range = (180, 30) # Low/High values\n",
    "    resolution = 0.05       # Depth resolution\n",
    "    sigma = 2              # Gaussian filter width\n",
    "    noise_magnitude = 10.   # +/- noise to add\n",
    "    \n",
    "    ds, gs = seq.get_field('depth_m'), seq.get_field('grain_size_mm')\n",
    "    \n",
    "    # Needs to be increasing for `np.interp`\n",
    "    if ds[0] > ds[-1]:\n",
    "        ds, gs = ds[::-1], gs[::-1]\n",
    "    \n",
    "    # Resampling\n",
    "    nsamples = np.abs(ds[0]-ds[-1]) // resolution + 1\n",
    "    resampled_ds = np.linspace(ds[0], ds[-1], num=int(nsamples), endpoint=True)\n",
    "    resampled_gs = np.interp(resampled_ds, ds, gs)\n",
    "    \n",
    "    # Thresholding gs -> GR\n",
    "    nan_idxs = np.argwhere(np.isnan(resampled_gs))\n",
    "    resampled_gs[nan_idxs] = gamma_range[0]\n",
    "    sample_gr = np.where(resampled_gs < gs_threshold, gamma_range[0], gamma_range[1])\n",
    "    \n",
    "    # Gauss filter\n",
    "    # using astropy.convolve for now\n",
    "    kernel = Gaussian1DKernel(sigma) # divided by resolution?\n",
    "    conv_gr = convolve(sample_gr, kernel)\n",
    "    \n",
    "    # Add noise (uniform) + restrict to positive + restore NaNs\n",
    "    gr = conv_gr + np.random.uniform(-noise_magnitude, noise_magnitude, size=conv_gr.size)\n",
    "    gr[gr < 0.] = 0.\n",
    "    gr[nan_idxs] = np.nan\n",
    "    \n",
    "    return resampled_ds, gr\n",
    "\n",
    "\n",
    "fig, ax = strip_fig_extra_columns(0, seqs[0], 2, aspect=9)\n",
    "\n",
    "ds, gr = pseudo_gamma_simple(seqs[0])\n",
    "gradient_fill(gr, ds, ax[1], 'positive', fill_color='y')\n",
    "ax[1].set_xlim([0,200])"
   ]
  },
  {
   "cell_type": "code",
   "execution_count": null,
   "metadata": {},
   "outputs": [],
   "source": [
    "from scipy.ndimage import gaussian_filter1d\n",
    "\n",
    "def filter_nan_gaussian(arr, sigma):\n",
    "    \"\"\"\n",
    "\n",
    "    (Allows intensity to leak into the NaN area.)\n",
    "\n",
    "    Implementation from stackoverflow answer:\n",
    "        https://stackoverflow.com/a/36307291/7128154\n",
    "    \"\"\"\n",
    "    gauss = arr.copy()\n",
    "    gauss[np.isnan(gauss)] = 0\n",
    "    gauss = gaussian_filter1d(gauss, sigma=sigma, mode='constant', cval=0)\n",
    "\n",
    "    norm = np.ones(shape=arr.shape)\n",
    "    norm[np.isnan(arr)] = 0\n",
    "    norm = gaussian_filter1d(norm, sigma=sigma, mode='constant', cval=0)\n",
    "\n",
    "    # avoid RuntimeWarning: invalid value encountered in true_divide\n",
    "    norm = np.where(norm==0, 1, norm)\n",
    "    gauss = gauss/norm\n",
    "    gauss[np.isnan(arr)] = np.nan\n",
    "    return gauss\n",
    "\n",
    "def pseudo_gamma_simple(seq):\n",
    "    # Params that will be args in the API:\n",
    "        \n",
    "    gs_threshold = 0.0625   # Cutoff in mm\n",
    "    gamma_range = (180, 30) # Low/High values\n",
    "    resolution = 0.05       # Depth resolution\n",
    "    sigma = 2              # Gaussian filter width\n",
    "    noise_magnitude = 10.   # +/- noise to add\n",
    "    \n",
    "    ds, gs = seq.get_field('depth_m'), seq.get_field('grain_size_mm')\n",
    "    \n",
    "    # Needs to be increasing for `np.interp`\n",
    "    if ds[0] > ds[-1]:\n",
    "        ds, gs = ds[::-1], gs[::-1]\n",
    "    \n",
    "    # Resampling\n",
    "    nsamples = np.abs(ds[0]-ds[-1]) // resolution + 1\n",
    "    resampled_ds = np.linspace(ds[0], ds[-1], num=int(nsamples), endpoint=True)\n",
    "    resampled_gs = np.interp(resampled_ds, ds, gs)\n",
    "    \n",
    "    # Thresholding gs -> GR\n",
    "    nan_idxs = np.argwhere(np.isnan(resampled_gs))\n",
    "    resampled_gs[nan_idxs] = gamma_range[0]\n",
    "    sample_gr = np.where(resampled_gs < gs_threshold, gamma_range[0], gamma_range[1])\n",
    "    \n",
    "    # Gauss filter\n",
    "    # using astropy.convolve for now\n",
    "    #kernel = Gaussian1DKernel(sigma) # divided by resolution?\n",
    "    #conv_gr = convolve(sample_gr, kernel)\n",
    "    conv_gr = filter_nan_gaussian(sample_gr, sigma)\n",
    "    \n",
    "    # Add noise (uniform) + restrict to positive + restore NaNs\n",
    "    gr = conv_gr + np.random.uniform(-noise_magnitude, noise_magnitude, size=conv_gr.size)\n",
    "    gr[gr < 0.] = 0.\n",
    "    gr[nan_idxs] = np.nan\n",
    "    \n",
    "    return resampled_ds, gr\n",
    "\n",
    "\n",
    "fig, ax = strip_fig_extra_columns(0, seqs[0], 2, aspect=9)\n",
    "\n",
    "cutoff = 100\n",
    "\n",
    "ds, gr = pseudo_gamma_simple(seqs[0])\n",
    "#gradient_fill(gr, ds, ax[1], 'positive', fill_color='y')\n",
    "\n",
    "ax[1].plot(gr, ds)\n",
    "ax[1].fill_betweenx(ds, gr, np.repeat(cutoff, ds.size), where=(gr<cutoff), color='yellow')\n",
    "\n",
    "ax[1].set_xlim([0,200])"
   ]
  },
  {
   "cell_type": "markdown",
   "metadata": {},
   "source": [
    "## these functions stolen from Matt Bauer\n",
    "\n"
   ]
  },
  {
   "cell_type": "code",
   "execution_count": null,
   "metadata": {
    "scrolled": false
   },
   "outputs": [],
   "source": [
    "import matplotlib as mpl\n",
    "\n",
    "def rect(ax,x,y,w,h,c):\n",
    "    #Make rectangle with plt.Rectangle((x,y@ Lower left),width,height,color)\n",
    "    polygon = plt.Rectangle((x,y),w,h,color=c)\n",
    "    #Add it to axis\n",
    "    ax.add_patch(polygon)\n",
    "\n",
    "def GR_fill(ax,X,Y):\n",
    "    plt.plot(X,Y,lw=0)\n",
    "    \n",
    "    #Make a custom color ramp\n",
    "    cmap = mpl.colors.LinearSegmentedColormap.from_list(\"\", [\"yellow\",\"yellow\",'goldenrod','darkgoldenrod',\"dimgrey\",'black','black'])\n",
    "    \n",
    "    #Step distance\n",
    "    dy = Y[1]-Y[0]\n",
    "    \n",
    "    #Max GR value\n",
    "    N  = float(np.nanmax(X))\n",
    "    \n",
    "    #Make rectangles with color based on GR values\n",
    "    for n, (x,y) in enumerate(zip(X,Y)):\n",
    "        color = cmap(x/N)\n",
    "        rect(ax,x,y,N-x,dy,color)\n",
    "        \n",
    "        \n",
    "fig, ax = strip_fig_extra_columns(1 ,seqs[0], 2, aspect=9)\n",
    "\n",
    "ds, gr = pseudo_gamma_simple(seqs[0])\n",
    "ax[0].plot(gr,ds,'k')\n",
    "GR_fill(ax[0], gr, ds)\n",
    "ax[0].set_xlim([0,200])\n",
    "ax[1].set_title(seqs[0].metadata['name'])\n",
    "plt.show()\n",
    "#plt.savefig('/Users/zanejobe/Desktop/testT.pdf')"
   ]
  },
  {
   "cell_type": "code",
   "execution_count": null,
   "metadata": {},
   "outputs": [],
   "source": [
    "def pseudo_gamma_args(seq, gamma_range, resolution, sigma, noise_magnitude):\n",
    "    # Params that will be args in the API:\n",
    "        \n",
    "    gs_threshold = 0.0625   # Cutoff in mm\n",
    "    #gamma_range = (180, 30) # Low/High values\n",
    "    #resolution = 0.05       # Depth resolution\n",
    "    #sigma = 2              # Gaussian filter width\n",
    "    #noise_magnitude = 10.   # +/- noise to add\n",
    "    \n",
    "    ds, gs = seq.get_field('depth_m'), seq.get_field('grain_size_mm')\n",
    "    \n",
    "    # Needs to be increasing for `np.interp`\n",
    "    if ds[0] > ds[-1]:\n",
    "        ds, gs = ds[::-1], gs[::-1]\n",
    "    \n",
    "    # Resampling\n",
    "    nsamples = np.abs(ds[0]-ds[-1]) // resolution + 1\n",
    "    resampled_ds = np.linspace(ds[0], ds[-1], num=int(nsamples), endpoint=True)\n",
    "    resampled_gs = np.interp(resampled_ds, ds, gs)\n",
    "    \n",
    "    # Thresholding gs -> GR\n",
    "    nan_idxs = np.argwhere(np.isnan(resampled_gs))\n",
    "    resampled_gs[nan_idxs] = gamma_range[0]\n",
    "    sample_gr = np.where(resampled_gs < gs_threshold, gamma_range[0], gamma_range[1])\n",
    "    \n",
    "    # Gauss filter\n",
    "    # using astropy.convolve for now\n",
    "    kernel = Gaussian1DKernel(sigma) # divided by resolution?\n",
    "    conv_gr = convolve(sample_gr, kernel)\n",
    "    \n",
    "    # Add noise (uniform) + restrict to positive + restore NaNs\n",
    "    gr = conv_gr + np.random.uniform(-noise_magnitude, noise_magnitude, size=conv_gr.size)\n",
    "    gr[gr < 0.] = 0.\n",
    "    gr[nan_idxs] = np.nan\n",
    "    \n",
    "    return resampled_ds, gr\n"
   ]
  },
  {
   "cell_type": "code",
   "execution_count": null,
   "metadata": {},
   "outputs": [],
   "source": [
    "# not sure why this isnt working for me - I dont get a widget\n",
    "\n",
    "from ipywidgets import interact, interactive, fixed, interact_manual\n",
    "import ipywidgets as widgets\n",
    "\n",
    "import matplotlib.pyplot as plt\n",
    "\n",
    "def plot_func(seq, gamma_range, resolution, sigma, noise_magnitude):\n",
    "    ds, gr = pseudo_gamma_args(seq, gamma_range, resolution, sigma, noise_magnitude)\n",
    "    plt.plot(gr,ds,'k')\n",
    "    \n",
    "gamma_range = (180, 30)\n",
    "resolution = 0.05 \n",
    "sigma = 2              \n",
    "noise_magnitude = 10.\n",
    "\n",
    "def plot_func_concrete(noise_magnitude=10.):\n",
    "    plot_func(seqs[0], (180, 30), 0.05, 2, noise_magnitude)\n",
    "\n",
    "int_plot = widgets.interactive_output(\n",
    "            plot_func_concrete,\n",
    "            {'noise_magnitude': widgets.FloatSlider(value=10.,\n",
    "                                                   min=1.,\n",
    "                                                   max=20.0,\n",
    "                                                   step=1.)}\n",
    ")"
   ]
  },
  {
   "cell_type": "code",
   "execution_count": null,
   "metadata": {},
   "outputs": [],
   "source": [
    "seqs[0].plot()"
   ]
  },
  {
   "cell_type": "code",
   "execution_count": null,
   "metadata": {},
   "outputs": [],
   "source": [
    "np.isnan(seqs[0].values).sum()"
   ]
  },
  {
   "cell_type": "code",
   "execution_count": null,
   "metadata": {},
   "outputs": [],
   "source": [
    "# Also: put a note about how to do full customization (component_map, etc.)\n",
    "\n",
    "# change decor if you want:\n",
    "print(litholog.defaults.sand_decor)\n",
    "litholog.defaults.sand_decor.hatch = None # no dots for sand\n",
    "print(litholog.defaults.sand_decor)\n",
    "print(litholog.defaults.mud_decor)\n",
    "litholog.defaults.mud_decor.colour = ‘#929591’ # change to xkcd:grey\n",
    "print(litholog.defaults.mud_decor)"
   ]
  }
 ],
 "metadata": {
  "kernelspec": {
   "display_name": "Python 3",
   "language": "python",
   "name": "python3"
  },
  "language_info": {
   "codemirror_mode": {
    "name": "ipython",
    "version": 3
   },
   "file_extension": ".py",
   "mimetype": "text/x-python",
   "name": "python",
   "nbconvert_exporter": "python",
   "pygments_lexer": "ipython3",
   "version": "3.7.7"
  }
 },
 "nbformat": 4,
 "nbformat_minor": 2
}
