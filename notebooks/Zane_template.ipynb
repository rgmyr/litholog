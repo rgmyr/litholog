{
 "cells": [
  {
   "cell_type": "code",
   "execution_count": 1,
   "metadata": {},
   "outputs": [],
   "source": [
    "import collections\n",
    "import inspect\n",
    "import random\n",
    "\n",
    "import numpy as np\n",
    "import pandas as pd\n",
    "import matplotlib.pyplot as plt\n",
    "\n",
    "plt.style.use('ggplot')\n",
    "\n",
    "import graphiclog\n",
    "from graphiclog import utils, io, defaults"
   ]
  },
  {
   "cell_type": "code",
   "execution_count": 2,
   "metadata": {},
   "outputs": [
    {
     "data": {
      "text/plain": [
       "('/Users/zanejobe/opt/anaconda3/lib/python3.7/site-packages/graphiclog/__init__.py',\n",
       " ['Bed',\n",
       "  'BedSequence',\n",
       "  '__builtins__',\n",
       "  '__cached__',\n",
       "  '__doc__',\n",
       "  '__file__',\n",
       "  '__loader__',\n",
       "  '__name__',\n",
       "  '__package__',\n",
       "  '__path__',\n",
       "  '__spec__',\n",
       "  'bed',\n",
       "  'defaults',\n",
       "  'io',\n",
       "  'sequence',\n",
       "  'utils',\n",
       "  'wentworth'])"
      ]
     },
     "execution_count": 2,
     "metadata": {},
     "output_type": "execute_result"
    }
   ],
   "source": [
    "graphiclog.__file__, dir(graphiclog)"
   ]
  },
  {
   "cell_type": "code",
   "execution_count": 3,
   "metadata": {},
   "outputs": [
    {
     "data": {
      "image/png": "[encoded data removed]",
      "text/plain": [
       "<Figure size 432x288 with 5 Axes>"
      ]
     },
     "metadata": {
      "needs_background": "light"
     },
     "output_type": "display_data"
    }
   ],
   "source": [
    "graphiclog.defaults.litholegend.plot()"
   ]
  },
  {
   "cell_type": "markdown",
   "metadata": {},
   "source": [
    "# Load All Sequences\n",
    "\n",
    "Here's a function (modified from `depstrat.data`) to load all the sequences as `BedSequence`s: "
   ]
  },
  {
   "cell_type": "code",
   "execution_count": 4,
   "metadata": {},
   "outputs": [],
   "source": [
    "# Set up some default args:\n",
    "\n",
    "FPATH = '../data/AllBedsWithProfiles_CLEAN.csv'\n",
    "\n",
    "# Columns to convert from strings to arrays\n",
    "transforms = {c : utils.string2array_pandas for c in ['depth_m', 'grain_size_mm', 'grain_size_psi']}\n",
    "\n",
    "\n",
    "# binary indicators\n",
    "BINARY_FEATURES = ['snd', 'shl']\n",
    "\n",
    "\n",
    "# bed data columns\n",
    "FLOAT_FEATURES = [\n",
    "    'th',\n",
    "    'gs_tops_psi',\n",
    "    'mean_gs_psi',\n",
    "    'max_gs_psi',\n",
    "    'grain_size_psi',\n",
    "    'depth_m'\n",
    "]\n",
    "\n",
    "FEATURES = BINARY_FEATURES + FLOAT_FEATURES\n",
    "\n",
    "\n",
    "# Sequence-level metadata\n",
    "METACOLS = ['name', 'count', 'collection', 'eod', 'eodnum']\n",
    "\n",
    "\n",
    "# Lithology component map\n",
    "COMPONENT_MAP = ('mean_gs_psi', lambda gs: defaults.gs2litho(gs, units='psi'))"
   ]
  },
  {
   "cell_type": "code",
   "execution_count": 5,
   "metadata": {},
   "outputs": [],
   "source": [
    "def load_sequences(\n",
    "    fpath=FPATH,\n",
    "    resample=None,\n",
    "    depth_col='depth_m',\n",
    "    features=FEATURES,\n",
    "    metacols=METACOLS,\n",
    "    min_length=3\n",
    "):\n",
    "    \"\"\"\n",
    "    Load the dataset from saved csv. Return list of BedSequences.\n",
    "    \"\"\"\n",
    "    df = pd.read_csv(fpath, converters=transforms)\n",
    "\n",
    "    bed_seqs = []\n",
    "    for name, grp in df.groupby('count'):\n",
    "        seq = graphiclog.BedSequence.from_dataframe(\n",
    "                grp,\n",
    "                topcol='tops',\n",
    "                basecol='bases',\n",
    "                component_map=COMPONENT_MAP,\n",
    "                datacols=features,\n",
    "                metacols=metacols\n",
    "        )\n",
    "        if len(seq) >= min_length:\n",
    "            bed_seqs.append(seq)\n",
    "\n",
    "    # resample arrays if you want\n",
    "    for seq in bed_seqs:\n",
    "        if resample is not None:\n",
    "            seq.resample_data(depth_col, resample)\n",
    "\n",
    "    return bed_seqs"
   ]
  },
  {
   "cell_type": "code",
   "execution_count": 6,
   "metadata": {},
   "outputs": [],
   "source": [
    "sequences = load_sequences()"
   ]
  },
  {
   "cell_type": "markdown",
   "metadata": {},
   "source": [
    "# Check out a sequence"
   ]
  },
  {
   "cell_type": "code",
   "execution_count": 8,
   "metadata": {},
   "outputs": [
    {
     "data": {
      "text/plain": [
       "Striplog(63 Intervals, start=0.0, stop=105.108444843353)"
      ]
     },
     "execution_count": 8,
     "metadata": {},
     "output_type": "execute_result"
    }
   ],
   "source": [
    "seq = random.choice(sequences)\n",
    "\n",
    "seq"
   ]
  },
  {
   "cell_type": "code",
   "execution_count": 9,
   "metadata": {},
   "outputs": [
    {
     "data": {
      "text/plain": [
       "{'name': 'Sierra del Toro flame',\n",
       " 'count': 284,\n",
       " 'collection': 'Cerro Toro',\n",
       " 'eod': 'slopechannel',\n",
       " 'eodnum': 2}"
      ]
     },
     "execution_count": 9,
     "metadata": {},
     "output_type": "execute_result"
    }
   ],
   "source": [
    "seq.metadata"
   ]
  },
  {
   "cell_type": "code",
   "execution_count": 10,
   "metadata": {},
   "outputs": [
    {
     "data": {
      "text/html": [
       "<table><tr><td style=\"width:2em; background-color:#DDDDDD\" rowspan=\"6\"></td><td><strong>top</strong></td><td>105.108444843353</td></tr><tr><td><strong>primary</strong></td><td><table><tr><td><strong>lithology</strong></td><td>mud</td></tr></table></td></tr><tr><td><strong>summary</strong></td><td>1.82 m of mud</td></tr><tr><td><strong>description</strong></td><td></td></tr><tr><td><strong>data</strong></td><td><table><tr><td><strong>snd</strong></td><td>0.0</td></tr><tr><td><strong>shl</strong></td><td>1.0</td></tr><tr><td><strong>th</strong></td><td>1.82195410792356</td></tr><tr><td><strong>gs_tops_psi</strong></td><td>-6.752999999999999</td></tr><tr><td><strong>mean_gs_psi</strong></td><td>-6.752999999999999</td></tr><tr><td><strong>max_gs_psi</strong></td><td>-6.752999999999999</td></tr><tr><td><strong>grain_size_psi</strong></td><td>[-6.7486 -6.7486]</td></tr><tr><td><strong>depth_m</strong></td><td>[105.1084 103.2865]</td></tr></table></td></tr><tr><td><strong>base</strong></td><td>103.28649073542944</td></tr></table>"
      ],
      "text/plain": [
       "Interval({'data': {'snd': 0.0, 'shl': 1.0, 'th': 1.82195410792356, 'gs_tops_psi': -6.752999999999999, 'mean_gs_psi': -6.752999999999999, 'max_gs_psi': -6.752999999999999, 'grain_size_psi': array([-6.7486, -6.7486]), 'depth_m': array([105.1084, 103.2865])}, 'top': Position({'middle': 105.108444843353, 'units': 'm'}), 'base': Position({'middle': 103.28649073542944, 'units': 'm'}), 'description': '', 'components': [Component({'lithology': 'mud'})]})"
      ]
     },
     "execution_count": 10,
     "metadata": {},
     "output_type": "execute_result"
    }
   ],
   "source": [
    "# The first bed\n",
    "seq[0]"
   ]
  },
  {
   "cell_type": "code",
   "execution_count": 12,
   "metadata": {
    "scrolled": false
   },
   "outputs": [
    {
     "data": {
      "image/png": "[encoded data removed]",
      "text/plain": [
       "<Figure size 72x720 with 1 Axes>"
      ]
     },
     "metadata": {
      "needs_background": "light"
     },
     "output_type": "display_data"
    }
   ],
   "source": [
    "seq.plot(legend=defaults.litholegend, width_field='grain_size_psi', fig_width=1)"
   ]
  },
  {
   "cell_type": "code",
   "execution_count": 18,
   "metadata": {},
   "outputs": [
    {
     "name": "stdout",
     "output_type": "stream",
     "text": [
      "gs array gs [-2.3899 -2.2863 -2.101  -1.9159 -1.812  -1.812 ]\n",
      "gs array depth [103.2865 103.2599 103.1203 102.9274 102.8077 102.7213]\n"
     ]
    }
   ],
   "source": [
    "i=1\n",
    "print('gs array gs', seq[i].data['grain_size_psi'])\n",
    "print('gs array depth', seq[i].data['depth_m'])"
   ]
  },
  {
   "cell_type": "code",
   "execution_count": null,
   "metadata": {},
   "outputs": [],
   "source": []
  }
 ],
 "metadata": {
  "kernelspec": {
   "display_name": "Python 3",
   "language": "python",
   "name": "python3"
  },
  "language_info": {
   "codemirror_mode": {
    "name": "ipython",
    "version": 3
   },
   "file_extension": ".py",
   "mimetype": "text/x-python",
   "name": "python",
   "nbconvert_exporter": "python",
   "pygments_lexer": "ipython3",
   "version": "3.7.4"
  }
 },
 "nbformat": 4,
 "nbformat_minor": 2
}
