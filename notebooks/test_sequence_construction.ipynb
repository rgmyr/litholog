{
 "cells": [
  {
   "cell_type": "code",
   "execution_count": 1,
   "metadata": {},
   "outputs": [],
   "source": [
    "import collections\n",
    "import inspect\n",
    "\n",
    "import numpy as np\n",
    "import pandas as pd\n",
    "import matplotlib.pyplot as plt\n",
    "\n",
    "plt.style.use('ggplot')\n",
    "\n",
    "import graphiclog"
   ]
  },
  {
   "cell_type": "code",
   "execution_count": 2,
   "metadata": {},
   "outputs": [
    {
     "data": {
      "text/plain": [
       "('/home/administrator/code/python/graphiclog/graphiclog/__init__.py',\n",
       " ['Bed',\n",
       "  'BedSequence',\n",
       "  '__builtins__',\n",
       "  '__cached__',\n",
       "  '__doc__',\n",
       "  '__file__',\n",
       "  '__loader__',\n",
       "  '__name__',\n",
       "  '__package__',\n",
       "  '__path__',\n",
       "  '__spec__',\n",
       "  'bed',\n",
       "  'defaults',\n",
       "  'io',\n",
       "  'sequence',\n",
       "  'utils',\n",
       "  'wentworth'])"
      ]
     },
     "execution_count": 2,
     "metadata": {},
     "output_type": "execute_result"
    }
   ],
   "source": [
    "graphiclog.__file__, dir(graphiclog)"
   ]
  },
  {
   "cell_type": "code",
   "execution_count": 3,
   "metadata": {},
   "outputs": [
    {
     "data": {
      "image/png": "[encoded data removed]",
      "text/plain": [
       "<Figure size 288x72 with 1 Axes>"
      ]
     },
     "metadata": {},
     "output_type": "display_data"
    },
    {
     "data": {
      "image/png": "[encoded data removed]",
      "text/plain": [
       "<Figure size 288x72 with 1 Axes>"
      ]
     },
     "metadata": {},
     "output_type": "display_data"
    },
    {
     "data": {
      "image/png": "[encoded data removed]",
      "text/plain": [
       "<Figure size 288x72 with 1 Axes>"
      ]
     },
     "metadata": {},
     "output_type": "display_data"
    }
   ],
   "source": [
    "graphiclog.defaults.litholegend.plot()"
   ]
  },
  {
   "cell_type": "code",
   "execution_count": 4,
   "metadata": {},
   "outputs": [
    {
     "data": {
      "text/html": [
       "<div>\n",
       "<style scoped>\n",
       "    .dataframe tbody tr th:only-of-type {\n",
       "        vertical-align: middle;\n",
       "    }\n",
       "\n",
       "    .dataframe tbody tr th {\n",
       "        vertical-align: top;\n",
       "    }\n",
       "\n",
       "    .dataframe thead th {\n",
       "        text-align: right;\n",
       "    }\n",
       "</style>\n",
       "<table border=\"1\" class=\"dataframe\">\n",
       "  <thead>\n",
       "    <tr style=\"text-align: right;\">\n",
       "      <th></th>\n",
       "      <th>name</th>\n",
       "      <th>count</th>\n",
       "      <th>collection</th>\n",
       "      <th>eod</th>\n",
       "      <th>eodnum</th>\n",
       "      <th>tops</th>\n",
       "      <th>th</th>\n",
       "      <th>bases</th>\n",
       "      <th>gs_tops_mm</th>\n",
       "      <th>gs_tops_psi</th>\n",
       "      <th>...</th>\n",
       "      <th>mean_gs_psi</th>\n",
       "      <th>max_gs_mm</th>\n",
       "      <th>max_gs_psi</th>\n",
       "      <th>ng</th>\n",
       "      <th>ar</th>\n",
       "      <th>depth_m</th>\n",
       "      <th>grain_size_mm</th>\n",
       "      <th>grain_size_psi</th>\n",
       "      <th>missing_tops</th>\n",
       "      <th>missing_sample</th>\n",
       "    </tr>\n",
       "  </thead>\n",
       "  <tbody>\n",
       "    <tr>\n",
       "      <th>0</th>\n",
       "      <td>Marnoso 1</td>\n",
       "      <td>1</td>\n",
       "      <td>Marnoso-Arenacea</td>\n",
       "      <td>basin plain</td>\n",
       "      <td>0</td>\n",
       "      <td>22.81684</td>\n",
       "      <td>0.31082</td>\n",
       "      <td>22.50602</td>\n",
       "      <td>0.115051</td>\n",
       "      <td>-3.119655</td>\n",
       "      <td>...</td>\n",
       "      <td>-3.106893</td>\n",
       "      <td>0.117046</td>\n",
       "      <td>-3.094850</td>\n",
       "      <td>0.520514</td>\n",
       "      <td>0.021978</td>\n",
       "      <td>[22.8168, 22.703, 22.5337, 22.506]</td>\n",
       "      <td>[0.1151, 0.1157, 0.117, 0.117]</td>\n",
       "      <td>[-3.11904026 -3.11153923 -3.09541957 -3.09541957]</td>\n",
       "      <td>0.0</td>\n",
       "      <td>0.0</td>\n",
       "    </tr>\n",
       "    <tr>\n",
       "      <th>1</th>\n",
       "      <td>Marnoso 1</td>\n",
       "      <td>1</td>\n",
       "      <td>Marnoso-Arenacea</td>\n",
       "      <td>basin plain</td>\n",
       "      <td>0</td>\n",
       "      <td>22.50602</td>\n",
       "      <td>0.60931</td>\n",
       "      <td>21.89671</td>\n",
       "      <td>0.001000</td>\n",
       "      <td>-9.965784</td>\n",
       "      <td>...</td>\n",
       "      <td>-9.965784</td>\n",
       "      <td>0.001000</td>\n",
       "      <td>-9.965784</td>\n",
       "      <td>0.520514</td>\n",
       "      <td>0.021978</td>\n",
       "      <td>[22.506, 21.8967]</td>\n",
       "      <td>[0.001, 0.001]</td>\n",
       "      <td>[-9.96578428 -9.96578428]</td>\n",
       "      <td>0.0</td>\n",
       "      <td>0.0</td>\n",
       "    </tr>\n",
       "    <tr>\n",
       "      <th>2</th>\n",
       "      <td>Marnoso 1</td>\n",
       "      <td>1</td>\n",
       "      <td>Marnoso-Arenacea</td>\n",
       "      <td>basin plain</td>\n",
       "      <td>0</td>\n",
       "      <td>21.89671</td>\n",
       "      <td>0.10463</td>\n",
       "      <td>21.79208</td>\n",
       "      <td>0.125380</td>\n",
       "      <td>-2.995625</td>\n",
       "      <td>...</td>\n",
       "      <td>-2.995625</td>\n",
       "      <td>0.125380</td>\n",
       "      <td>-2.995625</td>\n",
       "      <td>0.520514</td>\n",
       "      <td>0.021978</td>\n",
       "      <td>[21.8967, 21.7921]</td>\n",
       "      <td>[0.1254, 0.1254]</td>\n",
       "      <td>[-2.99539075 -2.99539075]</td>\n",
       "      <td>0.0</td>\n",
       "      <td>0.0</td>\n",
       "    </tr>\n",
       "    <tr>\n",
       "      <th>3</th>\n",
       "      <td>Marnoso 1</td>\n",
       "      <td>1</td>\n",
       "      <td>Marnoso-Arenacea</td>\n",
       "      <td>basin plain</td>\n",
       "      <td>0</td>\n",
       "      <td>21.79208</td>\n",
       "      <td>0.11694</td>\n",
       "      <td>21.67514</td>\n",
       "      <td>0.001000</td>\n",
       "      <td>-9.965784</td>\n",
       "      <td>...</td>\n",
       "      <td>-9.965784</td>\n",
       "      <td>0.001000</td>\n",
       "      <td>-9.965784</td>\n",
       "      <td>0.520514</td>\n",
       "      <td>0.021978</td>\n",
       "      <td>[21.7921, 21.6751]</td>\n",
       "      <td>[0.001, 0.001]</td>\n",
       "      <td>[-9.96578428 -9.96578428]</td>\n",
       "      <td>0.0</td>\n",
       "      <td>0.0</td>\n",
       "    </tr>\n",
       "    <tr>\n",
       "      <th>4</th>\n",
       "      <td>Marnoso 1</td>\n",
       "      <td>1</td>\n",
       "      <td>Marnoso-Arenacea</td>\n",
       "      <td>basin plain</td>\n",
       "      <td>0</td>\n",
       "      <td>21.67514</td>\n",
       "      <td>0.13232</td>\n",
       "      <td>21.54282</td>\n",
       "      <td>0.134306</td>\n",
       "      <td>-2.896405</td>\n",
       "      <td>...</td>\n",
       "      <td>-2.736260</td>\n",
       "      <td>0.160420</td>\n",
       "      <td>-2.640075</td>\n",
       "      <td>0.520514</td>\n",
       "      <td>0.021978</td>\n",
       "      <td>[21.6751, 21.6351, 21.5674, 21.5428]</td>\n",
       "      <td>[0.1343, 0.1447, 0.1604, 0.1604]</td>\n",
       "      <td>[-2.89646879 -2.78886317 -2.64025395 -2.64025395]</td>\n",
       "      <td>0.0</td>\n",
       "      <td>0.0</td>\n",
       "    </tr>\n",
       "  </tbody>\n",
       "</table>\n",
       "<p>5 rows × 22 columns</p>\n",
       "</div>"
      ],
      "text/plain": [
       "        name  count        collection          eod  eodnum      tops       th  \\\n",
       "0  Marnoso 1      1  Marnoso-Arenacea  basin plain       0  22.81684  0.31082   \n",
       "1  Marnoso 1      1  Marnoso-Arenacea  basin plain       0  22.50602  0.60931   \n",
       "2  Marnoso 1      1  Marnoso-Arenacea  basin plain       0  21.89671  0.10463   \n",
       "3  Marnoso 1      1  Marnoso-Arenacea  basin plain       0  21.79208  0.11694   \n",
       "4  Marnoso 1      1  Marnoso-Arenacea  basin plain       0  21.67514  0.13232   \n",
       "\n",
       "      bases  gs_tops_mm  gs_tops_psi      ...        mean_gs_psi  max_gs_mm  \\\n",
       "0  22.50602    0.115051    -3.119655      ...          -3.106893   0.117046   \n",
       "1  21.89671    0.001000    -9.965784      ...          -9.965784   0.001000   \n",
       "2  21.79208    0.125380    -2.995625      ...          -2.995625   0.125380   \n",
       "3  21.67514    0.001000    -9.965784      ...          -9.965784   0.001000   \n",
       "4  21.54282    0.134306    -2.896405      ...          -2.736260   0.160420   \n",
       "\n",
       "   max_gs_psi        ng        ar                               depth_m  \\\n",
       "0   -3.094850  0.520514  0.021978    [22.8168, 22.703, 22.5337, 22.506]   \n",
       "1   -9.965784  0.520514  0.021978                     [22.506, 21.8967]   \n",
       "2   -2.995625  0.520514  0.021978                    [21.8967, 21.7921]   \n",
       "3   -9.965784  0.520514  0.021978                    [21.7921, 21.6751]   \n",
       "4   -2.640075  0.520514  0.021978  [21.6751, 21.6351, 21.5674, 21.5428]   \n",
       "\n",
       "                      grain_size_mm  \\\n",
       "0    [0.1151, 0.1157, 0.117, 0.117]   \n",
       "1                    [0.001, 0.001]   \n",
       "2                  [0.1254, 0.1254]   \n",
       "3                    [0.001, 0.001]   \n",
       "4  [0.1343, 0.1447, 0.1604, 0.1604]   \n",
       "\n",
       "                                      grain_size_psi missing_tops  \\\n",
       "0  [-3.11904026 -3.11153923 -3.09541957 -3.09541957]          0.0   \n",
       "1                          [-9.96578428 -9.96578428]          0.0   \n",
       "2                          [-2.99539075 -2.99539075]          0.0   \n",
       "3                          [-9.96578428 -9.96578428]          0.0   \n",
       "4  [-2.89646879 -2.78886317 -2.64025395 -2.64025395]          0.0   \n",
       "\n",
       "  missing_sample  \n",
       "0            0.0  \n",
       "1            0.0  \n",
       "2            0.0  \n",
       "3            0.0  \n",
       "4            0.0  \n",
       "\n",
       "[5 rows x 22 columns]"
      ]
     },
     "execution_count": 4,
     "metadata": {},
     "output_type": "execute_result"
    }
   ],
   "source": [
    "transforms = {c : graphiclog.utils.string2array_pandas for c in ['depth_m', 'grain_size_mm']}\n",
    "\n",
    "beds = pd.read_csv('../data/AllBedsWithProfiles_CLEAN.csv', converters=transforms)\n",
    "beds.head()"
   ]
  },
  {
   "cell_type": "code",
   "execution_count": 9,
   "metadata": {},
   "outputs": [
    {
     "data": {
      "text/plain": [
       "Index(['name', 'count', 'collection', 'eod', 'eodnum', 'tops', 'th', 'bases',\n",
       "       'gs_tops_mm', 'gs_tops_psi', 'snd_shl', 'mean_gs_mm', 'mean_gs_psi',\n",
       "       'max_gs_mm', 'max_gs_psi', 'ng', 'ar', 'depth_m', 'grain_size_mm',\n",
       "       'grain_size_psi', 'missing_tops', 'missing_sample'],\n",
       "      dtype='object')"
      ]
     },
     "execution_count": 9,
     "metadata": {},
     "output_type": "execute_result"
    }
   ],
   "source": [
    "beds.columns"
   ]
  },
  {
   "cell_type": "code",
   "execution_count": 6,
   "metadata": {},
   "outputs": [],
   "source": [
    "bed_seqs = []\n",
    "\n",
    "datacols = ['th', 'gs_tops_psi', 'mean_gs_psi', 'depth_m', 'grain_size_psi']\n",
    "metacols=['name', 'count', 'collection', 'eod', 'eodnum']\n",
    "\n",
    "for name, grp in beds.groupby('count'):\n",
    "    \n",
    "    bed_seqs.append(graphiclog.BedSequence.from_dataframe(grp, topcol='tops', basecol='bases',\n",
    "                                                 component_map=graphiclog.defaults.DEFAULT_COMPONENT_MAP,\n",
    "                                                 datacols=datacols, metacols=metacols))\n"
   ]
  },
  {
   "cell_type": "code",
   "execution_count": 8,
   "metadata": {},
   "outputs": [
    {
     "data": {
      "text/plain": [
       "(Position({'middle': 0.0, 'upper': 0.0, 'lower': 0.0, 'units': 'm'}),\n",
       " Position({'middle': 22.81684, 'units': 'm'}))"
      ]
     },
     "execution_count": 8,
     "metadata": {},
     "output_type": "execute_result"
    }
   ],
   "source": [
    "bed_seqs[0].start, bed_seqs[0].stop"
   ]
  },
  {
   "cell_type": "code",
   "execution_count": null,
   "metadata": {
    "scrolled": false
   },
   "outputs": [],
   "source": [
    "fig, ax = plt.subplots(figsize=(14,50), ncols=2)\n",
    "bedseq.plot(legend=graphiclog.defaults.litholegend, width_field='grain_size_psi', depth_field='depth_m', ax=ax[0])\n",
    "\n",
    "bedseq.resample_data('depth_m', 0.01)\n",
    "\n",
    "bedseq.plot(legend=graphiclog.defaults.litholegend, width_field='grain_size_psi', depth_field='depth_m', ax=ax[1])"
   ]
  },
  {
   "cell_type": "code",
   "execution_count": null,
   "metadata": {},
   "outputs": [],
   "source": [
    "bedseq.min_field('grain_size_psi')"
   ]
  },
  {
   "cell_type": "code",
   "execution_count": null,
   "metadata": {},
   "outputs": [],
   "source": [
    "-1 > bedseq.max_field('grain_size_psi')"
   ]
  },
  {
   "cell_type": "code",
   "execution_count": null,
   "metadata": {
    "scrolled": false
   },
   "outputs": [],
   "source": [
    "fig, ax = plt.subplots(figsize=(7,30))\n",
    "bedseq.plot(legend=graphiclog.defaults.litholegend, width_field='grain_size_psi', depth_field='depth_m', \n",
    "            wentworth='coarse', ax=ax)"
   ]
  },
  {
   "cell_type": "code",
   "execution_count": null,
   "metadata": {},
   "outputs": [],
   "source": []
  }
 ],
 "metadata": {
  "kernelspec": {
   "display_name": "Python 3",
   "language": "python",
   "name": "python3"
  },
  "language_info": {
   "codemirror_mode": {
    "name": "ipython",
    "version": 3
   },
   "file_extension": ".py",
   "mimetype": "text/x-python",
   "name": "python",
   "nbconvert_exporter": "python",
   "pygments_lexer": "ipython3",
   "version": "3.6.7"
  }
 },
 "nbformat": 4,
 "nbformat_minor": 2
}
