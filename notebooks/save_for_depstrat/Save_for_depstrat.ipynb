{
 "cells": [
  {
   "cell_type": "code",
   "execution_count": null,
   "metadata": {},
   "outputs": [],
   "source": []
  },
  {
   "cell_type": "code",
   "execution_count": null,
   "metadata": {},
   "outputs": [],
   "source": []
  },
  {
   "cell_type": "code",
   "execution_count": null,
   "metadata": {},
   "outputs": [],
   "source": []
  },
  {
   "cell_type": "code",
   "execution_count": null,
   "metadata": {},
   "outputs": [],
   "source": [
    "\n",
    "def gradient_fill(x, y, ax, pos_or_neg,\n",
    "                  fill_color=None,\n",
    "                  **kwargs):\n",
    "    \"\"\"\n",
    "    Plot a line with a linear alpha gradient filled beneath it.\n",
    "    Parameters\n",
    "    ----------\n",
    "    x, y : array-like\n",
    "        The data values of the line.\n",
    "    ax : a matplotlib Axes instance\n",
    "        The axes to plot on.\n",
    "    fill_color : a matplotlib color specifier (string, tuple) or None\n",
    "        The color for the fill. If None, the color of the line will be used.\n",
    "    Additional arguments are passed on to matplotlib's ``plot`` function.\n",
    "    Returns\n",
    "    -------\n",
    "    line : a Line2D instance\n",
    "        The line plotted.\n",
    "    im : an AxesImage instance\n",
    "        The transparent gradient clipped to just the area beneath the curve.\n",
    "    \"\"\"\n",
    "    x[np.argwhere(np.isnan(x))] = 0.\n",
    "\n",
    "    line, = ax.plot(x, y, **kwargs)\n",
    "    if fill_color is None:\n",
    "        fill_color = line.get_color()\n",
    "\n",
    "    zorder = line.get_zorder()\n",
    "    alpha = line.get_alpha()\n",
    "    alpha = 1.0 if alpha is None else alpha\n",
    "\n",
    "    if pos_or_neg=='positive':\n",
    "        alpha_gradient = np.linspace(0.2, alpha, 100)\n",
    "        xmin, xmax = 0., ax.get_xlim()[1]\n",
    "    else:\n",
    "        alpha_gradient = np.linspace(alpha, 0.2, 100)\n",
    "        xmin, xmax = ax.get_xlim()[0], 0.\n",
    "\n",
    "    z = np.empty((1, 100, 4), dtype=float)\n",
    "    z[:,:,-1] = alpha_gradient[None,:]\n",
    "\n",
    "    rgb = mcolors.colorConverter.to_rgb(fill_color)\n",
    "    z[:,:,:3] = rgb\n",
    "\n",
    "    ymin, ymax = y.min(), y.max()\n",
    "    im = ax.imshow(z, aspect='auto', extent=[xmin, xmax, ymin, ymax],\n",
    "                   origin='lower', zorder=zorder)\n",
    "\n",
    "    xy = np.column_stack([x, y])\n",
    "    xy = np.flipud(xy) if y[0] < y[1] else xy   # Have to flip order for 'depth'-ordered striplogs\n",
    "    if pos_or_neg=='positive':\n",
    "        xy = np.vstack([[xmin, ymax], xy, [xmin, ymin], [xmin, ymax]])\n",
    "    else:\n",
    "        xy = np.vstack([[xmax, ymax], xy, [xmax, ymin], [xmax, ymax]])\n",
    "\n",
    "    clip_path = Polygon(xy, facecolor='none', edgecolor='none', closed=True)\n",
    "    ax.add_patch(clip_path)\n",
    "    im.set_clip_path(clip_path)\n",
    "\n",
    "    #ax.autoscale(True)\n",
    "    return line, im"
   ]
  },
  {
   "cell_type": "code",
   "execution_count": null,
   "metadata": {},
   "outputs": [],
   "source": []
  },
  {
   "cell_type": "code",
   "execution_count": null,
   "metadata": {},
   "outputs": [],
   "source": []
  },
  {
   "cell_type": "code",
   "execution_count": null,
   "metadata": {},
   "outputs": [],
   "source": []
  },
  {
   "cell_type": "code",
   "execution_count": null,
   "metadata": {},
   "outputs": [],
   "source": [
    "# beds is the pandas dataframe of all the beds\n",
    "beds.snd_shl.value_counts()\n",
    "beds[beds.snd_shl == 1].th.sum()\n",
    "\n",
    "count = {eod : 0 for eod in beds.eod.unique()}\n",
    "meters = {eod : 0 for eod in beds.eod.unique()}\n",
    "\n",
    "for _, grp in beds.groupby('count'):\n",
    "    count[grp['eod'].values[0]] += 1\n",
    "    meters[grp['eod'].values[0]] += grp.th.sum()\n",
    "    \n",
    "avgs = {k : meters[k] / count[k] for k in count.keys()}\n",
    "print(avgs)\n",
    "\n",
    "###\n",
    "\n",
    "weird = {problem : [] for problem in ['has_null', 'th_mismatch', 'samples_mismatch']}\n",
    "\n",
    "for name, seq in beds.groupby('count'):\n",
    "    \n",
    "    if seq.isnull().any().any():\n",
    "        weird['has_null'].append(name)\n",
    "    \n",
    "    _, elev_good = io.check_thicknesses(seq, 'tops', 'th', 'elevation')\n",
    "    _, depth_good = io.check_thicknesses(seq, 'tops', 'th', 'depth')\n",
    "    if not (elev_good or depth_good):\n",
    "        weird['th_mismatch'].append(name)\n",
    "        \n",
    "    if not io.check_samples(seq, 'depth_m', 'grain_size_mm'):\n",
    "        weird['samples_mismatch'].append(name)\n",
    "        \n",
    "weird, {k : len(v) for k, v in weird.items()}\n",
    "\n",
    "###\n",
    "\n",
    "beds[beds.depth_m.apply(utils.safelen) != beds.grain_size_mm.apply(utils.safelen)]\n",
    "\n",
    "###"
   ]
  },
  {
   "cell_type": "code",
   "execution_count": null,
   "metadata": {},
   "outputs": [],
   "source": []
  },
  {
   "cell_type": "code",
   "execution_count": null,
   "metadata": {},
   "outputs": [],
   "source": []
  },
  {
   "cell_type": "code",
   "execution_count": null,
   "metadata": {},
   "outputs": [],
   "source": []
  },
  {
   "cell_type": "code",
   "execution_count": null,
   "metadata": {},
   "outputs": [],
   "source": []
  },
  {
   "cell_type": "code",
   "execution_count": null,
   "metadata": {},
   "outputs": [],
   "source": []
  }
 ],
 "metadata": {
  "kernelspec": {
   "display_name": "Python 3",
   "language": "python",
   "name": "python3"
  },
  "language_info": {
   "codemirror_mode": {
    "name": "ipython",
    "version": 3
   },
   "file_extension": ".py",
   "mimetype": "text/x-python",
   "name": "python",
   "nbconvert_exporter": "python",
   "pygments_lexer": "ipython3",
   "version": "3.8.3"
  }
 },
 "nbformat": 4,
 "nbformat_minor": 4
}
