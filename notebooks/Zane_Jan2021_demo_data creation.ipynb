{
 "cells": [
  {
   "cell_type": "code",
   "execution_count": 1,
   "metadata": {},
   "outputs": [],
   "source": [
    "import numpy as np\n",
    "import pandas as pd\n",
    "import matplotlib.pyplot as plt\n",
    "\n",
    "plt.style.use('ggplot')\n",
    "\n",
    "import litholog\n",
    "from litholog import utils, BedSequence"
   ]
  },
  {
   "cell_type": "code",
   "execution_count": 2,
   "metadata": {
    "scrolled": false
   },
   "outputs": [
    {
     "data": {
      "text/html": [
       "<div>\n",
       "<style scoped>\n",
       "    .dataframe tbody tr th:only-of-type {\n",
       "        vertical-align: middle;\n",
       "    }\n",
       "\n",
       "    .dataframe tbody tr th {\n",
       "        vertical-align: top;\n",
       "    }\n",
       "\n",
       "    .dataframe thead th {\n",
       "        text-align: right;\n",
       "    }\n",
       "</style>\n",
       "<table border=\"1\" class=\"dataframe\">\n",
       "  <thead>\n",
       "    <tr style=\"text-align: right;\">\n",
       "      <th></th>\n",
       "      <th>name</th>\n",
       "      <th>count</th>\n",
       "      <th>collection</th>\n",
       "      <th>eod</th>\n",
       "      <th>eodnum</th>\n",
       "      <th>tops</th>\n",
       "      <th>th</th>\n",
       "      <th>gs_tops_mm</th>\n",
       "      <th>snd_shl</th>\n",
       "      <th>mean_gs_mm</th>\n",
       "      <th>max_gs_mm</th>\n",
       "      <th>ng</th>\n",
       "      <th>ar</th>\n",
       "      <th>depth_m</th>\n",
       "      <th>grain_size_mm</th>\n",
       "    </tr>\n",
       "  </thead>\n",
       "  <tbody>\n",
       "    <tr>\n",
       "      <th>0</th>\n",
       "      <td>Marnoso 1</td>\n",
       "      <td>1</td>\n",
       "      <td>Marnoso-Arenacea</td>\n",
       "      <td>basin plain</td>\n",
       "      <td>0</td>\n",
       "      <td>22.81684</td>\n",
       "      <td>0.31082</td>\n",
       "      <td>0.115051</td>\n",
       "      <td>1.0</td>\n",
       "      <td>0.116073</td>\n",
       "      <td>0.117046</td>\n",
       "      <td>0.520514</td>\n",
       "      <td>0.021978</td>\n",
       "      <td>[22.8168, 22.703, 22.5337, 22.506]</td>\n",
       "      <td>[0.1151, 0.1157, 0.117, 0.117]</td>\n",
       "    </tr>\n",
       "    <tr>\n",
       "      <th>1</th>\n",
       "      <td>Marnoso 1</td>\n",
       "      <td>1</td>\n",
       "      <td>Marnoso-Arenacea</td>\n",
       "      <td>basin plain</td>\n",
       "      <td>0</td>\n",
       "      <td>22.50602</td>\n",
       "      <td>0.60931</td>\n",
       "      <td>0.001000</td>\n",
       "      <td>0.0</td>\n",
       "      <td>0.001000</td>\n",
       "      <td>0.001000</td>\n",
       "      <td>0.520514</td>\n",
       "      <td>0.021978</td>\n",
       "      <td>[22.506, 21.8967]</td>\n",
       "      <td>[0.001, 0.001]</td>\n",
       "    </tr>\n",
       "    <tr>\n",
       "      <th>2</th>\n",
       "      <td>Marnoso 1</td>\n",
       "      <td>1</td>\n",
       "      <td>Marnoso-Arenacea</td>\n",
       "      <td>basin plain</td>\n",
       "      <td>0</td>\n",
       "      <td>21.89671</td>\n",
       "      <td>0.10463</td>\n",
       "      <td>0.125380</td>\n",
       "      <td>1.0</td>\n",
       "      <td>0.125380</td>\n",
       "      <td>0.125380</td>\n",
       "      <td>0.520514</td>\n",
       "      <td>0.021978</td>\n",
       "      <td>[21.8967, 21.7921]</td>\n",
       "      <td>[0.1254, 0.1254]</td>\n",
       "    </tr>\n",
       "    <tr>\n",
       "      <th>3</th>\n",
       "      <td>Marnoso 1</td>\n",
       "      <td>1</td>\n",
       "      <td>Marnoso-Arenacea</td>\n",
       "      <td>basin plain</td>\n",
       "      <td>0</td>\n",
       "      <td>21.79208</td>\n",
       "      <td>0.11694</td>\n",
       "      <td>0.001000</td>\n",
       "      <td>0.0</td>\n",
       "      <td>0.001000</td>\n",
       "      <td>0.001000</td>\n",
       "      <td>0.520514</td>\n",
       "      <td>0.021978</td>\n",
       "      <td>[21.7921, 21.6751]</td>\n",
       "      <td>[0.001, 0.001]</td>\n",
       "    </tr>\n",
       "    <tr>\n",
       "      <th>4</th>\n",
       "      <td>Marnoso 1</td>\n",
       "      <td>1</td>\n",
       "      <td>Marnoso-Arenacea</td>\n",
       "      <td>basin plain</td>\n",
       "      <td>0</td>\n",
       "      <td>21.67514</td>\n",
       "      <td>0.13232</td>\n",
       "      <td>0.134306</td>\n",
       "      <td>1.0</td>\n",
       "      <td>0.150073</td>\n",
       "      <td>0.160420</td>\n",
       "      <td>0.520514</td>\n",
       "      <td>0.021978</td>\n",
       "      <td>[21.6751, 21.6351, 21.5674, 21.5428]</td>\n",
       "      <td>[0.1343, 0.1447, 0.1604, 0.1604]</td>\n",
       "    </tr>\n",
       "  </tbody>\n",
       "</table>\n",
       "</div>"
      ],
      "text/plain": [
       "        name  count        collection          eod  eodnum      tops       th  \\\n",
       "0  Marnoso 1      1  Marnoso-Arenacea  basin plain       0  22.81684  0.31082   \n",
       "1  Marnoso 1      1  Marnoso-Arenacea  basin plain       0  22.50602  0.60931   \n",
       "2  Marnoso 1      1  Marnoso-Arenacea  basin plain       0  21.89671  0.10463   \n",
       "3  Marnoso 1      1  Marnoso-Arenacea  basin plain       0  21.79208  0.11694   \n",
       "4  Marnoso 1      1  Marnoso-Arenacea  basin plain       0  21.67514  0.13232   \n",
       "\n",
       "   gs_tops_mm  snd_shl  mean_gs_mm  max_gs_mm        ng        ar  \\\n",
       "0    0.115051      1.0    0.116073   0.117046  0.520514  0.021978   \n",
       "1    0.001000      0.0    0.001000   0.001000  0.520514  0.021978   \n",
       "2    0.125380      1.0    0.125380   0.125380  0.520514  0.021978   \n",
       "3    0.001000      0.0    0.001000   0.001000  0.520514  0.021978   \n",
       "4    0.134306      1.0    0.150073   0.160420  0.520514  0.021978   \n",
       "\n",
       "                                depth_m                     grain_size_mm  \n",
       "0    [22.8168, 22.703, 22.5337, 22.506]    [0.1151, 0.1157, 0.117, 0.117]  \n",
       "1                     [22.506, 21.8967]                    [0.001, 0.001]  \n",
       "2                    [21.8967, 21.7921]                  [0.1254, 0.1254]  \n",
       "3                    [21.7921, 21.6751]                    [0.001, 0.001]  \n",
       "4  [21.6751, 21.6351, 21.5674, 21.5428]  [0.1343, 0.1447, 0.1604, 0.1604]  "
      ]
     },
     "execution_count": 2,
     "metadata": {},
     "output_type": "execute_result"
    }
   ],
   "source": [
    "transforms = {c : utils.string2array_matlab for c in ['depth_m', 'grain_size_mm']}\n",
    "\n",
    "beds = pd.read_csv('/Users/zanejobe/Dropbox/My Mac (Zane-MacBook-Pro15-2077.local)/Desktop/data from litholog/AllBedsWithProfiles.csv', converters=transforms)\n",
    "beds.head()"
   ]
  },
  {
   "cell_type": "code",
   "execution_count": 3,
   "metadata": {},
   "outputs": [
    {
     "name": "stderr",
     "output_type": "stream",
     "text": [
      "/opt/anaconda3/lib/python3.8/site-packages/pandas/core/frame.py:3990: SettingWithCopyWarning: \n",
      "A value is trying to be set on a copy of a slice from a DataFrame\n",
      "\n",
      "See the caveats in the documentation: https://pandas.pydata.org/pandas-docs/stable/user_guide/indexing.html#returning-a-view-versus-a-copy\n",
      "  return super().drop(\n",
      "/opt/anaconda3/lib/python3.8/site-packages/pandas/core/generic.py:6746: SettingWithCopyWarning: \n",
      "A value is trying to be set on a copy of a slice from a DataFrame\n",
      "\n",
      "See the caveats in the documentation: https://pandas.pydata.org/pandas-docs/stable/user_guide/indexing.html#returning-a-view-versus-a-copy\n",
      "  self._update_inplace(new_data)\n"
     ]
    },
    {
     "data": {
      "text/plain": [
       "array(['Skoorsteenberg', 'Gulf of Mexico', 'Mount Messenger',\n",
       "       'Cerro Toro'], dtype=object)"
      ]
     },
     "execution_count": 3,
     "metadata": {},
     "output_type": "execute_result"
    }
   ],
   "source": [
    "name_list = ['Pukearuhue', \n",
    "             'Magnolia', \n",
    "             'Karoo krf1', \n",
    "             'Karoo krf2', \n",
    "             'Karoo krf3',\n",
    "             'Karoo krf4', \n",
    "             'Karoo krf5', \n",
    "             'Sierra del Toro dc1',\n",
    "             'Sierra del Toro dc2', \n",
    "             'Sierra del Toro flame', \n",
    "             'Sierra del Toro h2o',\n",
    "             'Sierra del Toro ssm', \n",
    "             'Sierra del Toro wc']\n",
    "\n",
    "demo_df = beds[beds.name.isin(name_list)]\n",
    "demo_df.drop(labels=['count','eod','eodnum'],axis=1,inplace=True)\n",
    "demo_df.collection.replace('Karoo','Skoorsteenberg',inplace=True)\n",
    "demo_df.collection.unique()"
   ]
  },
  {
   "cell_type": "code",
   "execution_count": 4,
   "metadata": {},
   "outputs": [],
   "source": [
    "demo_df.to_csv('working.csv',index=False)\n",
    "# After this export, I changed a few tops values to match thickness at the base of each log in Excel... "
   ]
  },
  {
   "cell_type": "markdown",
   "metadata": {},
   "source": [
    "## Create BedSequences"
   ]
  },
  {
   "cell_type": "code",
   "execution_count": 5,
   "metadata": {},
   "outputs": [],
   "source": [
    "# Columns shared by whole sequences (i.e., shared by an entire graphic log)\n",
    "METACOLS = ['name', 'collection', 'ng', 'ar']\n",
    "\n",
    "# Columns of bed-level data\n",
    "DATACOLS = ['th', 'gs_tops_mm', 'snd_shl', 'depth_m',\n",
    "            'gs_tops_mm', 'mean_gs_mm', 'max_gs_mm', 'grain_size_mm']\n",
    "\n",
    "# Convert to a list of `BedSequence`s\n",
    "seqs = []\n",
    "for name, seq_df in demo_df.groupby('name'):\n",
    "    seqs.append(\n",
    "        BedSequence.from_dataframe(\n",
    "            seq_df, \n",
    "            thickcol='th',\n",
    "            component_map=litholog.defaults.DEFAULT_COMPONENT_MAP,\n",
    "            metacols=METACOLS,\n",
    "            datacols=DATACOLS,\n",
    "        )\n",
    "    )\n",
    "\n",
    "testseq = seqs[0]"
   ]
  },
  {
   "cell_type": "code",
   "execution_count": 6,
   "metadata": {},
   "outputs": [],
   "source": [
    "# need to make a grain_size_psi column\n",
    "for bed in testseq:\n",
    "    bed.data['grain_size_psi'] = litholog.wentworth.gs2psi(bed.data['grain_size_mm'])"
   ]
  },
  {
   "cell_type": "code",
   "execution_count": 7,
   "metadata": {},
   "outputs": [
    {
     "data": {
      "text/plain": [
       "'elevation'"
      ]
     },
     "execution_count": 7,
     "metadata": {},
     "output_type": "execute_result"
    }
   ],
   "source": [
    "testseq.order"
   ]
  },
  {
   "cell_type": "code",
   "execution_count": 8,
   "metadata": {},
   "outputs": [
    {
     "data": {
      "image/png": "[encoded data removed]",
      "text/plain": [
       "<Figure size 108x1080 with 1 Axes>"
      ]
     },
     "metadata": {},
     "output_type": "display_data"
    }
   ],
   "source": [
    "testseq.plot()\n",
    "# White boxes for missing"
   ]
  },
  {
   "cell_type": "code",
   "execution_count": 9,
   "metadata": {},
   "outputs": [
    {
     "data": {
      "text/html": [
       "<table><tr><td style=\"width:2em; background-color:#DDDDDD\" rowspan=\"6\"></td><td><strong>top</strong></td><td>8.03951849975468</td></tr><tr><td><strong>primary</strong></td><td><table><tr><td><strong>lithology</strong></td><td>missing</td></tr></table></td></tr><tr><td><strong>summary</strong></td><td>0.17 m of missing</td></tr><tr><td><strong>description</strong></td><td></td></tr><tr><td><strong>data</strong></td><td><table><tr><td><strong>th</strong></td><td>0.165479621557918</td></tr><tr><td><strong>gs_tops_mm</strong></td><td>nan</td></tr><tr><td><strong>snd_shl</strong></td><td>nan</td></tr><tr><td><strong>depth_m</strong></td><td>[8.0395 7.874 ]</td></tr><tr><td><strong>mean_gs_mm</strong></td><td>nan</td></tr><tr><td><strong>max_gs_mm</strong></td><td>nan</td></tr><tr><td><strong>grain_size_mm</strong></td><td>[nan nan]</td></tr><tr><td><strong>grain_size_psi</strong></td><td>[nan nan]</td></tr></table></td></tr><tr><td><strong>base</strong></td><td>7.874038878196761</td></tr></table>"
      ],
      "text/plain": [
       "Interval({'data': {'th': 0.165479621557918, 'gs_tops_mm': nan, 'snd_shl': nan, 'depth_m': array([8.0395, 7.874 ]), 'mean_gs_mm': nan, 'max_gs_mm': nan, 'grain_size_mm': array([nan, nan]), 'grain_size_psi': array([nan, nan])}, 'top': Position({'middle': 8.03951849975468, 'units': 'm'}), 'base': Position({'middle': 7.874038878196761, 'units': 'm'}), 'description': '', 'components': [Component({'lithology': 'missing'})]})"
      ]
     },
     "execution_count": 9,
     "metadata": {},
     "output_type": "execute_result"
    }
   ],
   "source": [
    "testseq[51] # a missing interval"
   ]
  },
  {
   "cell_type": "code",
   "execution_count": 11,
   "metadata": {},
   "outputs": [
    {
     "data": {
      "image/png": "[encoded data removed]",
      "text/plain": [
       "<Figure size 216x1440 with 1 Axes>"
      ]
     },
     "metadata": {},
     "output_type": "display_data"
    }
   ],
   "source": [
    "fig, ax = plt.subplots(figsize=[3,20])\n",
    "\n",
    "testseq.plot(ax=ax,\n",
    "                   legend=litholog.defaults.litholegend,\n",
    "                   width_field='grain_size_psi',\n",
    "                   depth_field='depth_m',\n",
    "                   wentworth='fine'\n",
    "                  )\n",
    "\n",
    "ax.set_title(testseq.metadata['name']);\n",
    "\n",
    "# nothing at all plotted for missing - see around 7.5 m"
   ]
  },
  {
   "cell_type": "code",
   "execution_count": null,
   "metadata": {},
   "outputs": [],
   "source": []
  }
 ],
 "metadata": {
  "kernelspec": {
   "display_name": "Python 3",
   "language": "python",
   "name": "python3"
  },
  "language_info": {
   "codemirror_mode": {
    "name": "ipython",
    "version": 3
   },
   "file_extension": ".py",
   "mimetype": "text/x-python",
   "name": "python",
   "nbconvert_exporter": "python",
   "pygments_lexer": "ipython3",
   "version": "3.8.3"
  }
 },
 "nbformat": 4,
 "nbformat_minor": 2
}
