{
 "cells": [
  {
   "cell_type": "code",
   "execution_count": 1,
   "metadata": {},
   "outputs": [],
   "source": [
    "import collections\n",
    "import inspect\n",
    "\n",
    "import numpy as np\n",
    "import pandas as pd\n",
    "import matplotlib.pyplot as plt\n",
    "\n",
    "plt.style.use('ggplot')\n",
    "\n",
    "import graphiclog"
   ]
  },
  {
   "cell_type": "code",
   "execution_count": 2,
   "metadata": {},
   "outputs": [
    {
     "data": {
      "text/plain": [
       "('/home/ross/code/python/projects/graphiclog/graphiclog/__init__.py',\n",
       " ['Bed',\n",
       "  'BedSequence',\n",
       "  '__builtins__',\n",
       "  '__cached__',\n",
       "  '__doc__',\n",
       "  '__file__',\n",
       "  '__loader__',\n",
       "  '__name__',\n",
       "  '__package__',\n",
       "  '__path__',\n",
       "  '__spec__',\n",
       "  'bed',\n",
       "  'defaults',\n",
       "  'io',\n",
       "  'sequence',\n",
       "  'utils',\n",
       "  'wentworth'])"
      ]
     },
     "execution_count": 2,
     "metadata": {},
     "output_type": "execute_result"
    }
   ],
   "source": [
    "graphiclog.__file__, dir(graphiclog)"
   ]
  },
  {
   "cell_type": "code",
   "execution_count": 3,
   "metadata": {},
   "outputs": [
    {
     "data": {
      "image/png": "[encoded data removed]",
      "text/plain": [
       "<Figure size 432x288 with 4 Axes>"
      ]
     },
     "metadata": {},
     "output_type": "display_data"
    }
   ],
   "source": [
    "graphiclog.defaults.litholegend.plot()"
   ]
  },
  {
   "cell_type": "code",
   "execution_count": 4,
   "metadata": {},
   "outputs": [
    {
     "data": {
      "text/html": [
       "<div>\n",
       "<style scoped>\n",
       "    .dataframe tbody tr th:only-of-type {\n",
       "        vertical-align: middle;\n",
       "    }\n",
       "\n",
       "    .dataframe tbody tr th {\n",
       "        vertical-align: top;\n",
       "    }\n",
       "\n",
       "    .dataframe thead th {\n",
       "        text-align: right;\n",
       "    }\n",
       "</style>\n",
       "<table border=\"1\" class=\"dataframe\">\n",
       "  <thead>\n",
       "    <tr style=\"text-align: right;\">\n",
       "      <th></th>\n",
       "      <th>BedNumber</th>\n",
       "      <th>name</th>\n",
       "      <th>collection</th>\n",
       "      <th>tops</th>\n",
       "      <th>th</th>\n",
       "      <th>gs_tops</th>\n",
       "      <th>sand_shl</th>\n",
       "      <th>mean_gs</th>\n",
       "      <th>max_gs</th>\n",
       "      <th>grain_size_dia</th>\n",
       "      <th>grain_size_thick</th>\n",
       "    </tr>\n",
       "  </thead>\n",
       "  <tbody>\n",
       "    <tr>\n",
       "      <th>0</th>\n",
       "      <td>1</td>\n",
       "      <td>TestName</td>\n",
       "      <td>TestLoc</td>\n",
       "      <td>1</td>\n",
       "      <td>1.01</td>\n",
       "      <td>12.210394</td>\n",
       "      <td>1</td>\n",
       "      <td>0.323684</td>\n",
       "      <td>12.210394</td>\n",
       "      <td>0.00181474719529853,0.0331299265668441,0.09281...</td>\n",
       "      <td>0.02,0.2,0.4,0.6,0.8,0.99</td>\n",
       "    </tr>\n",
       "    <tr>\n",
       "      <th>1</th>\n",
       "      <td>2</td>\n",
       "      <td>TestName</td>\n",
       "      <td>TestLoc</td>\n",
       "      <td>2</td>\n",
       "      <td>1.00</td>\n",
       "      <td>34.016823</td>\n",
       "      <td>1</td>\n",
       "      <td>34.135964</td>\n",
       "      <td>35.151499</td>\n",
       "      <td>35.1514987409342,34.0168225429087,34.016822542...</td>\n",
       "      <td>1.02,1.2,1.4,1.6,1.8,1.98</td>\n",
       "    </tr>\n",
       "    <tr>\n",
       "      <th>2</th>\n",
       "      <td>4</td>\n",
       "      <td>TestName</td>\n",
       "      <td>TestLoc</td>\n",
       "      <td>4</td>\n",
       "      <td>1.00</td>\n",
       "      <td>0.746226</td>\n",
       "      <td>1</td>\n",
       "      <td>0.550163</td>\n",
       "      <td>0.761490</td>\n",
       "      <td>0.34830002054924,0.761490497453304,0.348300020...</td>\n",
       "      <td>3.02,3.2,3.4,3.6,3.8,3.99</td>\n",
       "    </tr>\n",
       "    <tr>\n",
       "      <th>3</th>\n",
       "      <td>5</td>\n",
       "      <td>TestName</td>\n",
       "      <td>TestLoc</td>\n",
       "      <td>5</td>\n",
       "      <td>1.00</td>\n",
       "      <td>0.001531</td>\n",
       "      <td>1</td>\n",
       "      <td>0.207285</td>\n",
       "      <td>0.746226</td>\n",
       "      <td>0.746226063574762,0.34830002054924,0.186802122...</td>\n",
       "      <td>4.02,4.2,4.4,4.6,4.8,4.98</td>\n",
       "    </tr>\n",
       "    <tr>\n",
       "      <th>4</th>\n",
       "      <td>6</td>\n",
       "      <td>TestName</td>\n",
       "      <td>TestLoc</td>\n",
       "      <td>6</td>\n",
       "      <td>1.00</td>\n",
       "      <td>0.187574</td>\n",
       "      <td>1</td>\n",
       "      <td>0.187045</td>\n",
       "      <td>0.187574</td>\n",
       "      <td>0.186802122027444,0.187574013849053,0.18757401...</td>\n",
       "      <td>5.02,5.2,5.4,5.6,5.8,5.98</td>\n",
       "    </tr>\n",
       "    <tr>\n",
       "      <th>5</th>\n",
       "      <td>7</td>\n",
       "      <td>TestName</td>\n",
       "      <td>TestLoc</td>\n",
       "      <td>7</td>\n",
       "      <td>1.00</td>\n",
       "      <td>33.386683</td>\n",
       "      <td>1</td>\n",
       "      <td>5.036898</td>\n",
       "      <td>33.386683</td>\n",
       "      <td>0.187574013849053,0.342917364390365,0.75480766...</td>\n",
       "      <td>6.01,6.2,6.4,6.6,6.8,6.98</td>\n",
       "    </tr>\n",
       "  </tbody>\n",
       "</table>\n",
       "</div>"
      ],
      "text/plain": [
       "   BedNumber      name collection  tops    th    gs_tops  sand_shl    mean_gs  \\\n",
       "0          1  TestName    TestLoc     1  1.01  12.210394         1   0.323684   \n",
       "1          2  TestName    TestLoc     2  1.00  34.016823         1  34.135964   \n",
       "2          4  TestName    TestLoc     4  1.00   0.746226         1   0.550163   \n",
       "3          5  TestName    TestLoc     5  1.00   0.001531         1   0.207285   \n",
       "4          6  TestName    TestLoc     6  1.00   0.187574         1   0.187045   \n",
       "5          7  TestName    TestLoc     7  1.00  33.386683         1   5.036898   \n",
       "\n",
       "      max_gs                                     grain_size_dia  \\\n",
       "0  12.210394  0.00181474719529853,0.0331299265668441,0.09281...   \n",
       "1  35.151499  35.1514987409342,34.0168225429087,34.016822542...   \n",
       "2   0.761490  0.34830002054924,0.761490497453304,0.348300020...   \n",
       "3   0.746226  0.746226063574762,0.34830002054924,0.186802122...   \n",
       "4   0.187574  0.186802122027444,0.187574013849053,0.18757401...   \n",
       "5  33.386683  0.187574013849053,0.342917364390365,0.75480766...   \n",
       "\n",
       "            grain_size_thick  \n",
       "0  0.02,0.2,0.4,0.6,0.8,0.99  \n",
       "1  1.02,1.2,1.4,1.6,1.8,1.98  \n",
       "2  3.02,3.2,3.4,3.6,3.8,3.99  \n",
       "3  4.02,4.2,4.4,4.6,4.8,4.98  \n",
       "4  5.02,5.2,5.4,5.6,5.8,5.98  \n",
       "5  6.01,6.2,6.4,6.6,6.8,6.98  "
      ]
     },
     "execution_count": 4,
     "metadata": {},
     "output_type": "execute_result"
    }
   ],
   "source": [
    "beds = pd.read_csv('../data/Export_StripLog2020-04-01.csv')\n",
    "beds"
   ]
  },
  {
   "cell_type": "code",
   "execution_count": 5,
   "metadata": {},
   "outputs": [],
   "source": [
    "# use string->array transforms\n",
    "transforms = {c : graphiclog.utils.string2array_matlab for c in ['grain_size_dia', 'grain_size_thick']}\n",
    "\n",
    "beds = pd.read_csv('../data/Export_StripLog2020-04-01.csv', converters=transforms)\n",
    "\n",
    "# add_psi column for plots\n",
    "beds['grain_size_psi'] = beds['grain_size_dia'].apply(graphiclog.wentworth.gs2psi)"
   ]
  },
  {
   "cell_type": "code",
   "execution_count": 6,
   "metadata": {},
   "outputs": [
    {
     "data": {
      "text/plain": [
       "{'name': 'TestName', 'collection': 'TestLoc'}"
      ]
     },
     "execution_count": 6,
     "metadata": {},
     "output_type": "execute_result"
    }
   ],
   "source": [
    "\n",
    "datacols = ['th', 'gs_tops', 'sand_shl', 'mean_gs', 'max_gs', \n",
    "            'grain_size_dia', 'grain_size_psi', 'grain_size_thick']\n",
    "\n",
    "metacols = ['name', 'collection']\n",
    "\n",
    "# default litho mapping uses `units='psi'`\n",
    "COMPONENT_MAP = ('mean_gs', lambda gs: graphiclog.defaults.gs2litho(gs, units='mm'))\n",
    "\n",
    "# NOTE: had to increase tolerance, ambiguous whether tops are depth or elevation?\n",
    "bed_seq = graphiclog.BedSequence.from_dataframe(beds, topcol='tops', thickcol='th',\n",
    "                                                component_map=COMPONENT_MAP,\n",
    "                                                datacols=datacols, \n",
    "                                                metacols=metacols, \n",
    "                                                tol=0.5)\n",
    "\n",
    "bed_seq.metadata"
   ]
  },
  {
   "cell_type": "code",
   "execution_count": 7,
   "metadata": {
    "scrolled": true
   },
   "outputs": [
    {
     "data": {
      "text/plain": [
       "(Position({'middle': -0.010000000000000009, 'units': 'm'}),\n",
       " Position({'middle': 7.0, 'units': 'm'}))"
      ]
     },
     "execution_count": 7,
     "metadata": {},
     "output_type": "execute_result"
    }
   ],
   "source": [
    "bed_seq.start, bed_seq.stop"
   ]
  },
  {
   "cell_type": "code",
   "execution_count": 8,
   "metadata": {},
   "outputs": [
    {
     "data": {
      "text/html": [
       "<table><tr><td style=\"width:2em; background-color:#DDDDDD\" rowspan=\"6\"></td><td><strong>top</strong></td><td>7.0</td></tr><tr><td><strong>primary</strong></td><td><table><tr><td><strong>lithology</strong></td><td>gravel</td></tr></table></td></tr><tr><td><strong>summary</strong></td><td>1.00 m of gravel</td></tr><tr><td><strong>description</strong></td><td></td></tr><tr><td><strong>data</strong></td><td><table><tr><td><strong>th</strong></td><td>1.0</td></tr><tr><td><strong>gs_tops</strong></td><td>33.3866832279516</td></tr><tr><td><strong>sand_shl</strong></td><td>1</td></tr><tr><td><strong>mean_gs</strong></td><td>5.03689789545743</td></tr><tr><td><strong>max_gs</strong></td><td>33.3866832279516</td></tr><tr><td><strong>grain_size_dia</strong></td><td>[ 0.18757401  0.34291736  0.75480766  1.49242997  3.48608163 33.38668323]</td></tr><tr><td><strong>grain_size_psi</strong></td><td>[-2.41446812 -1.54406713 -0.40581903  0.57766324  1.80160635  5.06120087]</td></tr><tr><td><strong>grain_size_thick</strong></td><td>[6.01 6.2  6.4  6.6  6.8  6.98]</td></tr></table></td></tr><tr><td><strong>base</strong></td><td>6.0</td></tr></table>"
      ],
      "text/plain": [
       "Interval({'data': {'th': 1.0, 'gs_tops': 33.3866832279516, 'sand_shl': 1, 'mean_gs': 5.03689789545743, 'max_gs': 33.3866832279516, 'grain_size_dia': array([ 0.18757401,  0.34291736,  0.75480766,  1.49242997,  3.48608163,\n",
       "       33.38668323]), 'grain_size_psi': array([-2.41446812, -1.54406713, -0.40581903,  0.57766324,  1.80160635,\n",
       "        5.06120087]), 'grain_size_thick': array([6.01, 6.2 , 6.4 , 6.6 , 6.8 , 6.98])}, 'top': Position({'middle': 7.0, 'units': 'm'}), 'base': Position({'middle': 6.0, 'units': 'm'}), 'description': '', 'components': [Component({'lithology': 'gravel'})]})"
      ]
     },
     "execution_count": 8,
     "metadata": {},
     "output_type": "execute_result"
    }
   ],
   "source": [
    "bed_seq[0]"
   ]
  },
  {
   "cell_type": "code",
   "execution_count": 9,
   "metadata": {},
   "outputs": [
    {
     "data": {
      "text/plain": [
       "'elevation'"
      ]
     },
     "execution_count": 9,
     "metadata": {},
     "output_type": "execute_result"
    }
   ],
   "source": [
    "bed_seq[0].order"
   ]
  },
  {
   "cell_type": "code",
   "execution_count": 11,
   "metadata": {
    "scrolled": false
   },
   "outputs": [
    {
     "data": {
      "image/png": "[encoded data removed]",
      "text/plain": [
       "<Figure size 216x2160 with 1 Axes>"
      ]
     },
     "metadata": {},
     "output_type": "display_data"
    }
   ],
   "source": [
    "bed_seq.plot(legend=graphiclog.defaults.litholegend, fig_width=3,\n",
    "             width_field='grain_size_psi', \n",
    "             depth_field='grain_size_thick',\n",
    "             wentworth='coarse')"
   ]
  }
 ],
 "metadata": {
  "kernelspec": {
   "display_name": "Python 3",
   "language": "python",
   "name": "python3"
  },
  "language_info": {
   "codemirror_mode": {
    "name": "ipython",
    "version": 3
   },
   "file_extension": ".py",
   "mimetype": "text/x-python",
   "name": "python",
   "nbconvert_exporter": "python",
   "pygments_lexer": "ipython3",
   "version": "3.7.4"
  }
 },
 "nbformat": 4,
 "nbformat_minor": 2
}
