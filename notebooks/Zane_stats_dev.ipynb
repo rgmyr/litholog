{
 "cells": [
  {
   "cell_type": "code",
   "execution_count": 2,
   "metadata": {},
   "outputs": [],
   "source": [
    "import collections\n",
    "import inspect\n",
    "\n",
    "import numpy as np\n",
    "import pandas as pd\n",
    "import matplotlib.pyplot as plt\n",
    "\n",
    "plt.style.use('ggplot')\n",
    "\n",
    "import graphiclog\n",
    "from graphiclog import utils, io"
   ]
  },
  {
   "cell_type": "code",
   "execution_count": 3,
   "metadata": {},
   "outputs": [
    {
     "data": {
      "text/plain": [
       "('/Users/zanejobe/opt/anaconda3/lib/python3.7/site-packages/graphiclog/__init__.py',\n",
       " ['Bed',\n",
       "  'BedSequence',\n",
       "  '__builtins__',\n",
       "  '__cached__',\n",
       "  '__doc__',\n",
       "  '__file__',\n",
       "  '__loader__',\n",
       "  '__name__',\n",
       "  '__package__',\n",
       "  '__path__',\n",
       "  '__spec__',\n",
       "  'bed',\n",
       "  'defaults',\n",
       "  'io',\n",
       "  'sequence',\n",
       "  'utils',\n",
       "  'wentworth'])"
      ]
     },
     "execution_count": 3,
     "metadata": {},
     "output_type": "execute_result"
    }
   ],
   "source": [
    "graphiclog.__file__, dir(graphiclog)"
   ]
  },
  {
   "cell_type": "code",
   "execution_count": 4,
   "metadata": {},
   "outputs": [
    {
     "data": {
      "image/png": "[encoded data removed]",
      "text/plain": [
       "<Figure size 432x288 with 5 Axes>"
      ]
     },
     "metadata": {
      "needs_background": "light"
     },
     "output_type": "display_data"
    }
   ],
   "source": [
    "graphiclog.defaults.litholegend.plot()"
   ]
  },
  {
   "cell_type": "markdown",
   "metadata": {},
   "source": [
    "## Import data and do some checks"
   ]
  },
  {
   "cell_type": "code",
   "execution_count": 5,
   "metadata": {
    "scrolled": true
   },
   "outputs": [
    {
     "data": {
      "text/html": [
       "<div>\n",
       "<style scoped>\n",
       "    .dataframe tbody tr th:only-of-type {\n",
       "        vertical-align: middle;\n",
       "    }\n",
       "\n",
       "    .dataframe tbody tr th {\n",
       "        vertical-align: top;\n",
       "    }\n",
       "\n",
       "    .dataframe thead th {\n",
       "        text-align: right;\n",
       "    }\n",
       "</style>\n",
       "<table border=\"1\" class=\"dataframe\">\n",
       "  <thead>\n",
       "    <tr style=\"text-align: right;\">\n",
       "      <th></th>\n",
       "      <th>name</th>\n",
       "      <th>count</th>\n",
       "      <th>collection</th>\n",
       "      <th>eod</th>\n",
       "      <th>eodnum</th>\n",
       "      <th>tops</th>\n",
       "      <th>th</th>\n",
       "      <th>bases</th>\n",
       "      <th>gs_tops_mm</th>\n",
       "      <th>gs_tops_psi</th>\n",
       "      <th>...</th>\n",
       "      <th>max_gs_mm</th>\n",
       "      <th>max_gs_psi</th>\n",
       "      <th>ng</th>\n",
       "      <th>ar</th>\n",
       "      <th>depth_m</th>\n",
       "      <th>rel_depth_m</th>\n",
       "      <th>grain_size_mm</th>\n",
       "      <th>grain_size_psi</th>\n",
       "      <th>missing_tops</th>\n",
       "      <th>missing_sample</th>\n",
       "    </tr>\n",
       "  </thead>\n",
       "  <tbody>\n",
       "    <tr>\n",
       "      <td>0</td>\n",
       "      <td>Marnoso 1</td>\n",
       "      <td>1</td>\n",
       "      <td>Marnoso-Arenacea</td>\n",
       "      <td>basin plain</td>\n",
       "      <td>0</td>\n",
       "      <td>22.81684</td>\n",
       "      <td>0.31082</td>\n",
       "      <td>22.50602</td>\n",
       "      <td>0.115051</td>\n",
       "      <td>-3.1197</td>\n",
       "      <td>...</td>\n",
       "      <td>0.117046</td>\n",
       "      <td>-3.0948</td>\n",
       "      <td>0.520514</td>\n",
       "      <td>0.021978</td>\n",
       "      <td>[22.8168, 22.703, 22.5337, 22.506]</td>\n",
       "      <td>[0.     0.1138 0.2831 0.3108]</td>\n",
       "      <td>[0.1151, 0.1157, 0.117, 0.117]</td>\n",
       "      <td>[-3.119, -3.1115, -3.0954, -3.0954]</td>\n",
       "      <td>0.0</td>\n",
       "      <td>0.0</td>\n",
       "    </tr>\n",
       "    <tr>\n",
       "      <td>1</td>\n",
       "      <td>Marnoso 1</td>\n",
       "      <td>1</td>\n",
       "      <td>Marnoso-Arenacea</td>\n",
       "      <td>basin plain</td>\n",
       "      <td>0</td>\n",
       "      <td>22.50602</td>\n",
       "      <td>0.60931</td>\n",
       "      <td>21.89671</td>\n",
       "      <td>0.001000</td>\n",
       "      <td>-9.9658</td>\n",
       "      <td>...</td>\n",
       "      <td>0.001000</td>\n",
       "      <td>-9.9658</td>\n",
       "      <td>0.520514</td>\n",
       "      <td>0.021978</td>\n",
       "      <td>[22.506, 21.8967]</td>\n",
       "      <td>[0.     0.6093]</td>\n",
       "      <td>[0.001, 0.001]</td>\n",
       "      <td>[-9.9658, -9.9658]</td>\n",
       "      <td>0.0</td>\n",
       "      <td>0.0</td>\n",
       "    </tr>\n",
       "    <tr>\n",
       "      <td>2</td>\n",
       "      <td>Marnoso 1</td>\n",
       "      <td>1</td>\n",
       "      <td>Marnoso-Arenacea</td>\n",
       "      <td>basin plain</td>\n",
       "      <td>0</td>\n",
       "      <td>21.89671</td>\n",
       "      <td>0.10463</td>\n",
       "      <td>21.79208</td>\n",
       "      <td>0.125380</td>\n",
       "      <td>-2.9956</td>\n",
       "      <td>...</td>\n",
       "      <td>0.125380</td>\n",
       "      <td>-2.9956</td>\n",
       "      <td>0.520514</td>\n",
       "      <td>0.021978</td>\n",
       "      <td>[21.8967, 21.7921]</td>\n",
       "      <td>[0.     0.1046]</td>\n",
       "      <td>[0.1254, 0.1254]</td>\n",
       "      <td>[-2.9954, -2.9954]</td>\n",
       "      <td>0.0</td>\n",
       "      <td>0.0</td>\n",
       "    </tr>\n",
       "    <tr>\n",
       "      <td>3</td>\n",
       "      <td>Marnoso 1</td>\n",
       "      <td>1</td>\n",
       "      <td>Marnoso-Arenacea</td>\n",
       "      <td>basin plain</td>\n",
       "      <td>0</td>\n",
       "      <td>21.79208</td>\n",
       "      <td>0.11694</td>\n",
       "      <td>21.67514</td>\n",
       "      <td>0.001000</td>\n",
       "      <td>-9.9658</td>\n",
       "      <td>...</td>\n",
       "      <td>0.001000</td>\n",
       "      <td>-9.9658</td>\n",
       "      <td>0.520514</td>\n",
       "      <td>0.021978</td>\n",
       "      <td>[21.7921, 21.6751]</td>\n",
       "      <td>[0.    0.117]</td>\n",
       "      <td>[0.001, 0.001]</td>\n",
       "      <td>[-9.9658, -9.9658]</td>\n",
       "      <td>0.0</td>\n",
       "      <td>0.0</td>\n",
       "    </tr>\n",
       "    <tr>\n",
       "      <td>4</td>\n",
       "      <td>Marnoso 1</td>\n",
       "      <td>1</td>\n",
       "      <td>Marnoso-Arenacea</td>\n",
       "      <td>basin plain</td>\n",
       "      <td>0</td>\n",
       "      <td>21.67514</td>\n",
       "      <td>0.13232</td>\n",
       "      <td>21.54282</td>\n",
       "      <td>0.134306</td>\n",
       "      <td>-2.8964</td>\n",
       "      <td>...</td>\n",
       "      <td>0.160420</td>\n",
       "      <td>-2.6401</td>\n",
       "      <td>0.520514</td>\n",
       "      <td>0.021978</td>\n",
       "      <td>[21.6751, 21.6351, 21.5674, 21.5428]</td>\n",
       "      <td>[0.     0.04   0.1077 0.1323]</td>\n",
       "      <td>[0.1343, 0.1447, 0.1604, 0.1604]</td>\n",
       "      <td>[-2.8965, -2.7889, -2.6403, -2.6403]</td>\n",
       "      <td>0.0</td>\n",
       "      <td>0.0</td>\n",
       "    </tr>\n",
       "  </tbody>\n",
       "</table>\n",
       "<p>5 rows × 25 columns</p>\n",
       "</div>"
      ],
      "text/plain": [
       "        name  count        collection          eod  eodnum      tops       th  \\\n",
       "0  Marnoso 1      1  Marnoso-Arenacea  basin plain       0  22.81684  0.31082   \n",
       "1  Marnoso 1      1  Marnoso-Arenacea  basin plain       0  22.50602  0.60931   \n",
       "2  Marnoso 1      1  Marnoso-Arenacea  basin plain       0  21.89671  0.10463   \n",
       "3  Marnoso 1      1  Marnoso-Arenacea  basin plain       0  21.79208  0.11694   \n",
       "4  Marnoso 1      1  Marnoso-Arenacea  basin plain       0  21.67514  0.13232   \n",
       "\n",
       "      bases  gs_tops_mm  gs_tops_psi  ...  max_gs_mm  max_gs_psi        ng  \\\n",
       "0  22.50602    0.115051      -3.1197  ...   0.117046     -3.0948  0.520514   \n",
       "1  21.89671    0.001000      -9.9658  ...   0.001000     -9.9658  0.520514   \n",
       "2  21.79208    0.125380      -2.9956  ...   0.125380     -2.9956  0.520514   \n",
       "3  21.67514    0.001000      -9.9658  ...   0.001000     -9.9658  0.520514   \n",
       "4  21.54282    0.134306      -2.8964  ...   0.160420     -2.6401  0.520514   \n",
       "\n",
       "         ar                               depth_m  \\\n",
       "0  0.021978    [22.8168, 22.703, 22.5337, 22.506]   \n",
       "1  0.021978                     [22.506, 21.8967]   \n",
       "2  0.021978                    [21.8967, 21.7921]   \n",
       "3  0.021978                    [21.7921, 21.6751]   \n",
       "4  0.021978  [21.6751, 21.6351, 21.5674, 21.5428]   \n",
       "\n",
       "                     rel_depth_m                     grain_size_mm  \\\n",
       "0  [0.     0.1138 0.2831 0.3108]    [0.1151, 0.1157, 0.117, 0.117]   \n",
       "1                [0.     0.6093]                    [0.001, 0.001]   \n",
       "2                [0.     0.1046]                  [0.1254, 0.1254]   \n",
       "3                  [0.    0.117]                    [0.001, 0.001]   \n",
       "4  [0.     0.04   0.1077 0.1323]  [0.1343, 0.1447, 0.1604, 0.1604]   \n",
       "\n",
       "                         grain_size_psi  missing_tops missing_sample  \n",
       "0   [-3.119, -3.1115, -3.0954, -3.0954]           0.0            0.0  \n",
       "1                    [-9.9658, -9.9658]           0.0            0.0  \n",
       "2                    [-2.9954, -2.9954]           0.0            0.0  \n",
       "3                    [-9.9658, -9.9658]           0.0            0.0  \n",
       "4  [-2.8965, -2.7889, -2.6403, -2.6403]           0.0            0.0  \n",
       "\n",
       "[5 rows x 25 columns]"
      ]
     },
     "execution_count": 5,
     "metadata": {},
     "output_type": "execute_result"
    }
   ],
   "source": [
    "transforms = {c : graphiclog.utils.string2array_pandas for c in ['depth_m', 'grain_size_mm', 'grain_size_psi']}\n",
    "\n",
    "beds = pd.read_csv('../data/AllBedsWithProfiles_CLEAN.csv', converters=transforms)\n",
    "beds.head()"
   ]
  },
  {
   "cell_type": "code",
   "execution_count": 6,
   "metadata": {},
   "outputs": [
    {
     "data": {
      "text/html": [
       "<div>\n",
       "<style scoped>\n",
       "    .dataframe tbody tr th:only-of-type {\n",
       "        vertical-align: middle;\n",
       "    }\n",
       "\n",
       "    .dataframe tbody tr th {\n",
       "        vertical-align: top;\n",
       "    }\n",
       "\n",
       "    .dataframe thead th {\n",
       "        text-align: right;\n",
       "    }\n",
       "</style>\n",
       "<table border=\"1\" class=\"dataframe\">\n",
       "  <thead>\n",
       "    <tr style=\"text-align: right;\">\n",
       "      <th></th>\n",
       "      <th>name</th>\n",
       "      <th>count</th>\n",
       "      <th>collection</th>\n",
       "      <th>eod</th>\n",
       "      <th>eodnum</th>\n",
       "      <th>tops</th>\n",
       "      <th>th</th>\n",
       "      <th>bases</th>\n",
       "      <th>gs_tops_mm</th>\n",
       "      <th>gs_tops_psi</th>\n",
       "      <th>...</th>\n",
       "      <th>max_gs_mm</th>\n",
       "      <th>max_gs_psi</th>\n",
       "      <th>ng</th>\n",
       "      <th>ar</th>\n",
       "      <th>depth_m</th>\n",
       "      <th>rel_depth_m</th>\n",
       "      <th>grain_size_mm</th>\n",
       "      <th>grain_size_psi</th>\n",
       "      <th>missing_tops</th>\n",
       "      <th>missing_sample</th>\n",
       "    </tr>\n",
       "  </thead>\n",
       "  <tbody>\n",
       "  </tbody>\n",
       "</table>\n",
       "<p>0 rows × 25 columns</p>\n",
       "</div>"
      ],
      "text/plain": [
       "Empty DataFrame\n",
       "Columns: [name, count, collection, eod, eodnum, tops, th, bases, gs_tops_mm, gs_tops_psi, snd_shl, snd, shl, mean_gs_mm, mean_gs_psi, max_gs_mm, max_gs_psi, ng, ar, depth_m, rel_depth_m, grain_size_mm, grain_size_psi, missing_tops, missing_sample]\n",
       "Index: []\n",
       "\n",
       "[0 rows x 25 columns]"
      ]
     },
     "execution_count": 6,
     "metadata": {},
     "output_type": "execute_result"
    }
   ],
   "source": [
    "beds[beds.depth_m.apply(utils.safelen) != beds.grain_size_mm.apply(utils.safelen)]"
   ]
  },
  {
   "cell_type": "code",
   "execution_count": 7,
   "metadata": {},
   "outputs": [
    {
     "data": {
      "text/plain": [
       "(0.0, 0.0)"
      ]
     },
     "execution_count": 7,
     "metadata": {},
     "output_type": "execute_result"
    }
   ],
   "source": [
    "# check for zero thickness\n",
    "beds[beds.gs_tops_mm.isnull()].th.sum(), beds[beds.snd_shl.isnull()].th.sum()"
   ]
  },
  {
   "cell_type": "code",
   "execution_count": 8,
   "metadata": {},
   "outputs": [
    {
     "name": "stderr",
     "output_type": "stream",
     "text": [
      "/Users/zanejobe/opt/anaconda3/lib/python3.7/site-packages/pandas/core/indexing.py:494: SettingWithCopyWarning: \n",
      "A value is trying to be set on a copy of a slice from a DataFrame.\n",
      "Try using .loc[row_indexer,col_indexer] = value instead\n",
      "\n",
      "See the caveats in the documentation: http://pandas.pydata.org/pandas-docs/stable/user_guide/indexing.html#returning-a-view-versus-a-copy\n",
      "  self.obj[item] = s\n"
     ]
    },
    {
     "data": {
      "text/plain": [
       "({'has_null': [], 'th_mismatch': [], 'samples_mismatch': []},\n",
       " {'has_null': 0, 'th_mismatch': 0, 'samples_mismatch': 0})"
      ]
     },
     "execution_count": 8,
     "metadata": {},
     "output_type": "execute_result"
    }
   ],
   "source": [
    "# check for other wierdness\n",
    "weird = {problem : [] for problem in ['has_null', 'th_mismatch', 'samples_mismatch']}\n",
    "\n",
    "for name, seq in beds.groupby('count'):\n",
    "    \n",
    "    if seq.isnull().any().any():\n",
    "        weird['has_null'].append(name)\n",
    "    \n",
    "    _, elev_good = io.check_thicknesses(seq, 'tops', 'th', 'elevation')\n",
    "    _, depth_good = io.check_thicknesses(seq, 'tops', 'th', 'depth')\n",
    "    if not (elev_good or depth_good):\n",
    "        weird['th_mismatch'].append(name)\n",
    "        \n",
    "    if not io.check_samples(seq, 'depth_m', 'grain_size_mm'):\n",
    "        weird['samples_mismatch'].append(name)\n",
    "        \n",
    "weird, {k : len(v) for k, v in weird.items()}"
   ]
  },
  {
   "cell_type": "code",
   "execution_count": 9,
   "metadata": {
    "scrolled": false
   },
   "outputs": [
    {
     "data": {
      "text/plain": [
       "{'has_null': 0, 'th_mismatch': 0, 'samples_mismatch': 0}"
      ]
     },
     "execution_count": 9,
     "metadata": {},
     "output_type": "execute_result"
    }
   ],
   "source": [
    "{k : len(v) for k, v in weird.items()}"
   ]
  },
  {
   "cell_type": "markdown",
   "metadata": {},
   "source": [
    "## Some simple stats"
   ]
  },
  {
   "cell_type": "code",
   "execution_count": 10,
   "metadata": {},
   "outputs": [
    {
     "data": {
      "text/plain": [
       "1.0    28918\n",
       "0.0    27997\n",
       "Name: snd_shl, dtype: int64"
      ]
     },
     "execution_count": 10,
     "metadata": {},
     "output_type": "execute_result"
    }
   ],
   "source": [
    "# number of sand (1) and mud (0) beds\n",
    "beds.snd_shl.value_counts()"
   ]
  },
  {
   "cell_type": "code",
   "execution_count": 11,
   "metadata": {},
   "outputs": [
    {
     "name": "stdout",
     "output_type": "stream",
     "text": [
      "total mud th 6994.021388571157 m\n",
      "average mud th 0.24981324386795337 m\n",
      " \n",
      "total sand th  12742.218893650996 m\n",
      "average sand th 0.4406327855885969 m\n"
     ]
    }
   ],
   "source": [
    "print('total mud th', beds[beds.snd_shl == 0].th.sum(),'m')\n",
    "print('average mud th',beds[beds.snd_shl == 0].th.mean(),'m')\n",
    "\n",
    "print(' ')\n",
    "\n",
    "print('total sand th ', beds[beds.snd_shl == 1].th.sum(),'m')\n",
    "print('average sand th',beds[beds.snd_shl == 1].th.mean(),'m')"
   ]
  },
  {
   "cell_type": "code",
   "execution_count": 12,
   "metadata": {},
   "outputs": [
    {
     "name": "stdout",
     "output_type": "stream",
     "text": [
      "average log length by environment {'basin plain': 27.076829050012044, 'fan': 33.39089495971465, 'levee': 15.039543988376764, 'slopechannel': 80.6872487607637}\n"
     ]
    }
   ],
   "source": [
    "count = {eod : 0 for eod in beds.eod.unique()}\n",
    "meters = {eod : 0 for eod in beds.eod.unique()}\n",
    "\n",
    "for _, grp in beds.groupby('count'):\n",
    "    count[grp['eod'].values[0]] += 1\n",
    "    meters[grp['eod'].values[0]] += grp.th.sum()\n",
    "    \n",
    "avgs = {k : meters[k] / count[k] for k in count.keys()}\n",
    "print('average log length by environment',avgs)"
   ]
  },
  {
   "cell_type": "markdown",
   "metadata": {},
   "source": [
    "## Make a simple plot"
   ]
  },
  {
   "cell_type": "code",
   "execution_count": 47,
   "metadata": {
    "scrolled": false
   },
   "outputs": [
    {
     "data": {
      "text/plain": [
       "Index(['name', 'count', 'collection', 'eod', 'eodnum', 'tops', 'th', 'bases',\n",
       "       'gs_tops_mm', 'gs_tops_psi', 'snd_shl', 'snd', 'shl', 'mean_gs_mm',\n",
       "       'mean_gs_psi', 'max_gs_mm', 'max_gs_psi', 'ng', 'ar', 'depth_m',\n",
       "       'rel_depth_m', 'grain_size_mm', 'grain_size_psi', 'missing_tops',\n",
       "       'missing_sample'],\n",
       "      dtype='object')"
      ]
     },
     "execution_count": 47,
     "metadata": {},
     "output_type": "execute_result"
    }
   ],
   "source": [
    "test_log.keys()"
   ]
  },
  {
   "cell_type": "code",
   "execution_count": 49,
   "metadata": {},
   "outputs": [
    {
     "data": {
      "text/plain": [
       "Striplog(91 Intervals, start=0.0, stop=22.81684)"
      ]
     },
     "execution_count": 49,
     "metadata": {},
     "output_type": "execute_result"
    }
   ],
   "source": [
    "datacols = ['th', 'gs_tops_psi', 'snd_shl', 'mean_gs_psi', 'max_gs_psi']\n",
    "\n",
    "\n",
    "\n",
    "test_log = beds[beds['name'] == 'Marnoso 1'] # this is the first marnoso log, count is the matlab output\n",
    "test_seq = graphiclog.BedSequence.from_dataframe(test_log, topcol='tops', basecol='bases'\n",
    "                                                , datacols=datacols)\n",
    "test_seq"
   ]
  },
  {
   "cell_type": "code",
   "execution_count": 50,
   "metadata": {},
   "outputs": [
    {
     "data": {
      "text/html": [
       "<table><tr><td style=\"width:2em; background-color:#DDDDDD\" rowspan=\"6\"></td><td><strong>top</strong></td><td>22.81684</td></tr><tr><td><strong>primary</strong></td><td>None</td></tr><tr><td><strong>summary</strong></td><td>None</td></tr><tr><td><strong>description</strong></td><td></td></tr><tr><td><strong>data</strong></td><td><table><tr><td><strong>th</strong></td><td>0.31082</td></tr><tr><td><strong>gs_tops_psi</strong></td><td>-3.1197</td></tr><tr><td><strong>snd_shl</strong></td><td>1.0</td></tr><tr><td><strong>mean_gs_psi</strong></td><td>-3.1069</td></tr><tr><td><strong>max_gs_psi</strong></td><td>-3.0948</td></tr></table></td></tr><tr><td><strong>base</strong></td><td>22.50602</td></tr></table>"
      ],
      "text/plain": [
       "Interval({'data': {'th': 0.31082, 'gs_tops_psi': -3.1197, 'snd_shl': 1.0, 'mean_gs_psi': -3.1069, 'max_gs_psi': -3.0948}, 'top': Position({'middle': 22.81684, 'units': 'm'}), 'base': Position({'middle': 22.50602, 'units': 'm'}), 'description': '', 'components': []})"
      ]
     },
     "execution_count": 50,
     "metadata": {},
     "output_type": "execute_result"
    }
   ],
   "source": [
    "test_seq[0]\n",
    "#test_seq.plot(width_field=)"
   ]
  },
  {
   "cell_type": "code",
   "execution_count": 52,
   "metadata": {},
   "outputs": [
    {
     "ename": "UnboundLocalError",
     "evalue": "local variable 'min_width' referenced before assignment",
     "output_type": "error",
     "traceback": [
      "\u001b[0;31m---------------------------------------------------------------------------\u001b[0m",
      "\u001b[0;31mUnboundLocalError\u001b[0m                         Traceback (most recent call last)",
      "\u001b[0;32m<ipython-input-52-82457ac5fc59>\u001b[0m in \u001b[0;36m<module>\u001b[0;34m\u001b[0m\n\u001b[0;32m----> 1\u001b[0;31m \u001b[0mtest_seq\u001b[0m\u001b[0;34m.\u001b[0m\u001b[0mplot\u001b[0m\u001b[0;34m(\u001b[0m\u001b[0mmin_width\u001b[0m\u001b[0;34m=\u001b[0m\u001b[0;34m-\u001b[0m\u001b[0;36m8\u001b[0m\u001b[0;34m)\u001b[0m\u001b[0;34m\u001b[0m\u001b[0;34m\u001b[0m\u001b[0m\n\u001b[0m",
      "\u001b[0;32m~/opt/anaconda3/lib/python3.7/site-packages/graphiclog/sequence.py\u001b[0m in \u001b[0;36mplot\u001b[0;34m(self, legend, fig_width, aspect, width_field, depth_field, wentworth, ax, **kwargs)\u001b[0m\n\u001b[1;32m    247\u001b[0m         \u001b[0;32mfor\u001b[0m \u001b[0mbed\u001b[0m \u001b[0;32min\u001b[0m \u001b[0mself\u001b[0m\u001b[0;34m:\u001b[0m\u001b[0;34m\u001b[0m\u001b[0;34m\u001b[0m\u001b[0m\n\u001b[1;32m    248\u001b[0m             ax.add_patch(bed.as_patch(legend, width_field, depth_field,\n\u001b[0;32m--> 249\u001b[0;31m                                       min_width, max_width, **kwargs))\n\u001b[0m\u001b[1;32m    250\u001b[0m \u001b[0;34m\u001b[0m\u001b[0m\n\u001b[1;32m    251\u001b[0m         \u001b[0;32mif\u001b[0m \u001b[0mself\u001b[0m\u001b[0;34m.\u001b[0m\u001b[0morder\u001b[0m \u001b[0;32mis\u001b[0m \u001b[0;34m'depth'\u001b[0m\u001b[0;34m:\u001b[0m\u001b[0;34m\u001b[0m\u001b[0;34m\u001b[0m\u001b[0m\n",
      "\u001b[0;31mUnboundLocalError\u001b[0m: local variable 'min_width' referenced before assignment"
     ]
    },
    {
     "data": {
      "image/png": "[encoded data removed]",
      "text/plain": [
       "<Figure size 108x1080 with 1 Axes>"
      ]
     },
     "metadata": {
      "needs_background": "light"
     },
     "output_type": "display_data"
    }
   ],
   "source": [
    "test_seq.plot(min_width)"
   ]
  },
  {
   "cell_type": "code",
   "execution_count": null,
   "metadata": {},
   "outputs": [],
   "source": []
  }
 ],
 "metadata": {
  "kernelspec": {
   "display_name": "Python 3",
   "language": "python",
   "name": "python3"
  },
  "language_info": {
   "codemirror_mode": {
    "name": "ipython",
    "version": 3
   },
   "file_extension": ".py",
   "mimetype": "text/x-python",
   "name": "python",
   "nbconvert_exporter": "python",
   "pygments_lexer": "ipython3",
   "version": "3.7.4"
  }
 },
 "nbformat": 4,
 "nbformat_minor": 2
}
