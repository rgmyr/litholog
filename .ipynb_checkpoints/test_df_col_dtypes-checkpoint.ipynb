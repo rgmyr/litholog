{
 "cells": [
  {
   "cell_type": "code",
   "execution_count": 5,
   "metadata": {},
   "outputs": [],
   "source": [
    "import pandas as pd\n",
    "import numpy as np"
   ]
  },
  {
   "cell_type": "code",
   "execution_count": 17,
   "metadata": {},
   "outputs": [
    {
     "data": {
      "text/html": [
       "<div>\n",
       "<style scoped>\n",
       "    .dataframe tbody tr th:only-of-type {\n",
       "        vertical-align: middle;\n",
       "    }\n",
       "\n",
       "    .dataframe tbody tr th {\n",
       "        vertical-align: top;\n",
       "    }\n",
       "\n",
       "    .dataframe thead th {\n",
       "        text-align: right;\n",
       "    }\n",
       "</style>\n",
       "<table border=\"1\" class=\"dataframe\">\n",
       "  <thead>\n",
       "    <tr style=\"text-align: right;\">\n",
       "      <th></th>\n",
       "      <th>Unnamed: 0</th>\n",
       "      <th>name</th>\n",
       "      <th>float1</th>\n",
       "      <th>list1</th>\n",
       "      <th>blank</th>\n",
       "      <th>int1</th>\n",
       "      <th>array1</th>\n",
       "      <th>tuple1</th>\n",
       "    </tr>\n",
       "  </thead>\n",
       "  <tbody>\n",
       "    <tr>\n",
       "      <th>0</th>\n",
       "      <td>0</td>\n",
       "      <td>test1</td>\n",
       "      <td>1.1</td>\n",
       "      <td>[1.1, 2.2, 3.3]</td>\n",
       "      <td>0.0</td>\n",
       "      <td>0</td>\n",
       "      <td>[1.1 2.2 3.3]</td>\n",
       "      <td>(0.0, 0.0, 0.0)</td>\n",
       "    </tr>\n",
       "    <tr>\n",
       "      <th>1</th>\n",
       "      <td>1</td>\n",
       "      <td>test2</td>\n",
       "      <td>2.1</td>\n",
       "      <td>[2.2, 4.4, 6.6]</td>\n",
       "      <td>0.0</td>\n",
       "      <td>1</td>\n",
       "      <td>[2.2 4.4 6.6]</td>\n",
       "      <td>(2.2, 4.4, 6.6)</td>\n",
       "    </tr>\n",
       "    <tr>\n",
       "      <th>2</th>\n",
       "      <td>2</td>\n",
       "      <td>test3</td>\n",
       "      <td>3.0</td>\n",
       "      <td>[4.4, 8.8, 13.2]</td>\n",
       "      <td>0.0</td>\n",
       "      <td>2</td>\n",
       "      <td>[ 4.4  8.8 13.2]</td>\n",
       "      <td>(4.4, 8.8, 13.2)</td>\n",
       "    </tr>\n",
       "    <tr>\n",
       "      <th>3</th>\n",
       "      <td>3</td>\n",
       "      <td>test4</td>\n",
       "      <td>4.0</td>\n",
       "      <td>[8.8, 17.6, 26.4]</td>\n",
       "      <td>0.0</td>\n",
       "      <td>0</td>\n",
       "      <td>[ 8.8 17.6 26.4]</td>\n",
       "      <td>(6.6000000000000005, 13.200000000000001, 19.79...</td>\n",
       "    </tr>\n",
       "  </tbody>\n",
       "</table>\n",
       "</div>"
      ],
      "text/plain": [
       "   Unnamed: 0   name  float1              list1  blank  int1  \\\n",
       "0           0  test1     1.1    [1.1, 2.2, 3.3]    0.0     0   \n",
       "1           1  test2     2.1    [2.2, 4.4, 6.6]    0.0     1   \n",
       "2           2  test3     3.0   [4.4, 8.8, 13.2]    0.0     2   \n",
       "3           3  test4     4.0  [8.8, 17.6, 26.4]    0.0     0   \n",
       "\n",
       "             array1                                             tuple1  \n",
       "0     [1.1 2.2 3.3]                                    (0.0, 0.0, 0.0)  \n",
       "1     [2.2 4.4 6.6]                                    (2.2, 4.4, 6.6)  \n",
       "2  [ 4.4  8.8 13.2]                                   (4.4, 8.8, 13.2)  \n",
       "3  [ 8.8 17.6 26.4]  (6.6000000000000005, 13.200000000000001, 19.79...  "
      ]
     },
     "execution_count": 17,
     "metadata": {},
     "output_type": "execute_result"
    }
   ],
   "source": [
    "# create dataframe\n",
    "df = pd.DataFrame(np.zeros((4,7)),columns=['name','float1','list1','blank','int1','array1', 'tuple1'])\n",
    "\n",
    "# make sure all types are objects\n",
    "df = df.astype('object') \n",
    "\n",
    "# modify cells\n",
    "\n",
    "df['name'][0] = 'test1'\n",
    "df['name'][1] = 'test2'\n",
    "df['name'][2] = 'test3'\n",
    "df['name'][3] = 'test4'\n",
    "\n",
    "df['float1'][0] = np.float(1.1)\n",
    "df['float1'][1] = np.float(2.1)\n",
    "df['float1'][2] = np.float(3)\n",
    "df['float1'][3] = np.float(4)\n",
    "\n",
    "df['list1'][0]=[1.1,2.2,3.3]\n",
    "df['list1'][1] = [2*x for x in df['list1'][0]] # list comprehension\n",
    "df['list1'][2] = [2*x for x in df['list1'][1]]\n",
    "df['list1'][3] = [2*x for x in df['list1'][2]]\n",
    "\n",
    "# d is left blank to see what it looks like\n",
    "\n",
    "df['int1'][0]=np.int(0)\n",
    "df['int1'][1]=np.int(1)\n",
    "df['int1'][2]=np.int(2)\n",
    "df['int1'][3]=np.int(0)\n",
    "\n",
    "z=[1.1,2.2,3.3]\n",
    "df['array1'][0]=np.array(z)\n",
    "df['array1'][1] = 2*df['array1'][0]\n",
    "df['array1'][2] = 2*df['array1'][1]\n",
    "df['array1'][3] = 2*df['array1'][2]\n",
    "\n",
    "z = (1.1, 2.2, 3.3)\n",
    "for i in range(4):\n",
    "    df['tuple1'][i] = tuple(2*i*x for x in z)\n",
    "\n",
    "# %% export to csv\n",
    "df.to_csv('testT.csv')\n",
    "\n",
    "# %% re-import to see if it works\n",
    "df2 = pd.read_csv('testT.csv')\n",
    "df2"
   ]
  },
  {
   "cell_type": "code",
   "execution_count": 30,
   "metadata": {},
   "outputs": [
    {
     "data": {
      "text/plain": [
       "0      [1.1, 2.2, 3.3]\n",
       "1      [2.2, 4.4, 6.6]\n",
       "2     [4.4, 8.8, 13.2]\n",
       "3    [8.8, 17.6, 26.4]\n",
       "Name: list1, dtype: object"
      ]
     },
     "execution_count": 30,
     "metadata": {},
     "output_type": "execute_result"
    }
   ],
   "source": [
    "df2.list1.apply(lambda s: [float(x) for x in s[1:-1].split(', ')])"
   ]
  },
  {
   "cell_type": "code",
   "execution_count": 29,
   "metadata": {},
   "outputs": [
    {
     "data": {
      "text/plain": [
       "0      [1.1, 2.2, 3.3]\n",
       "1      [2.2, 4.4, 6.6]\n",
       "2     [4.4, 8.8, 13.2]\n",
       "3    [8.8, 17.6, 26.4]\n",
       "Name: array1, dtype: object"
      ]
     },
     "execution_count": 29,
     "metadata": {},
     "output_type": "execute_result"
    }
   ],
   "source": [
    "df2.array1.apply(lambda s: np.fromstring(s[1:-1], sep=' '))"
   ]
  },
  {
   "cell_type": "code",
   "execution_count": 34,
   "metadata": {},
   "outputs": [
    {
     "data": {
      "text/plain": [
       "'string _ here'"
      ]
     },
     "execution_count": 34,
     "metadata": {},
     "output_type": "execute_result"
    }
   ],
   "source": [
    "s = '[string _ here]'"
   ]
  },
  {
   "cell_type": "code",
   "execution_count": null,
   "metadata": {},
   "outputs": [],
   "source": []
  }
 ],
 "metadata": {
  "kernelspec": {
   "display_name": "Python 3",
   "language": "python",
   "name": "python3"
  },
  "language_info": {
   "codemirror_mode": {
    "name": "ipython",
    "version": 3
   },
   "file_extension": ".py",
   "mimetype": "text/x-python",
   "name": "python",
   "nbconvert_exporter": "python",
   "pygments_lexer": "ipython3",
   "version": "3.6.8"
  }
 },
 "nbformat": 4,
 "nbformat_minor": 2
}
